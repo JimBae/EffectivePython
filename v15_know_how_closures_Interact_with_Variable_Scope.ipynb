{
 "cells": [
  {
   "cell_type": "markdown",
   "metadata": {},
   "source": [
    "Say you want to sort a list of numbers but prioritize one group of numbers to come first.\n",
    "This pattern is useful when you’re rendering a user interface and want important messages\n",
    "or exceptional events to be displayed before everything else.\n",
    "\n",
    "A common way to do this is to pass a helper function as the key argument to a list’s sort method. The helper’s return value will be used as the value for sorting each item in\n",
    "the list. The helper can check whether the given item is in the important group and can\n",
    "vary the sort key accordingly.\n",
    "\n"
   ]
  },
  {
   "cell_type": "code",
   "execution_count": 3,
   "metadata": {},
   "outputs": [
    {
     "name": "stdout",
     "output_type": "stream",
     "text": [
      "[2, 3, 5, 7, 1, 4, 6, 8]\n"
     ]
    }
   ],
   "source": [
    "import logging\n",
    "from pprint import pprint\n",
    "from sys import stdout as STDOUT\n",
    "\n",
    "\n",
    "# Example 1\n",
    "def sort_priority(values, group):\n",
    "    def helper(x):\n",
    "        if x in group:\n",
    "            return (0, x)\n",
    "        return (1, x)\n",
    "    values.sort(key=helper)\n",
    "    \n",
    "numbers = [8, 3, 1, 2, 5, 4, 7, 6]\n",
    "group = {2, 3, 5, 7}\n",
    "sort_priority(numbers, group)\n",
    "print(numbers)"
   ]
  },
  {
   "cell_type": "markdown",
   "metadata": {},
   "source": [
    "There are three reasons why this function operates as expected\n",
    "\n",
    "1. Python supports closures: functions that refer to variables from the scope in which they were defined. This is why the helper function is able to access the group argument to  sort_priority.\n",
    "2. Functions are first-class objects in Python, meaning you can refer to them directly, assign them to variables, pass them as arguments to other functions, compare them in expressions and if statements, etc. This is how the sort method can accept a closure function as the key argument.\n",
    "3. Python has specific rules for comparing tuples. It first compares items in index zero, then index one, then index two, and so on. This is why the return value from the helper closure causes the sort order to have two distinct groups.\n",
    "\n",
    "\n",
    "The sorted results are correct, but the found result is wrong. Items from group were\n",
    "definitely found in numbers, but the function returned False. How could this happen?\n",
    "\n",
    "When you reference a variable in an expression, the Python interpreter will traverse the\n",
    "scope to resolve the reference in this order:\n",
    "1. The current function’s scope\n",
    "2. Any enclosing scopes (like other containing functions)\n",
    "3. The scope of the module that contains the code (also called the global scope)\n",
    "4. The built-in scope (that contains functions like len and str)\n",
    "\n"
   ]
  },
  {
   "cell_type": "code",
   "execution_count": 9,
   "metadata": {},
   "outputs": [
    {
     "name": "stdout",
     "output_type": "stream",
     "text": [
      "Found: False\n",
      "[2, 3, 5, 7, 1, 4, 6, 8]\n"
     ]
    }
   ],
   "source": [
    "def sort_priority2(numbers, group):\n",
    "    found = False\n",
    "    def helper(x):\n",
    "        if x in group:\n",
    "            found = True  # Seems simple\n",
    "            return (0, x)\n",
    "        return (1, x)\n",
    "    numbers.sort(key=helper)\n",
    "    return found\n",
    "\n",
    "found = sort_priority2(numbers, group)\n",
    "print('Found:', found)\n",
    "print(numbers)\n",
    "\n",
    "\n",
    "\n",
    "# Example 5\n",
    "def sort_priority2(numbers, group):\n",
    "    found = False         # Scope: 'sort_priority2'\n",
    "    def helper(x):\n",
    "        if x in group:\n",
    "            found = True  # Scope: 'helper' -- Bad!\n",
    "            return (0, x)\n",
    "        return (1, x)\n",
    "    numbers.sort(key=helper)\n",
    "    return found"
   ]
  },
  {
   "cell_type": "markdown",
   "metadata": {},
   "source": [
    "In Python 3, there is special syntax for getting data out of a closure. The nonlocal\n",
    "statement is used to indicate that scope traversal should happen upon assignment for a\n",
    "specific variable name. The only limit is that nonlocal won’t traverse up to the modulelevel\n",
    "scope (to avoid polluting globals)."
   ]
  },
  {
   "cell_type": "code",
   "execution_count": 7,
   "metadata": {},
   "outputs": [
    {
     "name": "stdout",
     "output_type": "stream",
     "text": [
      "Found: True\n",
      "[2, 3, 5, 7, 1, 4, 6, 8]\n"
     ]
    }
   ],
   "source": [
    "def sort_priority3(numbers, group):\n",
    "    found = False\n",
    "    def helper(x):\n",
    "        nonlocal found\n",
    "        if x in group:\n",
    "            found = True\n",
    "            return (0, x)\n",
    "        return (1, x)\n",
    "    numbers.sort(key=helper)\n",
    "    return found\n",
    "\n",
    "found = sort_priority3(numbers, group)\n",
    "print('Found:', found)\n",
    "print(numbers)\n"
   ]
  },
  {
   "cell_type": "markdown",
   "metadata": {},
   "source": [
    "The nonlocal statement makes it clear when data is being assigned out of a closure into\n",
    "another scope. It’s complementary to the global statement, which indicates that a\n",
    "variable’s assignment should go directly into the module scope.\n",
    "However, much like the anti-pattern of global variables, I’d caution against using\n",
    "nonlocal for anything beyond simple functions. The side effects of nonlocal can be\n",
    "hard to follow. It’s especially hard to understand in long functions where the nonlocal\n",
    "statements and assignments to associated variables are far apart.\n",
    "When your usage of nonlocal starts getting complicated, it’s better to wrap your state\n",
    "in a helper class. Here, I define a class that achieves the same result as the nonlocal\n",
    "approach. It’s a little longer, but is much easier to read (see Item 23: “Accept Functions for\n",
    "Simple Interfaces Instead of Classes” for details on the __call__ special method).\n"
   ]
  },
  {
   "cell_type": "code",
   "execution_count": 8,
   "metadata": {},
   "outputs": [
    {
     "name": "stdout",
     "output_type": "stream",
     "text": [
      "Found: True\n",
      "[2, 3, 5, 7, 1, 4, 6, 8]\n"
     ]
    }
   ],
   "source": [
    "class Sorter(object):\n",
    "    def __init__(self, group):\n",
    "        self.group = group\n",
    "        self.found = False\n",
    "\n",
    "    def __call__(self, x):\n",
    "        if x in self.group:\n",
    "            self.found = True\n",
    "            return (0, x)\n",
    "        return (1, x)\n",
    "\n",
    "sorter = Sorter(group)\n",
    "numbers.sort(key=sorter)\n",
    "assert sorter.found is True\n",
    "print('Found:', found)\n",
    "print(numbers)"
   ]
  },
  {
   "cell_type": "markdown",
   "metadata": {},
   "source": [
    "* Cosure functions can refer to variables from any of the scopes in which they were defined.\n",
    "* By default, closures can’t affect enclosing scopes by assigning variables.\n",
    "* In Python 3, use the nonlocal statement to indicate when a closure can modify a variable in its enclosing scopes.\n",
    "* In Python 2, use a mutable value (like a single-item list) to work around the lack of the nonlocal statement.\n",
    "* Avoid using nonlocal statements for anything beyond simple functions.\n"
   ]
  }
 ],
 "metadata": {
  "kernelspec": {
   "display_name": "Python 3",
   "language": "python",
   "name": "python3"
  },
  "language_info": {
   "codemirror_mode": {
    "name": "ipython",
    "version": 3
   },
   "file_extension": ".py",
   "mimetype": "text/x-python",
   "name": "python",
   "nbconvert_exporter": "python",
   "pygments_lexer": "ipython3",
   "version": "3.6.3"
  }
 },
 "nbformat": 4,
 "nbformat_minor": 2
}

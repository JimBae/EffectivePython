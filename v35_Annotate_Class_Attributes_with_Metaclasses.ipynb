{
 "cells": [
  {
   "cell_type": "markdown",
   "metadata": {},
   "source": [
    "One more useful feature enabled by metaclasses is the ability to modify or annotate\n",
    "properties after a class is defined but before the class is actually used. This approach is\n",
    "commonly used with descriptors (see Item 31: “Use Descriptors for Reusable\n",
    "@property Methods”) to give them more introspection into how they’re being used\n",
    "within their containing class.\n",
    "\n",
    "For example, say you want to define a new class that represents a row in your customer\n",
    "database. You’d like a corresponding property on the class for each column in the database\n",
    "table. To do this, here I define a descriptor class to connect attributes to column names.\n",
    "\n"
   ]
  },
  {
   "cell_type": "code",
   "execution_count": 1,
   "metadata": {},
   "outputs": [
    {
     "name": "stdout",
     "output_type": "stream",
     "text": [
      "Before: '' {}\n",
      "After:  'Euclid' {'_first_name': 'Euclid'}\n"
     ]
    }
   ],
   "source": [
    "import logging\n",
    "from pprint import pprint\n",
    "from sys import stdout as STDOUT\n",
    "\n",
    "\n",
    "# Example 1\n",
    "class Field(object):\n",
    "    def __init__(self, name):\n",
    "        self.name = name\n",
    "        self.internal_name = '_' + self.name\n",
    "\n",
    "    def __get__(self, instance, instance_type):\n",
    "        if instance is None: return self\n",
    "        return getattr(instance, self.internal_name, '')\n",
    "\n",
    "    def __set__(self, instance, value):\n",
    "        setattr(instance, self.internal_name, value)\n"
   ]
  },
  {
   "cell_type": "markdown",
   "metadata": {},
   "source": [
    "With the column name stored in the Field descriptor, I can save all of the per-instance\n",
    "state directly in the instance dictionary as protected fields using the setattr and\n",
    "getattr built-in functions. At first, this seems to be much more convenient than\n",
    "building descriptors with weakref to avoid memory leaks.\n",
    "Defining the class representing a row requires supplying the column name for each class\n",
    "attribute.\n",
    "\n",
    "Using the class is simple. Here, you can see how the Field descriptors modify the\n",
    "instance dictionary __dict__ as expected:"
   ]
  },
  {
   "cell_type": "code",
   "execution_count": null,
   "metadata": {
    "collapsed": true
   },
   "outputs": [],
   "source": [
    "# Example 2\n",
    "class Customer(object):\n",
    "    # Class attributes\n",
    "    first_name = Field('first_name')\n",
    "    last_name = Field('last_name')\n",
    "    prefix = Field('prefix')\n",
    "    suffix = Field('suffix')\n",
    "\n",
    "\n",
    "# Example 3\n",
    "foo = Customer()\n",
    "print('Before:', repr(foo.first_name), foo.__dict__)\n",
    "foo.first_name = 'Euclid'\n",
    "print('After: ', repr(foo.first_name), foo.__dict__)"
   ]
  },
  {
   "cell_type": "markdown",
   "metadata": {},
   "source": [
    "But it seems redundant. I already declared the name of the field when I assigned the\n",
    "constructed Field object to Customer.first_name in the class statement body.\n",
    "Why do I also have to pass the field name ('first_name' in this case) to the Field\n",
    "constructor?\n",
    "\n",
    "The problem is that the order of operations in the Customer class definition is the\n",
    "opposite of how it reads from left to right. First, the Field constructor is called as\n",
    "Field('first_name'). Then, the return value of that is assigned to\n",
    "Customer.field_name. There’s no way for the Field to know upfront which class\n",
    "attribute it will be assigned to.\n",
    "\n",
    "To eliminate the redundancy, I can use a metaclass. Metaclasses let you hook the class\n",
    "statement directly and take action as soon as a class body is finished. In this case, I can\n",
    "use the metaclass to assign Field.name and Field.internal_name on the\n",
    "descriptor automatically instead of manually specifying the field name multiple times.\n",
    "\n",
    "\n"
   ]
  },
  {
   "cell_type": "code",
   "execution_count": null,
   "metadata": {
    "collapsed": true
   },
   "outputs": [],
   "source": [
    "# Example 4\n",
    "class Meta(type):\n",
    "    def __new__(meta, name, bases, class_dict):\n",
    "        for key, value in class_dict.items():\n",
    "            if isinstance(value, Field):\n",
    "                value.name = key\n",
    "                value.internal_name = '_' + key\n",
    "        cls = type.__new__(meta, name, bases, class_dict)\n",
    "        return cls\n"
   ]
  },
  {
   "cell_type": "markdown",
   "metadata": {},
   "source": [
    "Here, I define a base class that uses the metaclass. All classes representing database rows\n",
    "should inherit from this class to ensure that they use the metaclass\n",
    "\n",
    "To work with the metaclass, the field descriptor is largely unchanged. The only difference\n",
    "is that it no longer requires any arguments to be passed to its constructor. Instead, its\n",
    "attributes are set by the Meta.__new__ method above.\n",
    "\n",
    "By using the metaclass, the new DatabaseRow base class, and the new Field\n",
    "descriptor, the class definition for a database row no longer has the redundancy from\n",
    "before."
   ]
  },
  {
   "cell_type": "code",
   "execution_count": 2,
   "metadata": {},
   "outputs": [
    {
     "name": "stdout",
     "output_type": "stream",
     "text": [
      "Before: '' {}\n",
      "After:  'Euler' {'_first_name': 'Euler'}\n"
     ]
    }
   ],
   "source": [
    "# Example 5\n",
    "class DatabaseRow(object, metaclass=Meta):\n",
    "    pass\n",
    "\n",
    "\n",
    "# Example 6\n",
    "class Field(object):\n",
    "    def __init__(self):\n",
    "        # These will be assigned by the metaclass.\n",
    "        self.name = None\n",
    "        self.internal_name = None\n",
    "    def __get__(self, instance, instance_type):\n",
    "        if instance is None: return self\n",
    "        return getattr(instance, self.internal_name, '')\n",
    "\n",
    "    def __set__(self, instance, value):\n",
    "        setattr(instance, self.internal_name, value)\n",
    "\n",
    "\n",
    "# Example 7\n",
    "class BetterCustomer(DatabaseRow):\n",
    "    first_name = Field()\n",
    "    last_name = Field()\n",
    "    prefix = Field()\n",
    "    suffix = Field()\n",
    "\n",
    "\n",
    "# Example 8\n",
    "foo = BetterCustomer()\n",
    "print('Before:', repr(foo.first_name), foo.__dict__)\n",
    "foo.first_name = 'Euler'\n",
    "print('After: ', repr(foo.first_name), foo.__dict__)"
   ]
  },
  {
   "cell_type": "markdown",
   "metadata": {},
   "source": [
    "* Metaclasses enable you to modify a class’s attributes before the class is fully defined.\n",
    "* Descriptors and metaclasses make a powerful combination for declarative behavior and runtime introspection.\n",
    "* You can avoid both memory leaks and the weakref module by using metaclasses along with descriptors."
   ]
  }
 ],
 "metadata": {
  "kernelspec": {
   "display_name": "Python 3",
   "language": "python",
   "name": "python3"
  },
  "language_info": {
   "codemirror_mode": {
    "name": "ipython",
    "version": 3
   },
   "file_extension": ".py",
   "mimetype": "text/x-python",
   "name": "python",
   "nbconvert_exporter": "python",
   "pygments_lexer": "ipython3",
   "version": "3.6.3"
  }
 },
 "nbformat": 4,
 "nbformat_minor": 2
}

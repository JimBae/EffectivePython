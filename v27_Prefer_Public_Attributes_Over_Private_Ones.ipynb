{
 "cells": [
  {
   "cell_type": "markdown",
   "metadata": {},
   "source": []
  },
  {
   "cell_type": "code",
   "execution_count": 2,
   "metadata": {},
   "outputs": [],
   "source": [
    "import logging\n",
    "from pprint import pprint\n",
    "from sys import stdout as STDOUT\n",
    "\n",
    "\n",
    "# Example 1\n",
    "class MyObject(object):\n",
    "    def __init__(self):\n",
    "        self.public_field = 5\n",
    "        self.__private_field = 10\n",
    "\n",
    "    def get_private_field(self):\n",
    "        return self.__private_field\n",
    "\n",
    "\n",
    "# Example 2\n",
    "foo = MyObject()\n",
    "assert foo.public_field == 5\n",
    "\n",
    "\n",
    "# Example 3\n",
    "assert foo.get_private_field() == 10\n",
    "\n"
   ]
  },
  {
   "cell_type": "code",
   "execution_count": 3,
   "metadata": {},
   "outputs": [
    {
     "name": "stderr",
     "output_type": "stream",
     "text": [
      "ERROR:root:Expected\n",
      "Traceback (most recent call last):\n",
      "  File \"<ipython-input-3-0937af290866>\", line 3, in <module>\n",
      "    foo.__private_field\n",
      "AttributeError: 'MyObject' object has no attribute '__private_field'\n"
     ]
    }
   ],
   "source": [
    "# Example 4\n",
    "try:\n",
    "    foo.__private_field\n",
    "except:\n",
    "    logging.exception('Expected')\n",
    "else:\n",
    "    assert False"
   ]
  },
  {
   "cell_type": "code",
   "execution_count": 4,
   "metadata": {
    "collapsed": true
   },
   "outputs": [],
   "source": [
    "# Example 5\n",
    "class MyOtherObject(object):\n",
    "    def __init__(self):\n",
    "        self.__private_field = 71\n",
    "\n",
    "    @classmethod\n",
    "    def get_private_field_of_instance(cls, instance):\n",
    "        return instance.__private_field\n",
    "\n",
    "bar = MyOtherObject()\n",
    "assert MyOtherObject.get_private_field_of_instance(bar) == 71"
   ]
  },
  {
   "cell_type": "code",
   "execution_count": 5,
   "metadata": {},
   "outputs": [
    {
     "name": "stderr",
     "output_type": "stream",
     "text": [
      "ERROR:root:Expected\n",
      "Traceback (most recent call last):\n",
      "  File \"<ipython-input-5-5b70d19a27b0>\", line 12, in <module>\n",
      "    baz.get_private_field()\n",
      "  File \"<ipython-input-5-5b70d19a27b0>\", line 9, in get_private_field\n",
      "    return self.__private_field\n",
      "AttributeError: 'MyChildObject' object has no attribute '_MyChildObject__private_field'\n"
     ]
    },
    {
     "name": "stdout",
     "output_type": "stream",
     "text": [
      "{'_MyParentObject__private_field': 71}\n"
     ]
    }
   ],
   "source": [
    "# Example 6\n",
    "try:\n",
    "    class MyParentObject(object):\n",
    "        def __init__(self):\n",
    "            self.__private_field = 71\n",
    "    \n",
    "    class MyChildObject(MyParentObject):\n",
    "        def get_private_field(self):\n",
    "            return self.__private_field\n",
    "    \n",
    "    baz = MyChildObject()\n",
    "    baz.get_private_field()\n",
    "except:\n",
    "    logging.exception('Expected')\n",
    "else:\n",
    "    assert False\n",
    "\n"
   ]
  },
  {
   "cell_type": "code",
   "execution_count": 6,
   "metadata": {},
   "outputs": [
    {
     "name": "stdout",
     "output_type": "stream",
     "text": [
      "{'_MyParentObject__private_field': 71}\n"
     ]
    }
   ],
   "source": [
    "\n",
    "# Example 7\n",
    "assert baz._MyParentObject__private_field == 71\n",
    "\n",
    "\n",
    "# Example 8\n",
    "print(baz.__dict__)\n"
   ]
  },
  {
   "cell_type": "code",
   "execution_count": 7,
   "metadata": {
    "collapsed": true
   },
   "outputs": [],
   "source": [
    "# Example 9\n",
    "class MyClass(object):\n",
    "    def __init__(self, value):\n",
    "        self.__value = value\n",
    "\n",
    "    def get_value(self):\n",
    "        return str(self.__value)\n",
    "\n",
    "foo = MyClass(5)\n",
    "assert foo.get_value() == '5'\n",
    "\n"
   ]
  },
  {
   "cell_type": "markdown",
   "metadata": {},
   "source": [
    "The __value attribute is now assigned in the MyBaseClass parent class, not the\n",
    "MyClass parent. That causes the private variable reference self._MyClass__value\n",
    "to break in MyIntegerSubclass."
   ]
  },
  {
   "cell_type": "code",
   "execution_count": 8,
   "metadata": {
    "collapsed": true
   },
   "outputs": [],
   "source": [
    "# Example 10\n",
    "class MyIntegerSubclass(MyClass):\n",
    "    def get_value(self):\n",
    "        return int(self._MyClass__value)\n",
    "\n",
    "foo = MyIntegerSubclass(5)\n",
    "assert foo.get_value() == 5\n",
    "\n"
   ]
  },
  {
   "cell_type": "markdown",
   "metadata": {},
   "source": [
    "In general, it’s better to err on the side of allowing subclasses to do more by using\n",
    "protected attributes. Document each protected field and explain which are internal APIs\n",
    "available to subclasses and which should be left alone entirely. This is as much advice to\n",
    "other programmers as it is guidance for your future self on how to extend your own code\n",
    "safely.\n",
    "\n",
    "The only time to seriously consider using private attributes is when you’re worried about\n",
    "naming conflicts with subclasses. This problem occurs when a child class unwittingly\n",
    "defines an attribute that was already defined by its parent class.\n"
   ]
  },
  {
   "cell_type": "code",
   "execution_count": 9,
   "metadata": {
    "collapsed": true
   },
   "outputs": [],
   "source": [
    "\n",
    "# Example 11\n",
    "class MyBaseClass(object):\n",
    "    def __init__(self, value):\n",
    "        self.__value = value\n",
    "\n",
    "    def get_value(self):\n",
    "        return self.__value\n",
    "\n",
    "class MyClass(MyBaseClass):\n",
    "    def get_value(self):\n",
    "        return str(super().get_value())\n",
    "\n",
    "class MyIntegerSubclass(MyClass):\n",
    "    def get_value(self):\n",
    "        return int(self._MyClass__value)"
   ]
  },
  {
   "cell_type": "code",
   "execution_count": 10,
   "metadata": {},
   "outputs": [
    {
     "name": "stderr",
     "output_type": "stream",
     "text": [
      "ERROR:root:Expected\n",
      "Traceback (most recent call last):\n",
      "  File \"<ipython-input-10-069ebd71a80b>\", line 4, in <module>\n",
      "    foo.get_value()\n",
      "  File \"<ipython-input-9-5cd9ff56c9f1>\", line 16, in get_value\n",
      "    return int(self._MyClass__value)\n",
      "AttributeError: 'MyIntegerSubclass' object has no attribute '_MyClass__value'\n"
     ]
    }
   ],
   "source": [
    "# Example 12\n",
    "try:\n",
    "    foo = MyIntegerSubclass(5)\n",
    "    foo.get_value()\n",
    "except:\n",
    "    logging.exception('Expected')\n",
    "else:\n",
    "    assert False"
   ]
  },
  {
   "cell_type": "code",
   "execution_count": 12,
   "metadata": {
    "collapsed": true
   },
   "outputs": [],
   "source": [
    "# Example 13\n",
    "class MyClass(object):\n",
    "    def __init__(self, value):\n",
    "        # This stores the user-supplied value for the object.\n",
    "        # It should be coercible to a string. Once assigned for\n",
    "        # the object it should be treated as immutable.\n",
    "        self._value = value\n",
    "\n",
    "    def get_value(self):\n",
    "        return str(self._value)\n",
    "    \n",
    "class MyIntegerSubclass(MyClass):\n",
    "    def get_value(self):\n",
    "        return self._value\n",
    "\n",
    "foo = MyIntegerSubclass(5)\n",
    "assert foo.get_value() == 5\n"
   ]
  },
  {
   "cell_type": "markdown",
   "metadata": {},
   "source": [
    "This is primarily a concern with classes that are part of a public API; the subclasses are\n",
    "out of your control, so you can’t refactor to fix the problem. Such a conflict is especially\n",
    "possible with attribute names that are very common (like value). To reduce the risk of\n",
    "this happening, you can use a private attribute in the parent class to ensure that there are\n",
    "no attribute names that overlap with child classes."
   ]
  },
  {
   "cell_type": "code",
   "execution_count": 13,
   "metadata": {},
   "outputs": [
    {
     "name": "stdout",
     "output_type": "stream",
     "text": [
      "hello and hello should be different\n"
     ]
    }
   ],
   "source": [
    "# Example 14\n",
    "class ApiClass(object):\n",
    "    def __init__(self):\n",
    "        self._value = 5\n",
    "\n",
    "    def get(self):\n",
    "        return self._value\n",
    "\n",
    "class Child(ApiClass):\n",
    "    def __init__(self):\n",
    "        super().__init__()\n",
    "        self._value = 'hello'  # Conflicts\n",
    "\n",
    "a = Child()\n",
    "print(a.get(), 'and', a._value, 'should be different')"
   ]
  },
  {
   "cell_type": "code",
   "execution_count": 14,
   "metadata": {},
   "outputs": [
    {
     "name": "stdout",
     "output_type": "stream",
     "text": [
      "5 and hello are different\n"
     ]
    }
   ],
   "source": [
    "# Example 15\n",
    "class ApiClass(object):\n",
    "    def __init__(self):\n",
    "        self.__value = 5\n",
    "\n",
    "    def get(self):\n",
    "        return self.__value\n",
    "\n",
    "class Child(ApiClass):\n",
    "    def __init__(self):\n",
    "        super().__init__()\n",
    "        self._value = 'hello'  # OK!\n",
    "\n",
    "a = Child()\n",
    "print(a.get(), 'and', a._value, 'are different')"
   ]
  },
  {
   "cell_type": "markdown",
   "metadata": {},
   "source": [
    "* Private attributes aren’t rigorously enforced by the Python compiler.\n",
    "* Plan from the beginning to allow subclasses to do more with your internal APIs and attributes instead of locking them out by default.\n",
    "* Use documentation of protected fields to guide subclasses instead of trying to force access control with private attributes.\n",
    "* Only consider using private attributes to avoid naming conflicts with subclasses that are out of your control."
   ]
  }
 ],
 "metadata": {
  "kernelspec": {
   "display_name": "Python 3",
   "language": "python",
   "name": "python3"
  },
  "language_info": {
   "codemirror_mode": {
    "name": "ipython",
    "version": 3
   },
   "file_extension": ".py",
   "mimetype": "text/x-python",
   "name": "python",
   "nbconvert_exporter": "python",
   "pygments_lexer": "ipython3",
   "version": "3.6.3"
  }
 },
 "nbformat": 4,
 "nbformat_minor": 2
}

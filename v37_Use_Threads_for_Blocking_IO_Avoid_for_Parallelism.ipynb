{
 "cells": [
  {
   "cell_type": "markdown",
   "metadata": {},
   "source": [
    "The standard implementation of Python is called CPython. CPython runs a Python program in two steps. First, it parses and compiles the source text into bytecode. Then, it runs the bytecode using a stack-based interpreter. The bytecode interpreter has state that must be maintained and coherent while the Python program executes. Python enforces coherence with a mechanism called the global interpreter lock (GIL).\n",
    "\n",
    "Essentially, the GIL is a mutual-exclusion lock (mutex) that prevents CPython from being\n",
    "affected by preemptive multithreading, where one thread takes control of a program by\n",
    "interrupting another thread. Such an interruption could corrupt the interpreter state if it\n",
    "comes at an unexpected time. The GIL prevents these interruptions and ensures that every\n",
    "bytecode instruction works correctly with the CPython implementation and its Cextension\n",
    "modules.\n",
    "\n",
    "The GIL has an important negative side effect. With programs written in languages like\n",
    "C++ or Java, having multiple threads of execution means your program could utilize\n",
    "multiple CPU cores at the same time. Although Python supports multiple threads of\n",
    "execution, the GIL causes only one of them to make forward progress at a time. This\n",
    "means that when you reach for threads to do parallel computation and speed up your\n",
    "Python programs, you will be sorely disappointed.\n",
    "\n",
    "For example, say you want to do something computationally intensive with Python. I’ll\n",
    "use a naive number factorization algorithm as a proxy.\n",
    "\n"
   ]
  },
  {
   "cell_type": "code",
   "execution_count": 1,
   "metadata": {},
   "outputs": [
    {
     "name": "stdout",
     "output_type": "stream",
     "text": [
      "Took 0.469 seconds\n"
     ]
    }
   ],
   "source": [
    "# Preamble to mimick book environment\n",
    "import logging\n",
    "from pprint import pprint\n",
    "from sys import stdout as STDOUT\n",
    "\n",
    "\n",
    "# Example 1\n",
    "def factorize(number):\n",
    "    for i in range(1, number + 1):\n",
    "        if number % i == 0:\n",
    "            yield i\n",
    "\n",
    "\n",
    "# Example 2\n",
    "from time import time\n",
    "numbers = [2139079, 1214759, 1516637, 1852285]\n",
    "start = time()\n",
    "for number in numbers:\n",
    "    list(factorize(number))\n",
    "end = time()\n",
    "print('Took %.3f seconds' % (end - start))"
   ]
  },
  {
   "cell_type": "markdown",
   "metadata": {},
   "source": [
    "Using multiple threads to do this computation would make sense in other languages\n",
    "because you could take advantage of all of the CPU cores of your computer. Let me try\n",
    "that in Python. Here, I define a Python thread for doing the same computation as before:\n"
   ]
  },
  {
   "cell_type": "code",
   "execution_count": 2,
   "metadata": {},
   "outputs": [
    {
     "name": "stdout",
     "output_type": "stream",
     "text": [
      "Took 0.468 seconds\n"
     ]
    }
   ],
   "source": [
    "# Example 3\n",
    "from threading import Thread\n",
    "\n",
    "class FactorizeThread(Thread):\n",
    "    def __init__(self, number):\n",
    "        super().__init__()\n",
    "        self.number = number\n",
    "\n",
    "    def run(self):\n",
    "        self.factors = list(factorize(self.number))\n",
    "\n",
    "\n",
    "# Example 4\n",
    "start = time()\n",
    "threads = []\n",
    "for number in numbers:\n",
    "    thread = FactorizeThread(number)\n",
    "    thread.start()\n",
    "    threads.append(thread)\n",
    "\n",
    "\n",
    "# Example 5\n",
    "for thread in threads:\n",
    "    thread.join()\n",
    "end = time()\n",
    "print('Took %.3f seconds' % (end - start))\n",
    "\n"
   ]
  },
  {
   "cell_type": "markdown",
   "metadata": {},
   "source": [
    "What’s surprising is that this takes even longer than running factorize in serial. With\n",
    "one thread per number, you may expect less than a 4× speedup in other languages due to\n",
    "the overhead of creating threads and coordinating with them. You may expect only a 2×\n",
    "speedup on the dual-core machine I used to run this code. But you would never expect the\n",
    "performance of these threads to be worse when you have multiple CPUs to utilize. This\n",
    "demonstrates the effect of the GIL on programs running in the standard CPython\n",
    "interpreter.\n",
    "\n",
    "There are ways to get CPython to utilize multiple cores, but it doesn’t work with the\n",
    "standard Thread class (see Item 41: “Consider concurrent.futures for True\n",
    "Parallelism”) and it can require substantial effort. Knowing these limitations you may\n",
    "wonder, why does Python support threads at all? There are two good reasons.\n",
    "\n",
    "First, multiple threads make it easy for your program to seem like it’s doing multiple\n",
    "things at the same time. Managing the juggling act of simultaneous tasks is difficult to\n",
    "implement yourself (see Item 40: “Consider Coroutines to Run Many Functions\n",
    "Concurrently” for an example). With threads, you can leave it to Python to run your\n",
    "functions seemingly in parallel. This works because CPython ensures a level of fairness\n",
    "between Python threads of execution, even though only one of them makes forward\n",
    "progress at a time due to the GIL.\n",
    "\n",
    "The second reason Python supports threads is to deal with blocking I/O, which happens\n",
    "when Python does certain types of system calls. System calls are how your Python\n",
    "program asks your computer’s operating system to interact with the external environment\n",
    "on your behalf. Blocking I/O includes things like reading and writing files, interacting\n",
    "with networks, communicating with devices like displays, etc. Threads help you handle\n",
    "blocking I/O by insulating your program from the time it takes for the operating system to\n",
    "respond to your requests.\n",
    "\n",
    "For example, say you want to send a signal to a remote-controlled helicopter through a\n",
    "serial port. I’ll use a slow system call (select) as a proxy for this activity. This function\n",
    "asks the operating system to block for 0.1 second and then return control to my program,\n",
    "similar to what would happen when using a synchronous serial port."
   ]
  },
  {
   "cell_type": "code",
   "execution_count": 3,
   "metadata": {},
   "outputs": [
    {
     "name": "stdout",
     "output_type": "stream",
     "text": [
      "Took 0.507 seconds\n"
     ]
    }
   ],
   "source": [
    "# Example 6\n",
    "import select, socket\n",
    "\n",
    "# Creating the socket is specifically to support Windows. Windows can't do\n",
    "# a select call with an empty list.\n",
    "def slow_systemcall():\n",
    "    select.select([socket.socket()], [], [], 0.1)\n",
    "\n",
    "\n",
    "# Example 7\n",
    "start = time()\n",
    "for _ in range(5):\n",
    "    slow_systemcall()\n",
    "end = time()\n",
    "print('Took %.3f seconds' % (end - start))\n",
    "\n"
   ]
  },
  {
   "cell_type": "markdown",
   "metadata": {},
   "source": [
    "The problem is that while the slow_systemcall function is running, my program\n",
    "can’t make any other progress. My program’s main thread of execution is blocked on the\n",
    "select system call. This situation is awful in practice. You need to be able to compute\n",
    "your helicopter’s next move while you’re sending it a signal, otherwise it’ll crash. When\n",
    "you find yourself needing to do blocking I/O and computation simultaneously, it’s time to\n",
    "consider moving your system calls to threads.\n",
    "\n",
    "Here, I run multiple invocations of the slow_systemcall function in separate threads.\n",
    "This would allow you to communicate with multiple serial ports (and helicopters) at the\n",
    "same time, while leaving the main thread to do whatever computation is required.\n",
    "\n"
   ]
  },
  {
   "cell_type": "code",
   "execution_count": null,
   "metadata": {
    "collapsed": true
   },
   "outputs": [],
   "source": [
    "# Example 8\n",
    "start = time()\n",
    "threads = []\n",
    "for _ in range(5):\n",
    "    thread = Thread(target=slow_systemcall)\n",
    "    thread.start()\n",
    "    threads.append(thread)\n"
   ]
  },
  {
   "cell_type": "markdown",
   "metadata": {},
   "source": [
    "With the threads started, here I do some work to calculate the next helicopter move before\n",
    "waiting for the system call threads to finish.\n",
    "\n",
    "\n",
    "The parallel time is 5× less than the serial time. This shows that the system calls will all\n",
    "run in parallel from multiple Python threads even though they’re limited by the GIL. The\n",
    "GIL prevents my Python code from running in parallel, but it has no negative effect on\n",
    "system calls. This works because Python threads release the GIL just before they make\n",
    "system calls and reacquire the GIL as soon as the system calls are done.\n",
    "\n",
    "There are many other ways to deal with blocking I/O besides threads, such as the\n",
    "asyncio built-in module, and these alternatives have important benefits. But these\n",
    "options also require extra work in refactoring your code to fit a different model of\n",
    "execution (see Item 40: “Consider Coroutines to Run Many Functions Concurrently”).\n",
    "Using threads is the simplest way to do blocking I/O in parallel with minimal changes to\n",
    "your program."
   ]
  },
  {
   "cell_type": "code",
   "execution_count": 4,
   "metadata": {},
   "outputs": [
    {
     "name": "stdout",
     "output_type": "stream",
     "text": [
      "Took 31.915 seconds\n"
     ]
    }
   ],
   "source": [
    "\n",
    "# Example 9\n",
    "def compute_helicopter_location(index):\n",
    "    pass\n",
    "\n",
    "for i in range(5):\n",
    "    compute_helicopter_location(i)\n",
    "for thread in threads:\n",
    "    thread.join()\n",
    "end = time()\n",
    "print('Took %.3f seconds' % (end - start))"
   ]
  },
  {
   "cell_type": "markdown",
   "metadata": {},
   "source": [
    "* Python threads can’t run bytecode in parallel on multiple CPU cores because of the global interpreter lock (GIL).\n",
    "* Python threads are still useful despite the GIL because they provide an easy way to do multiple things at seemingly the same time. \n",
    "* Use Python threads to make multiple system calls in parallel. This allows you to do blocking I/O at the same time as computation."
   ]
  }
 ],
 "metadata": {
  "kernelspec": {
   "display_name": "Python 3",
   "language": "python",
   "name": "python3"
  },
  "language_info": {
   "codemirror_mode": {
    "name": "ipython",
    "version": 3
   },
   "file_extension": ".py",
   "mimetype": "text/x-python",
   "name": "python",
   "nbconvert_exporter": "python",
   "pygments_lexer": "ipython3",
   "version": "3.6.3"
  }
 },
 "nbformat": 4,
 "nbformat_minor": 2
}

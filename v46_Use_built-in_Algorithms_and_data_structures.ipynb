{
 "cells": [
  {
   "cell_type": "markdown",
   "metadata": {},
   "source": [
    "When you’re implementing Python programs that handle a non-trivial amount of data,\n",
    "you’ll eventually see slowdowns caused by the algorithmic complexity of your code. This\n",
    "usually isn’t the result of Python’s speed as a language (see Item 41: “Consider\n",
    "concurrent.futures for True Parallelism” if it is). The issue, more likely, is that\n",
    "you aren’t using the best algorithms and data structures for your problem.\n",
    "\n",
    "Luckily, the Python standard library has many of the algorithms and data structures you’ll\n",
    "need to use built in. Besides speed, using these common algorithms and data structures\n",
    "can make your life easier. Some of the most valuable tools you may want to use are tricky\n",
    "to implement correctly. Avoiding reimplementation of common functionality will save you\n",
    "time and headaches."
   ]
  },
  {
   "cell_type": "markdown",
   "metadata": {},
   "source": [
    "## Double-ended Queue\n",
    "\n",
    "The deque class from the collections module is a double-ended queue. It provides\n",
    "constant time operations for inserting or removing items from its beginning or end. This\n",
    "makes it ideal for first-in-first-out (FIFO) queues.\n"
   ]
  },
  {
   "cell_type": "code",
   "execution_count": null,
   "metadata": {},
   "outputs": [],
   "source": [
    "# Preamble to mimick book environment\n",
    "import logging\n",
    "from pprint import pprint\n",
    "from sys import stdout as STDOUT\n",
    "\n",
    "# Example 1\n",
    "from collections import deque\n",
    "fifo = deque()\n",
    "fifo.append(1)      # Producer\n",
    "fifo.append(2)\n",
    "fifo.append(3)\n",
    "x = fifo.popleft()  # Consumer\n",
    "print(x)\n"
   ]
  },
  {
   "cell_type": "markdown",
   "metadata": {},
   "source": [
    "## Ordered Dictionary\n",
    "\n",
    "### Ex 2\n",
    "Standard dictionaries are unordered. That means a dict with the same keys and values\n",
    "can result in different orders of iteration. This behavior is a surprising byproduct of the\n",
    "way the dictionary’s fast hash table is implemented.\n",
    "\n",
    "### Ex 3\n",
    "The OrderedDict class from the collections module is a special type of\n",
    "dictionary that keeps track of the order in which its keys were inserted. Iterating the keys\n",
    "of an OrderedDict has predictable behavior. This can vastly simplify testing and\n",
    "debugging by making all code deterministic.\n"
   ]
  },
  {
   "cell_type": "code",
   "execution_count": null,
   "metadata": {
    "collapsed": true
   },
   "outputs": [],
   "source": [
    "# Example 2\n",
    "a = {}\n",
    "a['foo'] = 1\n",
    "a['bar'] = 2\n",
    "from random import randint\n",
    "\n",
    "# Randomly populate 'b' to cause hash conflicts\n",
    "while True:\n",
    "    z = randint(99, 1013)\n",
    "    b = {}\n",
    "    for i in range(z):\n",
    "        b[i] = i\n",
    "    b['foo'] = 1\n",
    "    b['bar'] = 2\n",
    "    for i in range(z):\n",
    "        del b[i]\n",
    "    if str(b) != str(a):\n",
    "        break\n",
    "\n",
    "print(a)\n",
    "print(b)\n",
    "print('Equal?', a == b)\n",
    "\n",
    "\n",
    "# Example 3\n",
    "from collections import OrderedDict\n",
    "a = OrderedDict()\n",
    "a['foo'] = 1\n",
    "a['bar'] = 2\n",
    "\n",
    "b = OrderedDict()\n",
    "b['foo'] = 'red'\n",
    "b['bar'] = 'blue'\n",
    "\n",
    "for value1, value2 in zip(a.values(), b.values()):\n",
    "    print(value1, value2)\n",
    "\n"
   ]
  },
  {
   "cell_type": "markdown",
   "metadata": {
    "collapsed": true
   },
   "source": [
    "## Default Dictionary\n",
    "\n",
    "### Ex 4\n",
    "Dictionaries are useful for bookkeeping and tracking statistics. One problem with\n",
    "dictionaries is that you can’t assume any keys are already present. That makes it clumsy to\n",
    "do simple things like increment a counter stored in a dictionary.\n",
    "\n",
    "### Ex 5\n",
    "The defaultdict class from the collections module simplifies this by\n",
    "automatically storing a default value when a key doesn’t exist. All you have to do is\n",
    "provide a function that will return the default value each time a key is missing. In this\n",
    "example, the int built-in function returns 0 (see Item 23: “Accept Functions for Simple\n",
    "Interfaces Instead of Classes” for another example). Now, incrementing a counter is\n",
    "simple"
   ]
  },
  {
   "cell_type": "code",
   "execution_count": null,
   "metadata": {
    "collapsed": true
   },
   "outputs": [],
   "source": [
    "# Example 4\n",
    "stats = {}\n",
    "key = 'my_counter'\n",
    "if key not in stats:\n",
    "    stats[key] = 0\n",
    "stats[key] += 1\n",
    "print(stats)\n",
    "\n",
    "# Example 5\n",
    "from collections import defaultdict\n",
    "stats = defaultdict(int)\n",
    "stats['my_counter'] += 1\n",
    "print(dict(stats))"
   ]
  },
  {
   "cell_type": "markdown",
   "metadata": {},
   "source": [
    "## Heap Queue\n",
    "\n",
    "### Ex 7\n",
    "Heaps are useful data structures for maintaining a priority queue. The heapq module\n",
    "provides functions for creating heaps in standard list types with functions like\n",
    "heappush, heappop, and nsmallest.\n",
    "Items of any priority can be inserted into the heap in any order.\n",
    "\n",
    "### Ex 8\n",
    "The resulting list is easy to use outside of heapq. Accessing the 0 index of the heap\n",
    "will always return the smallest item.\n",
    "\n",
    "### Ex 9\n",
    "Calling the sort method on the list maintains the heap invariant.\n",
    "\n",
    "Each of these heapq operations takes logarithmic time in proportion to the length of the\n",
    "list. Doing the same work with a standard Python list would scale linearly."
   ]
  },
  {
   "cell_type": "code",
   "execution_count": null,
   "metadata": {
    "collapsed": true
   },
   "outputs": [],
   "source": [
    "# Example 6\n",
    "from heapq import *\n",
    "a = []\n",
    "heappush(a, 5)\n",
    "heappush(a, 3)\n",
    "heappush(a, 7)\n",
    "heappush(a, 4)\n",
    "\n",
    "\n",
    "# Example 7\n",
    "print(heappop(a), heappop(a), heappop(a), heappop(a))\n",
    "\n",
    "\n",
    "# Example 8\n",
    "a = []\n",
    "heappush(a, 5)\n",
    "heappush(a, 3)\n",
    "heappush(a, 7)\n",
    "heappush(a, 4)\n",
    "assert a[0] == nsmallest(1, a)[0] == 3\n",
    "\n",
    "\n",
    "# Example 9\n",
    "print('Before:', a)\n",
    "a.sort()\n",
    "print('After: ', a)\n",
    "\n"
   ]
  },
  {
   "cell_type": "markdown",
   "metadata": {},
   "source": [
    "## Bisection\n",
    "\n",
    "Searching for an item in a list takes linear time proportional to its length when you call\n",
    "the index method.\n",
    "\n",
    "The bisect module’s functions, such as bisect_left, provide an efficient binary\n",
    "search through a sequence of sorted items. The index it returns is the insertion point of the\n",
    "value into the sequence.\n",
    "\n",
    "The complexity of a binary search is logarithmic. That means using bisect to search a\n",
    "list of 1 million items takes roughly the same amount of time as using index to linearly\n",
    "search a list of 14 items. It’s way faster!\n"
   ]
  },
  {
   "cell_type": "code",
   "execution_count": null,
   "metadata": {
    "collapsed": true
   },
   "outputs": [],
   "source": [
    "# Example 10\n",
    "x = list(range(10**6))\n",
    "i = x.index(991234)\n",
    "print(i)\n",
    "\n",
    "# Example 11\n",
    "from bisect import bisect_left\n",
    "i = bisect_left(x, 991234)\n",
    "print(i)\n",
    "\n"
   ]
  },
  {
   "cell_type": "markdown",
   "metadata": {},
   "source": [
    "## Iterator Tools\n",
    "\n",
    "The itertools built-in module contains a large number of functions that are useful for\n",
    "organizing and interacting with iterators (see Item 16: “Consider Generators Instead of\n",
    "Returning Lists” and Item 17: “Be Defensive When Iterating Over Arguments” for\n",
    "background). Not all of these are available in Python 2, but they can easily be built using\n",
    "simple recipes documented in the module. See help(itertools) in an interactive\n",
    "Python session for more details.\n",
    "\n",
    "The itertools functions fall into three main categories:\n",
    "[Linking iterators together]\n",
    "• chain: Combines multiple iterators into a single sequential iterator.\n",
    "• cycle: Repeats an iterator’s items forever.\n",
    "• tee: Splits a single iterator into multiple parallel iterators.\n",
    "• zip_longest: A variant of the zip built-in function that works well with\n",
    "iterators of different lengths.\n",
    "\n",
    "[Filtering items from an iterator]\n",
    "• islice: Slices an iterator by numerical indexes without copying.\n",
    "• takewhile: Returns items from an iterator while a predicate function returns\n",
    "True.\n",
    "• dropwhile: Returns items from an iterator once the predicate function returns\n",
    "False for the first time.\n",
    "• filterfalse: Returns all items from an iterator where a predicate function\n",
    "returns False. The opposite of the filter built-in function.\n",
    "\n",
    "[Combinations of items from iterators]\n",
    "• product: Returns the Cartesian product of items from an iterator, which is a\n",
    "nice alternative to deeply nested list comprehensions.\n",
    "• permutations: Returns ordered permutations of length N with items from an\n",
    "iterator.\n",
    "• combination: Returns the unordered combinations of length N with\n",
    "unrepeated items from an iterator.\n",
    "\n",
    "There are even more functions and recipes available in the itertools module that I\n",
    "don’t mention here. Whenever you find yourself dealing with some tricky iteration code,\n",
    "it’s worth looking at the itertools documentation again to see whether there’s\n",
    "anything there for you to use."
   ]
  },
  {
   "cell_type": "code",
   "execution_count": null,
   "metadata": {
    "collapsed": true
   },
   "outputs": [],
   "source": [
    "# Example 12\n",
    "from timeit import timeit\n",
    "print(timeit(\n",
    "    'a.index(len(a)-1)',\n",
    "    'a = list(range(100))',\n",
    "    number=1000))\n",
    "print(timeit(\n",
    "    'bisect_left(a, len(a)-1)',\n",
    "    'from bisect import bisect_left;'\n",
    "    'a = list(range(10**6))',\n",
    "    number=1000))"
   ]
  },
  {
   "cell_type": "markdown",
   "metadata": {},
   "source": [
    "* Use Python’s built-in modules for algorithms and data structures.\n",
    "* Don’t reimplement this functionality yourself. It’s hard to get right."
   ]
  }
 ],
 "metadata": {
  "kernelspec": {
   "display_name": "Python 3",
   "language": "python",
   "name": "python3"
  },
  "language_info": {
   "codemirror_mode": {
    "name": "ipython",
    "version": 3
   },
   "file_extension": ".py",
   "mimetype": "text/x-python",
   "name": "python",
   "nbconvert_exporter": "python",
   "pygments_lexer": "ipython3",
   "version": "3.6.3"
  }
 },
 "nbformat": 4,
 "nbformat_minor": 2
}

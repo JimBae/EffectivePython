{
 "cells": [
  {
   "cell_type": "markdown",
   "metadata": {},
   "source": [
    "One of the simplest applications of metaclasses is verifying that a class was defined\n",
    "correctly. When you’re building a complex class hierarchy, you may want to enforce style,\n",
    "require overriding methods, or have strict relationships between class attributes.\n",
    "Metaclasses enable these use cases by providing a reliable way to run your validation code\n",
    "each time a new subclass is defined.\n",
    "\n",
    "Often a class’s validation code runs in the __init__ method, when an object of the\n",
    "class’s type is constructed (see Item 28: “Inherit from collections.abc for Custom\n",
    "Container Types” for an example). Using metaclasses for validation can raise errors much\n",
    "earlier.\n",
    "\n",
    "Before I get into how to define a metaclass for validating subclasses, it’s important to\n",
    "understand the metaclass action for standard objects. A metaclass is defined by inheriting\n",
    "from type. In the default case, a metaclass receives the contents of associated class\n",
    "statements in its __new__ method. Here, you can modify the class information before the\n",
    "type is actually constructed:\n",
    "\n",
    "The metaclass has access to the name of the class, the parent classes it inherits from, and\n",
    "all of the class attributes that were defined in the class’s body.\n"
   ]
  },
  {
   "cell_type": "code",
   "execution_count": 3,
   "metadata": {},
   "outputs": [
    {
     "name": "stdout",
     "output_type": "stream",
     "text": [
      "(<class '__main__.Meta'>,\n",
      " 'MyClass',\n",
      " (<class 'object'>,),\n",
      " {'__module__': '__main__',\n",
      "  '__qualname__': 'MyClass',\n",
      "  'foo': <function MyClass.foo at 0x1040aa620>,\n",
      "  'stuff': 123})\n"
     ]
    }
   ],
   "source": [
    "import logging\n",
    "from pprint import pprint\n",
    "from sys import stdout as STDOUT\n",
    "\n",
    "\n",
    "# Example 1\n",
    "class Meta(type):\n",
    "    def __new__(meta, name, bases, class_dict):\n",
    "        orig_print = __builtins__.print\n",
    "        print = pprint\n",
    "        print((meta, name, bases, class_dict))\n",
    "        print = orig_print\n",
    "        return type.__new__(meta, name, bases, class_dict)\n",
    "\n",
    "class MyClass(object, metaclass=Meta):\n",
    "    stuff = 123\n",
    "\n",
    "    def foo(self):\n",
    "        pass"
   ]
  },
  {
   "cell_type": "markdown",
   "metadata": {},
   "source": [
    "You can add functionality to the Meta.__new__ method in order to validate all of the\n",
    "parameters of a class before it’s defined. For example, say you want to represent any type\n",
    "of multisided polygon. You can do this by defining a special validating metaclass and\n",
    "using it in the base class of your polygon class hierarchy. Note that it’s important not to\n",
    "apply the same validation to the base class.\n",
    "\n"
   ]
  },
  {
   "cell_type": "code",
   "execution_count": 4,
   "metadata": {},
   "outputs": [
    {
     "name": "stdout",
     "output_type": "stream",
     "text": [
      "180\n"
     ]
    }
   ],
   "source": [
    "# Example 3\n",
    "class ValidatePolygon(type):\n",
    "    def __new__(meta, name, bases, class_dict):\n",
    "        # Don't validate the abstract Polygon class\n",
    "        if bases != (object,):\n",
    "            if class_dict['sides'] < 3:\n",
    "                raise ValueError('Polygons need 3+ sides')\n",
    "        return type.__new__(meta, name, bases, class_dict)\n",
    "\n",
    "class Polygon(object, metaclass=ValidatePolygon):\n",
    "    sides = None  # Specified by subclasses\n",
    "\n",
    "    @classmethod\n",
    "    def interior_angles(cls):\n",
    "        return (cls.sides - 2) * 180\n",
    "\n",
    "class Triangle(Polygon):\n",
    "    sides = 3\n",
    "\n",
    "print(Triangle.interior_angles())"
   ]
  },
  {
   "cell_type": "markdown",
   "metadata": {},
   "source": [
    "If you try to define a polygon with fewer than three sides, the validation will cause the\n",
    "class statement to fail immediately after the class statement body. This means your\n",
    "program will not even be able to start running when you define such a class.\n"
   ]
  },
  {
   "cell_type": "code",
   "execution_count": 5,
   "metadata": {},
   "outputs": [
    {
     "name": "stderr",
     "output_type": "stream",
     "text": [
      "ERROR:root:Expected\n",
      "Traceback (most recent call last):\n",
      "  File \"<ipython-input-5-c2f600ebbf79>\", line 4, in <module>\n",
      "    class Line(Polygon):\n",
      "  File \"<ipython-input-4-33380c00d8d2>\", line 7, in __new__\n",
      "    raise ValueError('Polygons need 3+ sides')\n",
      "ValueError: Polygons need 3+ sides\n"
     ]
    },
    {
     "name": "stdout",
     "output_type": "stream",
     "text": [
      "Before class\n",
      "Before sides\n",
      "After sides\n"
     ]
    }
   ],
   "source": [
    "# Example 4\n",
    "try:\n",
    "    print('Before class')\n",
    "    class Line(Polygon):\n",
    "        print('Before sides')\n",
    "        sides = 1\n",
    "        print('After sides')\n",
    "    print('After class')\n",
    "except:\n",
    "    logging.exception('Expected')\n",
    "else:\n",
    "    assert False"
   ]
  },
  {
   "cell_type": "markdown",
   "metadata": {},
   "source": [
    "* Use metaclasses to ensure that subclasses are well formed at the time they are defined, before objects of their type are constructed.\n",
    "* Metaclasses have slightly different syntax in Python 2 vs. Python 3. \n",
    "* The __new__ method of metaclasses is run after the class statement’s entire body has been processed."
   ]
  }
 ],
 "metadata": {
  "kernelspec": {
   "display_name": "Python 3",
   "language": "python",
   "name": "python3"
  },
  "language_info": {
   "codemirror_mode": {
    "name": "ipython",
    "version": 3
   },
   "file_extension": ".py",
   "mimetype": "text/x-python",
   "name": "python",
   "nbconvert_exporter": "python",
   "pygments_lexer": "ipython3",
   "version": "3.6.3"
  }
 },
 "nbformat": 4,
 "nbformat_minor": 2
}

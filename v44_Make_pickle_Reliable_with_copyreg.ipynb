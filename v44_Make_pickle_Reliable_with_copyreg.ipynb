{
 "cells": [
  {
   "cell_type": "markdown",
   "metadata": {},
   "source": [
    "The pickle built-in module can serialize Python objects into a stream of bytes and\n",
    "deserialize bytes back into objects. Pickled byte streams shouldn’t be used to\n",
    "communicate between untrusted parties. The purpose of pickle is to let you pass Python\n",
    "objects between programs that you control over binary channels.\n",
    "\n",
    ">>> \n",
    "Note\n",
    "The pickle module’s serialization format is unsafe by design. The serialized data\n",
    "contains what is essentially a program that describes how to reconstruct the original\n",
    "Python object. This means a malicious pickle payload could be used to\n",
    "compromise any part of the Python program that attempts to deserialize it.\n",
    "In contrast, the json module is safe by design. Serialized JSON data contains a\n",
    "simple description of an object hierarchy. Deserializing JSON data does not expose\n",
    "a Python program to any additional risk. Formats like JSON should be used for\n",
    "communication between programs or people that don’t trust each other.\n",
    "\n",
    "For example, say you want to use a Python object to represent the state of a player’s\n",
    "progress in a game. The game state includes the level the player is on and the number of\n",
    "lives he or she has remaining.\n",
    "\n",
    "The program modifies this object as the game runs."
   ]
  },
  {
   "cell_type": "code",
   "execution_count": 8,
   "metadata": {
    "collapsed": true
   },
   "outputs": [],
   "source": [
    "import logging\n",
    "from pprint import pprint\n",
    "from sys import stdout as STDOUT\n",
    "\n",
    "\n",
    "# Example 1\n",
    "class GameState(object):\n",
    "    def __init__(self):\n",
    "        self.level = 0\n",
    "        self.lives = 4\n",
    "\n",
    "\n",
    "# Example 2\n",
    "state = GameState()\n",
    "state.level += 1  # Player beat a level\n",
    "state.lives -= 1  # Player had to try again"
   ]
  },
  {
   "cell_type": "markdown",
   "metadata": {},
   "source": [
    "When the user quits playing, the program can save the state of the game to a file so it can\n",
    "be resumed at a later time. The pickle module makes it easy to do this. Here, I dump\n",
    "the GameState object directly to a file:\n",
    "\n",
    "Later, I can load the file and get back the GameState object as if it had never been\n",
    "serialized.\n",
    "\n"
   ]
  },
  {
   "cell_type": "code",
   "execution_count": 9,
   "metadata": {},
   "outputs": [
    {
     "name": "stdout",
     "output_type": "stream",
     "text": [
      "{'level': 1, 'lives': 3}\n"
     ]
    }
   ],
   "source": [
    "# Example 3\n",
    "import pickle\n",
    "state_path = 'game_state.bin'\n",
    "with open(state_path, 'wb') as f:\n",
    "    pickle.dump(state, f)\n",
    "\n",
    "\n",
    "# Example 4\n",
    "with open(state_path, 'rb') as f:\n",
    "    state_after = pickle.load(f)\n",
    "print(state_after.__dict__)\n",
    "\n"
   ]
  },
  {
   "cell_type": "markdown",
   "metadata": {},
   "source": [
    "The problem with this approach is what happens as the game’s features expand over time.\n",
    "Imagine you want the player to earn points towards a high score. To track the player’s\n",
    "points, you’d add a new field to the GameState class.\n",
    "\n",
    "Serializing the new version of the GameState class using pickle will work exactly as\n",
    "before. Here, I simulate the round-trip through a file by serializing to a string with dumps\n",
    "and back to an object with loads:"
   ]
  },
  {
   "cell_type": "code",
   "execution_count": 10,
   "metadata": {},
   "outputs": [
    {
     "name": "stdout",
     "output_type": "stream",
     "text": [
      "{'level': 0, 'lives': 4, 'points': 0}\n"
     ]
    }
   ],
   "source": [
    "# Example 5\n",
    "class GameState(object):\n",
    "    def __init__(self):\n",
    "        self.level = 0\n",
    "        self.lives = 4\n",
    "        self.points = 0\n",
    "\n",
    "\n",
    "# Example 6\n",
    "state = GameState()\n",
    "serialized = pickle.dumps(state)\n",
    "state_after = pickle.loads(serialized)\n",
    "print(state_after.__dict__)\n",
    "\n"
   ]
  },
  {
   "cell_type": "markdown",
   "metadata": {},
   "source": [
    "But what happens to older saved GameState objects that the user may want to resume?\n",
    "Here, I unpickle an old game file using a program with the new definition of the\n",
    "GameState class:\n",
    "\n",
    "The points attribute is missing! This is especially confusing because the returned object\n",
    "is an instance of the new GameState class.\n",
    "\n",
    "This behavior is a byproduct of the way the pickle module works. Its primary use case\n",
    "is making it easy to serialize objects. As soon as your use of pickle expands beyond\n",
    "trivial usage, the module’s functionality starts to break down in surprising ways.\n",
    "Fixing these problems is straightforward using the copyreg built-in module. The\n",
    "copyreg module lets you register the functions responsible for serializing Python\n",
    "objects, allowing you to control the behavior of pickle and make it more reliable."
   ]
  },
  {
   "cell_type": "code",
   "execution_count": 11,
   "metadata": {},
   "outputs": [
    {
     "name": "stdout",
     "output_type": "stream",
     "text": [
      "{'level': 1, 'lives': 3}\n"
     ]
    }
   ],
   "source": [
    "# Example 7\n",
    "with open(state_path, 'rb') as f:\n",
    "    state_after = pickle.load(f)\n",
    "print(state_after.__dict__)\n",
    "\n",
    "\n",
    "# Example 8\n",
    "assert isinstance(state_after, GameState)\n",
    "\n"
   ]
  },
  {
   "cell_type": "markdown",
   "metadata": {},
   "source": [
    ">>> \n",
    "Default Attribute Values\n",
    "\n",
    "### Ex 9\n",
    "In the simplest case, you can use a constructor with default arguments (see Item 19: \n",
    "“Provide Optional Behavior with Keyword Arguments”) to ensure that GameState objects will always have all attributes after unpickling. Here, I redefine the constructor this way:\n",
    "\n",
    "### Ex 10\n",
    "To use this constructor for pickling, I define a helper function that takes a GameState\n",
    "object and turns it into a tuple of parameters for the copyreg module. The returned tuple\n",
    "contains the function to use for unpickling and the parameters to pass to the unpickling\n",
    "function.\n",
    "\n",
    "### Ex 11\n",
    "Now, I need to define the unpickle_game_state helper. This function takes\n",
    "serialized data and parameters from pickle_game_state and returns the\n",
    "corresponding GameState object. It’s a tiny wrapper around the constructor.\n",
    "\n",
    "### Ex 12\n",
    "Now, I register these with the copyreg built-in module.\n",
    "\n",
    "### Ex 13\n",
    "Serializing and deserializing works as before.\n",
    "\n",
    "### Ex 14\n",
    "With this registration done, now I can change the definition of GameState to give the\n",
    "player a count of magic spells to use. This change is similar to when I added the points\n",
    "field to GameState.\n",
    "\n",
    "### Ex 15\n",
    "But unlike before, deserializing an old GameState object will result in valid game data\n",
    "instead of missing attributes. This works because unpickle_game_state calls the\n",
    "GameState constructor directly. The constructor’s keyword arguments have default\n",
    "values when parameters are missing. This causes old game state files to receive the default\n",
    "value for the new magic field when they are deserialized."
   ]
  },
  {
   "cell_type": "code",
   "execution_count": 12,
   "metadata": {},
   "outputs": [
    {
     "name": "stdout",
     "output_type": "stream",
     "text": [
      "{'level': 0, 'lives': 4, 'points': 1000}\n",
      "{'level': 0, 'lives': 4, 'points': 1000, 'magic': 5}\n"
     ]
    }
   ],
   "source": [
    "# Example 9\n",
    "class GameState(object):\n",
    "    def __init__(self, level=0, lives=4, points=0):\n",
    "        self.level = level\n",
    "        self.lives = lives\n",
    "        self.points = points\n",
    "\n",
    "\n",
    "# Example 10\n",
    "def pickle_game_state(game_state):\n",
    "    kwargs = game_state.__dict__\n",
    "    return unpickle_game_state, (kwargs,)\n",
    "\n",
    "\n",
    "# Example 11\n",
    "def unpickle_game_state(kwargs):\n",
    "    return GameState(**kwargs)\n",
    "\n",
    "\n",
    "# Example 12\n",
    "import copyreg\n",
    "copyreg.pickle(GameState, pickle_game_state)\n",
    "\n",
    "\n",
    "# Example 13\n",
    "state = GameState()\n",
    "state.points += 1000\n",
    "serialized = pickle.dumps(state)\n",
    "state_after = pickle.loads(serialized)\n",
    "print(state_after.__dict__)\n",
    "\n",
    "# Example 14\n",
    "class GameState(object):\n",
    "    def __init__(self, level=0, lives=4, points=0, magic=5):\n",
    "        self.level = level\n",
    "        self.lives = lives\n",
    "        self.points = points\n",
    "        self.magic = magic\n",
    "\n",
    "# Example 15\n",
    "state_after = pickle.loads(serialized)\n",
    "print(state_after.__dict__)\n"
   ]
  },
  {
   "cell_type": "markdown",
   "metadata": {},
   "source": [
    ">>>\n",
    "Versioning Classes\n",
    "\n",
    "Sometimes you’ll need to make backwards-incompatible changes to your Python objects\n",
    "by removing fields. This prevents the default argument approach to serialization from\n",
    "working.\n",
    "\n",
    "### Ex 16\n",
    "For example, say you realize that a limited number of lives is a bad idea, and you want to\n",
    "remove the concept of lives from the game. Here, I redefine the GameState to no longer\n",
    "have a lives field:\n",
    "\n",
    "### Ex 17\n",
    "The problem is that this breaks deserializing old game data. All fields from the old data,\n",
    "even ones removed from the class, will be passed to the GameState constructor by the\n",
    "unpickle_game_state function.\n",
    "\n",
    "### Ex 18\n",
    "The solution is to add a version parameter to the functions supplied to copyreg. New\n",
    "serialized data will have a version of 2 specified when pickling a new GameState\n",
    "object.\n",
    "\n",
    "### Ex 19\n",
    "Old versions of the data will not have a version argument present, allowing you to\n",
    "manipulate the arguments passed to the GameState constructor accordingly.\n",
    "\n",
    "### Ex 20\n",
    "You can continue this approach to handle changes between future versions of the same\n",
    "class. Any logic you need to adapt an old version of the class to a new version of the class\n",
    "can go in the unpickle_game_state function."
   ]
  },
  {
   "cell_type": "code",
   "execution_count": 13,
   "metadata": {},
   "outputs": [
    {
     "name": "stderr",
     "output_type": "stream",
     "text": [
      "ERROR:root:Expected\n",
      "Traceback (most recent call last):\n",
      "  File \"<ipython-input-13-69a0f6f877b5>\", line 11, in <module>\n",
      "    pickle.loads(serialized)\n",
      "  File \"<ipython-input-12-2e7bd540813c>\", line 17, in unpickle_game_state\n",
      "    return GameState(**kwargs)\n",
      "TypeError: __init__() got an unexpected keyword argument 'lives'\n"
     ]
    },
    {
     "name": "stdout",
     "output_type": "stream",
     "text": [
      "{'level': 0, 'points': 1000, 'magic': 5}\n"
     ]
    }
   ],
   "source": [
    "# Example 16\n",
    "class GameState(object):\n",
    "    def __init__(self, level=0, points=0, magic=5):\n",
    "        self.level = level\n",
    "        self.points = points\n",
    "        self.magic = magic\n",
    "\n",
    "\n",
    "# Example 17\n",
    "try:\n",
    "    pickle.loads(serialized)\n",
    "except:\n",
    "    logging.exception('Expected')\n",
    "else:\n",
    "    assert False\n",
    "\n",
    "\n",
    "# Example 18\n",
    "def pickle_game_state(game_state):\n",
    "    kwargs = game_state.__dict__\n",
    "    kwargs['version'] = 2\n",
    "    return unpickle_game_state, (kwargs,)\n",
    "\n",
    "\n",
    "# Example 19\n",
    "def unpickle_game_state(kwargs):\n",
    "    version = kwargs.pop('version', 1)\n",
    "    if version == 1:\n",
    "        kwargs.pop('lives')\n",
    "    return GameState(**kwargs)\n",
    "\n",
    "\n",
    "# Example 20\n",
    "copyreg.pickle(GameState, pickle_game_state)\n",
    "state_after = pickle.loads(serialized)\n",
    "print(state_after.__dict__)\n",
    "\n"
   ]
  },
  {
   "cell_type": "markdown",
   "metadata": {},
   "source": [
    ">>>\n",
    "Stable Import Paths\n",
    "\n",
    "One other issue you may encounter with pickle is breakage from renaming a class.\n",
    "Often over the life cycle of a program, you’ll refactor your code by renaming classes and\n",
    "moving them to other modules. Unfortunately, this will break the pickle module unless\n",
    "you’re careful.\n",
    "\n",
    "### Ex 21\n",
    "Here, I rename the GameState class to BetterGameState, removing the old class from the program entirely:\n",
    "\n",
    "### Ex 22\n",
    "Attempting to deserialize an old GameState object will now fail because the class can’t\n",
    "be found.\n",
    "\n",
    "### Ex 23\n",
    "The cause of this exception is that the import path of the serialized object’s class is\n",
    "encoded in the pickled data.\n",
    "\n",
    "### Ex 24\n",
    "The solution is to use copyreg again. You can specify a stable identifier for the function\n",
    "to use for unpickling an object. This allows you to transition pickled data to different\n",
    "classes with different names when it’s deserialized. It gives you a level of indirection.\n",
    "\n",
    "### Ex 25\n",
    "After using copyreg, you can see that the import path to pickle_game_state is\n",
    "encoded in the serialized data instead of BetterGameState\n",
    "\n",
    "The only gotcha is that you can’t change the path of the module in which the\n",
    "unpickle_game_state function is present. Once you serialize data with a function, it\n",
    "must remain available on that import path for deserializing in the future.\n"
   ]
  },
  {
   "cell_type": "code",
   "execution_count": 7,
   "metadata": {},
   "outputs": [
    {
     "name": "stderr",
     "output_type": "stream",
     "text": [
      "ERROR:root:Expected\n",
      "Traceback (most recent call last):\n",
      "  File \"<ipython-input-7-1fd568918903>\", line 16, in <module>\n",
      "    pickle.loads(serialized)\n",
      "AttributeError: Can't get attribute 'GameState' on <module '__main__'>\n"
     ]
    },
    {
     "name": "stdout",
     "output_type": "stream",
     "text": [
      "b'\\x80\\x03c__main__\\nGameState\\nq\\x00)'\n",
      "b'\\x80\\x03c__main__\\nunpickle_game_state\\nq\\x00}'\n"
     ]
    }
   ],
   "source": [
    "\n",
    "# Example 21\n",
    "copyreg.dispatch_table.clear()\n",
    "state = GameState()\n",
    "serialized = pickle.dumps(state)\n",
    "del GameState\n",
    "class BetterGameState(object):\n",
    "    def __init__(self, level=0, points=0, magic=5):\n",
    "        self.level = level\n",
    "        self.points = points\n",
    "        self.magic = magic\n",
    "\n",
    "\n",
    "# Example 22\n",
    "try:\n",
    "    pickle.loads(serialized)\n",
    "except:\n",
    "    logging.exception('Expected')\n",
    "else:\n",
    "    assert False\n",
    "\n",
    "\n",
    "# Example 23\n",
    "print(serialized[:25])\n",
    "\n",
    "\n",
    "# Example 24\n",
    "copyreg.pickle(BetterGameState, pickle_game_state)\n",
    "\n",
    "\n",
    "# Example 25\n",
    "state = BetterGameState()\n",
    "serialized = pickle.dumps(state)\n",
    "print(serialized[:35])"
   ]
  },
  {
   "cell_type": "markdown",
   "metadata": {},
   "source": [
    "* The pickle built-in module is only useful for serializing and deserializing objects between trusted programs.\n",
    "* The pickle module may break down when used for more than trivial use cases. \n",
    "* Use the copyreg built-in module with pickle to add missing attribute values, allow versioning of classes, and provide stable import paths.\n"
   ]
  }
 ],
 "metadata": {
  "kernelspec": {
   "display_name": "Python 3",
   "language": "python",
   "name": "python3"
  },
  "language_info": {
   "codemirror_mode": {
    "name": "ipython",
    "version": 3
   },
   "file_extension": ".py",
   "mimetype": "text/x-python",
   "name": "python",
   "nbconvert_exporter": "python",
   "pygments_lexer": "ipython3",
   "version": "3.6.3"
  }
 },
 "nbformat": 4,
 "nbformat_minor": 2
}

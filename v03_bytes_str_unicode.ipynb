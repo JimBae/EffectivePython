{
 "cells": [
  {
   "cell_type": "markdown",
   "metadata": {},
   "source": [
    "There are two types that represent sequences of characters\n",
    "\n",
    "[Python3]\n",
    "- bytes : raw 8 bit values\n",
    "- str : Unicode characters\n",
    "\n",
    "[Python2]\n",
    "- str : raw 8 bit values\n",
    "- unicode : unicode characters\n",
    "\n",
    "To convert Unicode char to binary data, you must use the \"encode\" method.\n",
    "To convert binary data to Unicode, you must use the \"decode\" method.\n"
   ]
  },
  {
   "cell_type": "code",
   "execution_count": 1,
   "metadata": {},
   "outputs": [
    {
     "name": "stdout",
     "output_type": "stream",
     "text": [
      "'foo'\n",
      "'foo'\n"
     ]
    }
   ],
   "source": [
    "import logging\n",
    "from pprint import pprint\n",
    "from sys import stdout as STDOUT\n",
    "\n",
    "def to_str(bytes_or_str):\n",
    "    if isinstance(bytes_or_str, bytes):\n",
    "        value = bytes_or_str.decode('utf-8')\n",
    "    else:\n",
    "        value = bytes_or_str\n",
    "    return value # return str\n",
    "\n",
    "print(repr(to_str(b'foo')))\n",
    "print(repr(to_str('foo')))\n"
   ]
  },
  {
   "cell_type": "code",
   "execution_count": null,
   "metadata": {},
   "outputs": [],
   "source": [
    "def to_bytes(bytes_or_str):\n",
    "    if isinstance(bytes_or_str, str):\n",
    "        value = bytes_or_str.encode('utf-8')\n",
    "    else:\n",
    "        value = bytes_or_str\n",
    "    return value  # Instance of bytes\n",
    "\n",
    "print(repr(to_bytes(b'foo')))\n",
    "print(repr(to_bytes('foo')))\n"
   ]
  },
  {
   "cell_type": "markdown",
   "metadata": {},
   "source": [
    "The core of your program should use Unicode char type(str in Python3, unicode in Python2)\n",
    "and Should not assume anything about char encodings.\n",
    "\n",
    "[Issue1]\n",
    "In Python2, unicode and str instances seem to be the same type when str only contains 7-bits ASCII charateres.\n",
    "\n",
    "[Issue2]\n",
    "In Python3, operations involving file handles (returned by the open built-in function)\n",
    "default to UTF-8 encoding. In Python2, file operations defaults to binary encoding."
   ]
  },
  {
   "cell_type": "code",
   "execution_count": 3,
   "metadata": {},
   "outputs": [
    {
     "name": "stderr",
     "output_type": "stream",
     "text": [
      "ERROR:root:Expected\n",
      "Traceback (most recent call last):\n",
      "  File \"<ipython-input-3-66358035aff3>\", line 4, in <module>\n",
      "    f.write(os.urandom(10))\n",
      "TypeError: write() argument must be str, not bytes\n"
     ]
    }
   ],
   "source": [
    "try:\n",
    "    import os\n",
    "    with open('random.bin', 'w') as f:\n",
    "        f.write(os.urandom(10))\n",
    "except:\n",
    "    logging.exception('Expected')\n",
    "else:\n",
    "    assert False\n",
    "\n",
    "with open('random.bin', 'wb') as f:\n",
    "    f.write(os.urandom(10))\n"
   ]
  },
  {
   "cell_type": "code",
   "execution_count": null,
   "metadata": {},
   "outputs": [],
   "source": []
  }
 ],
 "metadata": {
  "kernelspec": {
   "display_name": "Python 3",
   "language": "python",
   "name": "python3"
  },
  "language_info": {
   "codemirror_mode": {
    "name": "ipython",
    "version": 3
   },
   "file_extension": ".py",
   "mimetype": "text/x-python",
   "name": "python",
   "nbconvert_exporter": "python",
   "pygments_lexer": "ipython3",
   "version": "3.6.5"
  }
 },
 "nbformat": 4,
 "nbformat_minor": 2
}

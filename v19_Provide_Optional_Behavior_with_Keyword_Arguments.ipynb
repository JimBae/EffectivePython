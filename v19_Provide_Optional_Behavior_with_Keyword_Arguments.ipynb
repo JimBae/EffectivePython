{
 "cells": [
  {
   "cell_type": "markdown",
   "metadata": {},
   "source": []
  },
  {
   "cell_type": "code",
   "execution_count": 10,
   "metadata": {},
   "outputs": [
    {
     "name": "stdout",
     "output_type": "stream",
     "text": [
      "6\n",
      "6\n",
      "6\n",
      "6\n"
     ]
    }
   ],
   "source": [
    "import logging\n",
    "from pprint import pprint\n",
    "from sys import stdout as STDOUT\n",
    "\n",
    "\n",
    "# Example 1\n",
    "def remainder(number, divisor):\n",
    "    return number % divisor\n",
    "\n",
    "assert remainder(20, 7) == 6\n",
    "\n",
    "\n",
    "# Example 2\n",
    "print(remainder(20, 7))\n",
    "print(remainder(20, divisor=7))\n",
    "print(remainder(number=20, divisor=7))\n",
    "print(remainder(divisor=7, number=20))\n",
    "\n",
    "\n"
   ]
  },
  {
   "cell_type": "code",
   "execution_count": 11,
   "metadata": {},
   "outputs": [
    {
     "name": "stderr",
     "output_type": "stream",
     "text": [
      "ERROR:root:Expected\n",
      "Traceback (most recent call last):\n",
      "  File \"<ipython-input-11-073cf89d8147>\", line 2, in <module>\n",
      "    remainder(20, number=7)\n",
      "TypeError: remainder() got multiple values for argument 'number'\n"
     ]
    }
   ],
   "source": [
    "try:\n",
    "    remainder(20, number=7)\n",
    "except:\n",
    "    logging.exception('Expected')\n",
    "else:\n",
    "    assert False\n"
   ]
  },
  {
   "cell_type": "code",
   "execution_count": 12,
   "metadata": {},
   "outputs": [
    {
     "name": "stdout",
     "output_type": "stream",
     "text": [
      "0.167 kg per second\n"
     ]
    }
   ],
   "source": [
    "def flow_rate(weight_diff, time_diff):\n",
    "    return weight_diff / time_diff\n",
    "\n",
    "weight_diff = 0.5\n",
    "time_diff = 3\n",
    "flow = flow_rate(weight_diff, time_diff)\n",
    "print('%.3f kg per second' % flow)\n",
    "assert (flow - 0.16666666666666666) < 0.0001\n",
    "\n"
   ]
  },
  {
   "cell_type": "code",
   "execution_count": 13,
   "metadata": {
    "collapsed": true
   },
   "outputs": [],
   "source": [
    "# Example 6\n",
    "def flow_rate(weight_diff, time_diff, period):\n",
    "    return (weight_diff / time_diff) * period\n",
    "\n",
    "# Example 7\n",
    "flow_per_second = flow_rate(weight_diff, time_diff, 1)\n",
    "assert (flow_per_second - 0.16666666666666666) < 0.0001"
   ]
  },
  {
   "cell_type": "code",
   "execution_count": 14,
   "metadata": {
    "collapsed": true
   },
   "outputs": [],
   "source": [
    "# Example 8\n",
    "def flow_rate(weight_diff, time_diff, period=1):\n",
    "    return (weight_diff / time_diff) * period\n",
    "\n",
    "# Example 9\n",
    "flow_per_second = flow_rate(weight_diff, time_diff)\n",
    "assert (flow_per_second - 0.16666666666666666) < 0.0001\n",
    "flow_per_hour = flow_rate(weight_diff, time_diff, period=3600)\n",
    "assert flow_per_hour == 600.0\n",
    "\n"
   ]
  },
  {
   "cell_type": "code",
   "execution_count": 16,
   "metadata": {},
   "outputs": [
    {
     "name": "stdout",
     "output_type": "stream",
     "text": [
      "1320.0\n",
      "1320.0\n"
     ]
    }
   ],
   "source": [
    "# Example 10\n",
    "def flow_rate(weight_diff, time_diff,\n",
    "              period=1, units_per_kg=1):\n",
    "    return ((weight_diff * units_per_kg) / time_diff) * period\n",
    "\n",
    "# Example 11\n",
    "pounds_per_hour = flow_rate(weight_diff, time_diff,\n",
    "                            period=3600, units_per_kg=2.2)\n",
    "print(pounds_per_hour)\n",
    "assert pounds_per_hour == 1320.0\n",
    "\n",
    "# Example 12\n",
    "pounds_per_hour = flow_rate(weight_diff, time_diff, 3600, 2.2)\n",
    "print(pounds_per_hour)\n",
    "assert pounds_per_hour == 1320.0"
   ]
  },
  {
   "cell_type": "markdown",
   "metadata": {},
   "source": [
    "Backwards compatibility using optional keyword arguments like this is crucial for\n",
    "functions that accept *args (see Item 18: “Reduce Visual Noise with Variable\n",
    "Positional Arguments”). But an even better practice is to use keyword-only\n",
    "arguments (see Item 21: “Enforce Clarity with Keyword-Only Arguments”)."
   ]
  },
  {
   "cell_type": "markdown",
   "metadata": {},
   "source": [
    "* Function arguments can be specified by position or by keyword. \n",
    "* Keywords make it clear what the purpose of each argument is when it would be confusing with only positional arguments.\n",
    "* Keyword arguments with default values make it easy to add new behaviors to a function, especially when the function has existing callers.\n",
    "* Optional keyword arguments should always be passed by keyword instead of by position."
   ]
  }
 ],
 "metadata": {
  "kernelspec": {
   "display_name": "Python 3",
   "language": "python",
   "name": "python3"
  },
  "language_info": {
   "codemirror_mode": {
    "name": "ipython",
    "version": 3
   },
   "file_extension": ".py",
   "mimetype": "text/x-python",
   "name": "python",
   "nbconvert_exporter": "python",
   "pygments_lexer": "ipython3",
   "version": "3.6.3"
  }
 },
 "nbformat": 4,
 "nbformat_minor": 2
}

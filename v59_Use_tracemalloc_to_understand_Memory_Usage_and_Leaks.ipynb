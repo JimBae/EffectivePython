{
 "cells": [
  {
   "cell_type": "markdown",
   "metadata": {},
   "source": [
    "Memory management in the default implementation of Python, CPython, uses reference\n",
    "counting. This ensures that as soon as all references to an object have expired, the\n",
    "referenced object is also cleared. CPython also has a built-in cycle detector to ensure that\n",
    "self-referencing objects are eventually garbage collected.\n",
    "\n",
    "In theory, this means that most Python programmers don’t have to worry about allocating\n",
    "or deallocating memory in their programs. It’s taken care of automatically by the language\n",
    "and the CPython runtime. However, in practice, programs eventually do run out of\n",
    "memory due to held references. Figuring out where your Python programs are using or\n",
    "leaking memory proves to be a challenge.\n",
    "\n",
    "The first way to debug memory usage is to ask the gc built-in module to list every object\n",
    "currently known by the garbage collector. Although it’s quite a blunt tool, this approach\n",
    "does let you quickly get a sense of where your program’s memory is being used.\n",
    "\n",
    "Here, I run a program that wastes memory by keeping references. It prints out how many\n",
    "objects were created during execution and a small sample of allocated objects.\n",
    "\n"
   ]
  },
  {
   "cell_type": "markdown",
   "metadata": {},
   "source": [
    "# using_gc.py\n",
    "\n",
    "import gc\n",
    "\n",
    "found_objects = gc.get_objects()\n",
    "\n",
    "print(‘%d objects before’ % len(found_objects))\n",
    "\n",
    "import waste_memory\n",
    "\n",
    "x = waste_memory.run()\n",
    "\n",
    "found_objects = gc.get_objects()\n",
    "\n",
    "print(‘%d objects after’ % len(found_objects))\n",
    "\n",
    "for obj in found_objects[:3]:\n",
    "\n",
    "    print(repr(obj)[:100])\n",
    "    \n",
    "Console>\n",
    "\n",
    "4756 objects before\n",
    "\n",
    "14873 objects after\n",
    "\n",
    "waste_memory.MyObject object at 0x1063f6940\n",
    "\n",
    "waste_memory.MyObject object at 0x1063f6978\n",
    "\n",
    "waste_memory.MyObject object at 0x1063f69b0"
   ]
  },
  {
   "cell_type": "markdown",
   "metadata": {},
   "source": [
    "The problem with gc.get_objects is that it doesn’t tell you anything about how the\n",
    "objects were allocated. In complicated programs, a specific class of object could be\n",
    "allocated many different ways. The overall number of objects isn’t nearly as important as\n",
    "identifying the code responsible for allocating the objects that are leaking memory.\n",
    "\n",
    "Python 3.4 introduces a new tracemalloc built-in module for solving this problem.\n",
    "tracemalloc makes it possible to connect an object back to where it was allocated.\n",
    "Here, I print out the top three memory usage offenders in a program using\n",
    "tracemalloc:\n"
   ]
  },
  {
   "cell_type": "markdown",
   "metadata": {},
   "source": [
    "# top_n.py\n",
    "import tracemalloc\n",
    "tracemalloc.start(10) # Save up to 10 stack frames\n",
    "time1 = tracemalloc.take_snapshot()\n",
    "import waste_memory\n",
    "x = waste_memory.run()\n",
    "time2 = tracemalloc.take_snapshot()\n",
    "stats = time2.compare_to(time1, ‘lineno’)\n",
    "for stat in stats[:3]:\n",
    "print(stat)\n",
    ">>>\n",
    "waste_memory.py:6: size=2235 KiB (+2235 KiB), count=29981 (+29981),\n",
    "average=76 B\n",
    "waste_memory.py:7: size=869 KiB (+869 KiB), count=10000 (+10000), average=89\n",
    "B waste_memory.py:12: size=547 KiB (+547 KiB), count=10000 (+10000), average=56\n",
    "B\n",
    "\n"
   ]
  },
  {
   "cell_type": "markdown",
   "metadata": {},
   "source": [
    "It’s immediately clear which objects are dominating my program’s memory usage and\n",
    "where in the source code they were allocated.\n",
    "The tracemalloc module can also print out the full stack trace of each allocation (up\n",
    "to the number of frames passed to the start method). Here, I print out the stack trace of\n",
    "the biggest source of memory usage in the program:\n",
    "\n",
    "A stack trace like this is most valuable for figuring out which particular usage of a\n",
    "common function is responsible for memory consumption in a program.\n",
    "Unfortunately, Python 2 doesn’t provide the tracemalloc built-in module. There are\n",
    "open source packages for tracking memory usage in Python 2 (such as heapy), though\n",
    "they do not fully replicate the functionality of tracemalloc.\n",
    "\n"
   ]
  },
  {
   "cell_type": "markdown",
   "metadata": {},
   "source": [
    "* It can be difficult to understand how Python programs use and leak memory. \n",
    "\n",
    "* The gc module can help you understand which objects exist, but it has no information about how they were allocated.\n",
    "\n",
    "* The tracemalloc built-in module provides powerful tools for understanding the source of memory usage.\n",
    "\n",
    "* tracemalloc is only available in Python 3.4 and above."
   ]
  }
 ],
 "metadata": {
  "kernelspec": {
   "display_name": "Python 3",
   "language": "python",
   "name": "python3"
  },
  "language_info": {
   "codemirror_mode": {
    "name": "ipython",
    "version": 3
   },
   "file_extension": ".py",
   "mimetype": "text/x-python",
   "name": "python",
   "nbconvert_exporter": "python",
   "pygments_lexer": "ipython3",
   "version": "3.6.3"
  }
 },
 "nbformat": 4,
 "nbformat_minor": 2
}

{
 "cells": [
  {
   "cell_type": "markdown",
   "metadata": {},
   "source": [
    "Python has a central repository of modules (https://pypi.python.org) for you to install and\n",
    "use in your programs. These modules are built and maintained by people like you: the\n",
    "Python community. When you find yourself facing an unfamiliar challenge, the Python\n",
    "Package Index (PyPI) is a great place to look for code that will get you closer to your goal.\n",
    "\n",
    "To use the Package Index, you’ll need to use a command-line tool named pip. pip is\n",
    "installed by default in Python 3.4 and above (it’s also accessible with python -m pip).\n",
    "For earlier versions, you can find instructions for installing pip on the Python Packaging\n",
    "website (https://packaging.python.org).\n",
    "\n",
    "Once installed, using pip to install a new module is simple. For example, here I install\n",
    "the pytz module that I used in another item in this chapter (see Item 45: “Use\n",
    "datetime Instead of time for Local Clocks”):\n",
    "\n",
    "\n",
    "$ pip3 install pytz\n",
    "\n",
    "Downloading/unpacking pytz\n",
    "\n",
    "    Downloading pytz-2014.4.tar.bz2 (159kB): 159kB downloaded\n",
    "    \n",
    "    Running setup.py (…) egg_info for package pytz\n",
    "    \n",
    "Installing collected packages: pytz\n",
    "\n",
    "    Running setup.py install for pytz\n",
    "\n",
    "\n",
    "Successfully installed pytz\n",
    "\n",
    "Cleaning up…\n",
    "\n",
    "In the example above, I used the pip3 command-line to install the Python 3 version of\n",
    "the package. The pip command-line (without the 3) is also available for installing\n",
    "packages for Python 2. The majority of popular packages are now available for either\n",
    "version of Python (see Item 1: “Know Which Version of Python You’re Using”). pip can\n",
    "also be used with pyvenv to track sets of packages to install for your projects (see Item\n",
    "53: “Use Virtual Environments for Isolated and Reproducible Dependencies”).\n",
    "\n",
    "Each module in the PyPI has its own software license. Most of the packages, especially\n",
    "the popular ones, have free or open source licenses (see http://opensource.org for details).\n",
    "In most cases, these licenses allow you to include a copy of the module with your program\n",
    "(when in doubt, talk to a lawyer)."
   ]
  },
  {
   "cell_type": "markdown",
   "metadata": {},
   "source": [
    "* The Python Package Index (PyPI) contains a wealth of common packages that are built and maintained by the Python community.\n",
    "* pip is the command-line tool to use for installing packages from PyPI.\n",
    "* pip is installed by default in Python 3.4 and above; you must install it yourself for older versions.\n",
    "* The majority of PyPI modules are free and open source software."
   ]
  },
  {
   "cell_type": "code",
   "execution_count": null,
   "metadata": {
    "collapsed": true
   },
   "outputs": [],
   "source": []
  }
 ],
 "metadata": {
  "kernelspec": {
   "display_name": "Python 3",
   "language": "python",
   "name": "python3"
  },
  "language_info": {
   "codemirror_mode": {
    "name": "ipython",
    "version": 3
   },
   "file_extension": ".py",
   "mimetype": "text/x-python",
   "name": "python",
   "nbconvert_exporter": "python",
   "pygments_lexer": "ipython3",
   "version": "3.6.3"
  }
 },
 "nbformat": 4,
 "nbformat_minor": 2
}

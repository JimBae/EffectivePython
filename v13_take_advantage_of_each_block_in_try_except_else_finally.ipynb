{
 "cells": [
  {
   "cell_type": "markdown",
   "metadata": {},
   "source": [
    "There are four distinct times that you may want to take action during exception handling in Python. These are captured in the functionality of try, except, else, and finally blocks.\n",
    "\n"
   ]
  },
  {
   "cell_type": "code",
   "execution_count": 1,
   "metadata": {
    "collapsed": true
   },
   "outputs": [],
   "source": [
    "import logging\n",
    "from pprint import pprint\n",
    "from sys import stdout as STDOUT\n",
    "\n",
    "\n",
    "# Example Finally Blocks\n",
    "handle = open('random_data.txt', 'w', encoding='utf-8')\n",
    "handle.write('success\\nand\\nnew\\nlines')\n",
    "handle.close()\n",
    "handle = open('random_data.txt')  # May raise IOError\n",
    "try:\n",
    "    data = handle.read()  # May raise UnicodeDecodeError\n",
    "finally:\n",
    "    handle.close()        # Always runs after try:"
   ]
  },
  {
   "cell_type": "code",
   "execution_count": 4,
   "metadata": {
    "collapsed": true
   },
   "outputs": [],
   "source": [
    "# Else Blocks\n",
    "import json\n",
    "\n",
    "def load_json_key(data, key):\n",
    "    try:\n",
    "        result_dict = json.loads(data)  # May raise ValueError\n",
    "    except ValueError as e:\n",
    "        raise KeyError from e\n",
    "    else:\n",
    "        return result_dict[key]         # May raise KeyError\n",
    "\n",
    "# JSON decode successful\n",
    "assert load_json_key('{\"foo\": \"bar\"}', 'foo') == 'bar'\n",
    "try:\n",
    "    load_json_key('{\"foo\": \"bar\"}', 'does not exist')\n",
    "    assert False\n",
    "except KeyError:\n",
    "    pass  # Expected\n",
    "\n",
    "# JSON decode fails\n",
    "try:\n",
    "    load_json_key('{\"foo\": bad payload', 'foo')\n",
    "    assert False\n",
    "except KeyError:\n",
    "    pass  # Expected"
   ]
  },
  {
   "cell_type": "markdown",
   "metadata": {},
   "source": [
    "Use try/except/else to make it clear which exceptions will be handled by your code and which exceptions will propagate up.\n",
    "When the try block doesn’t raise an exception, the else block will run. The else block helps you minimize the amount of code in the try block and improves readability.\n",
    "\n",
    "* try block    - used to read the file and process it. \n",
    "* except block - used to handle exceptions from the try block that are expected. \n",
    "* else block   - used to update the file in place and to allow related exceptions to propagate up. \n",
    "* finally block - cleans up the file handle."
   ]
  },
  {
   "cell_type": "code",
   "execution_count": 5,
   "metadata": {
    "collapsed": true
   },
   "outputs": [],
   "source": [
    "import json\n",
    "UNDEFINED = object()\n",
    "\n",
    "def divide_json(path):\n",
    "    handle = open(path, 'r+')   # May raise IOError\n",
    "    try:\n",
    "        data = handle.read()    # May raise UnicodeDecodeError\n",
    "        op = json.loads(data)   # May raise ValueError\n",
    "        value = (\n",
    "            op['numerator'] /\n",
    "            op['denominator'])  # May raise ZeroDivisionError\n",
    "    except ZeroDivisionError as e:\n",
    "        return UNDEFINED\n",
    "    else:\n",
    "        op['result'] = value\n",
    "        result = json.dumps(op)\n",
    "        handle.seek(0)\n",
    "        handle.write(result)    # May raise IOError\n",
    "        return value\n",
    "    finally:\n",
    "        handle.close()          # Always runs\n",
    "\n",
    "# Everything works\n",
    "temp_path = 'random_data.json'\n",
    "handle = open(temp_path, 'w')\n",
    "handle.write('{\"numerator\": 1, \"denominator\": 10}')\n",
    "handle.close()\n",
    "assert divide_json(temp_path) == 0.1\n",
    "\n",
    "# Divide by Zero error\n",
    "handle = open(temp_path, 'w')\n",
    "handle.write('{\"numerator\": 1, \"denominator\": 0}')\n",
    "handle.close()\n",
    "assert divide_json(temp_path) is UNDEFINED\n",
    "\n",
    "# JSON decode error\n",
    "handle = open(temp_path, 'w')\n",
    "handle.write('{\"numerator\": 1 bad data')\n",
    "handle.close()\n",
    "try:\n",
    "    divide_json(temp_path)\n",
    "    assert False\n",
    "except ValueError:\n",
    "    pass  # Expected"
   ]
  },
  {
   "cell_type": "markdown",
   "metadata": {},
   "source": [
    "* The try/finally compound statement lets you run cleanup code regardless of whether exceptions were raised in the try block\n",
    "* The else block helps you minimize the amount of code in try blocks and visually distinguish the success case from the try/except blocks.\n",
    "* An else block can be used to perform additional actions after a successful try block but before common cleanup in a finally block.\n"
   ]
  }
 ],
 "metadata": {
  "kernelspec": {
   "display_name": "Python 3",
   "language": "python",
   "name": "python3"
  },
  "language_info": {
   "codemirror_mode": {
    "name": "ipython",
    "version": 3
   },
   "file_extension": ".py",
   "mimetype": "text/x-python",
   "name": "python",
   "nbconvert_exporter": "python",
   "pygments_lexer": "ipython3",
   "version": "3.6.3"
  }
 },
 "nbformat": 4,
 "nbformat_minor": 2
}

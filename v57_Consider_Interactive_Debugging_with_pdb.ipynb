{
 "cells": [
  {
   "cell_type": "markdown",
   "metadata": {},
   "source": [
    "Everyone encounters bugs in their code while developing programs. Using the print\n",
    "function can help you track down the source of many issues (see Item 55: “Use repr\n",
    "Strings for Debugging Output”). Writing tests for specific cases that cause trouble is\n",
    "another great way to isolate problems (see Item 56: “Test Everything with unittest”).\n",
    "But these tools aren’t enough to find every root cause. When you need something more\n",
    "powerful, it’s time to try Python’s built-in interactive debugger. The debugger lets you\n",
    "inspect program state, print local variables, and step through a Python program one\n",
    "statement at a time.\n",
    "\n",
    "In most other programming languages, you use a debugger by specifying what line of a\n",
    "source file you’d like to stop on, then execute the program. In contrast, with Python the\n",
    "easiest way to use the debugger is by modifying your program to directly initiate the\n",
    "debugger just before you think you’ll have an issue worth investigating. There is no\n",
    "difference between running a Python program under a debugger and running it normally.\n",
    "To initiate the debugger, all you have to do is import the pdb built-in module and run its\n",
    "set_trace function. You’ll often see this done in a single line so programmers can\n",
    "comment it out with a single # character."
   ]
  },
  {
   "cell_type": "markdown",
   "metadata": {},
   "source": [
    "def complex_func(a, b, c):\n",
    "    \n",
    "    # …\n",
    "    \n",
    "    import pdb; pdb.set_trace()"
   ]
  },
  {
   "cell_type": "markdown",
   "metadata": {},
   "source": [
    "As soon as this statement runs, the program will pause its execution. The terminal that\n",
    "started your program will turn into an interactive Python shell.\n"
   ]
  },
  {
   "cell_type": "markdown",
   "metadata": {},
   "source": [
    "-> import pdb; pdb.set_trace()\n",
    "(Pdb)"
   ]
  },
  {
   "cell_type": "markdown",
   "metadata": {},
   "source": [
    "At the (Pdb) prompt, you can type in the name of local variables to see their values\n",
    "printed out. You can see a list of all local variables by calling the locals built-in\n",
    "function. You can import modules, inspect global state, construct new objects, run the\n",
    "help built-in function, and even modify parts of the program—whatever you need to do\n",
    "to aid in your debugging. In addition, the debugger has three commands that make\n",
    "inspecting the running program easier.\n",
    "\n",
    " - bt: Print the traceback of the current execution call stack. This lets you figure out where you are in your program and how you arrived at the pdb.set_trace trigger point.\n",
    " - up: Move your scope up the function call stack to the caller of the current function. This allows you to inspect the local variables in higher levels of the call stack.\n",
    " - down: Move your scope back down the function call stack one level.\n",
    " \n",
    "Once you’re done inspecting the current state, you can use debugger commands to resume\n",
    "the program’s execution under precise control.\n",
    "\n",
    " - step: Run the program until the next line of execution in the program, then return control back to the debugger. If the next line of execution includes calling a function, the debugger will stop in the function that was called.\n",
    " - next: Run the program until the next line of execution in the current function, then return control back to the debugger. If the next line of execution includes calling a function, the debugger will not stop until the called function has returned.\n",
    " - return: Run the program until the current function returns, then return control back to the debugger. \n",
    " - continue: Continue running the program until the next breakpoint (or set_trace is called again).\n",
    " \n",
    " "
   ]
  },
  {
   "cell_type": "markdown",
   "metadata": {},
   "source": [
    "* You can initiate the Python interactive debugger at a point of interest directly in your program with the import pdb; pdb.set_trace() statements.\n",
    "\n",
    "* The Python debugger prompt is a full Python shell that lets you inspect and modify the state of a running program.\n",
    "\n",
    "* pdb shell commands let you precisely control program execution, allowing you to alternate between inspecting program state and progressing program execution.\n"
   ]
  }
 ],
 "metadata": {
  "kernelspec": {
   "display_name": "Python 3",
   "language": "python",
   "name": "python3"
  },
  "language_info": {
   "codemirror_mode": {
    "name": "ipython",
    "version": 3
   },
   "file_extension": ".py",
   "mimetype": "text/x-python",
   "name": "python",
   "nbconvert_exporter": "python",
   "pygments_lexer": "ipython3",
   "version": "3.6.3"
  }
 },
 "nbformat": 4,
 "nbformat_minor": 2
}

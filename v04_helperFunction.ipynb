{
 "cells": [
  {
   "cell_type": "code",
   "execution_count": 2,
   "metadata": {},
   "outputs": [],
   "source": [
    "## query string parameter represents an integer value\n"
   ]
  },
  {
   "cell_type": "code",
   "execution_count": 1,
   "metadata": {},
   "outputs": [
    {
     "name": "stdout",
     "output_type": "stream",
     "text": [
      "{'red': ['5'], 'blue': ['0'], 'green': ['']}\n"
     ]
    }
   ],
   "source": [
    "import logging\n",
    "from pprint import pprint\n",
    "from sys import stdout as STDOUT\n",
    "\n",
    "from urllib.parse import parse_qs\n",
    "\n",
    "my_values = parse_qs('red=5&blue=0&green=',\n",
    "                     keep_blank_values=True)\n",
    "print(repr(my_values))\n"
   ]
  },
  {
   "cell_type": "code",
   "execution_count": 3,
   "metadata": {},
   "outputs": [
    {
     "name": "stdout",
     "output_type": "stream",
     "text": [
      "Red:      ['5']\n",
      "Green:    ['']\n",
      "Opacity:  None\n"
     ]
    }
   ],
   "source": [
    "print('Red:     ', my_values.get('red'))\n",
    "print('Green:   ', my_values.get('green'))\n",
    "print('Opacity: ', my_values.get('opacity'))"
   ]
  },
  {
   "cell_type": "code",
   "execution_count": 4,
   "metadata": {},
   "outputs": [
    {
     "name": "stdout",
     "output_type": "stream",
     "text": [
      "Red:     '5'\n",
      "Green:   0\n",
      "Opacity: 0\n"
     ]
    }
   ],
   "source": [
    "red = my_values.get('red', [''])[0] or 0\n",
    "green = my_values.get('green', [''])[0] or 0\n",
    "opacity = my_values.get('opacity', [''])[0] or 0\n",
    "print('Red:     %r' % red)\n",
    "print('Green:   %r' % green)\n",
    "print('Opacity: %r' % opacity)"
   ]
  },
  {
   "cell_type": "code",
   "execution_count": 5,
   "metadata": {},
   "outputs": [
    {
     "name": "stdout",
     "output_type": "stream",
     "text": [
      "Red:     5\n",
      "Green:   0\n",
      "Opacity: 0\n"
     ]
    }
   ],
   "source": [
    "red = int(my_values.get('red', [''])[0] or 0)\n",
    "green = int(my_values.get('green', [''])[0] or 0)\n",
    "opacity = int(my_values.get('opacity', [''])[0] or 0)\n",
    "print('Red:     %r' % red)\n",
    "print('Green:   %r' % green)\n",
    "print('Opacity: %r' % opacity)"
   ]
  },
  {
   "cell_type": "code",
   "execution_count": 6,
   "metadata": {},
   "outputs": [
    {
     "name": "stdout",
     "output_type": "stream",
     "text": [
      "Red:     5\n",
      "Green:   0\n",
      "Opacity: 0\n"
     ]
    }
   ],
   "source": [
    "red = my_values.get('red', [''])\n",
    "red = int(red[0]) if red[0] else 0\n",
    "green = my_values.get('green', [''])\n",
    "green = int(green[0]) if green[0] else 0\n",
    "opacity = my_values.get('opacity', [''])\n",
    "opacity = int(opacity[0]) if opacity[0] else 0\n",
    "print('Red:     %r' % red)\n",
    "print('Green:   %r' % green)\n",
    "print('Opacity: %r' % opacity)"
   ]
  },
  {
   "cell_type": "code",
   "execution_count": 7,
   "metadata": {},
   "outputs": [
    {
     "name": "stdout",
     "output_type": "stream",
     "text": [
      "Green:   0\n"
     ]
    }
   ],
   "source": [
    "green = my_values.get('green', [''])\n",
    "if green[0]:\n",
    "    green = int(green[0])\n",
    "else:\n",
    "    green = 0\n",
    "print('Green:   %r' % green)"
   ]
  },
  {
   "cell_type": "code",
   "execution_count": 9,
   "metadata": {},
   "outputs": [
    {
     "name": "stdout",
     "output_type": "stream",
     "text": [
      "Green:   0\n"
     ]
    }
   ],
   "source": [
    "def get_first_int(values, key, default=0):\n",
    "    found = values.get(key, [''])\n",
    "    if found[0]:\n",
    "        found = int(found[0])\n",
    "    else:\n",
    "        found = default\n",
    "    return found\n",
    "\n",
    "green = get_first_int(my_values, 'green')\n",
    "print('Green:   %r' % green)"
   ]
  },
  {
   "cell_type": "code",
   "execution_count": null,
   "metadata": {},
   "outputs": [],
   "source": []
  }
 ],
 "metadata": {
  "kernelspec": {
   "display_name": "Python 3",
   "language": "python",
   "name": "python3"
  },
  "language_info": {
   "codemirror_mode": {
    "name": "ipython",
    "version": 3
   },
   "file_extension": ".py",
   "mimetype": "text/x-python",
   "name": "python",
   "nbconvert_exporter": "python",
   "pygments_lexer": "ipython3",
   "version": "3.6.5"
  }
 },
 "nbformat": 4,
 "nbformat_minor": 2
}

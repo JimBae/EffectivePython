{
 "cells": [
  {
   "cell_type": "markdown",
   "metadata": {},
   "source": [
    "For example, say you want to read a file and return the number of characters on each line.\n",
    "Doing this with a list comprehension would require holding the length of every line of the\n",
    "file in memory. If the file is absolutely enormous or perhaps a never-ending network\n",
    "socket, list comprehensions are problematic. Here, I use a list comprehension in a way that\n",
    "can only handle small input values.\n",
    "\n",
    "To solve this, Python provides generator expressions, a generalization of list\n",
    "comprehensions and generators. Generator expressions don’t materialize the whole output\n",
    "sequence when they’re run. Instead, generator expressions evaluate to an iterator that\n",
    "yields one item at a time from the expression.\n",
    "\n",
    "A generator expression is created by putting list-comprehension-like syntax between ()\n",
    "characters. Here, I use a generator expression that is equivalent to the code above.\n",
    "However, the generator expression immediately evaluates to an iterator and doesn’t make\n",
    "any forward progress.\n",
    "\n",
    "The returned iterator can be advanced one step at a time to produce the next output from\n",
    "the generator expression as needed (using the next built-in function). Your code can\n",
    "consume as much of the generator expression as you want without risking a blowup in\n",
    "memory usage.\n",
    "\n",
    "Another powerful outcome of generator expressions is that they can be composed together.\n",
    "Here, I take the iterator returned by the generator expression above and use it as the input\n",
    "for another generator expression.\n",
    "\n"
   ]
  },
  {
   "cell_type": "code",
   "execution_count": 2,
   "metadata": {},
   "outputs": [
    {
     "name": "stdout",
     "output_type": "stream",
     "text": [
      "[42, 58, 28, 75, 34, 72, 90, 2, 64, 28]\n"
     ]
    }
   ],
   "source": [
    "import logging\n",
    "from pprint import pprint\n",
    "from sys import stdout as STDOUT\n",
    "\n",
    "# Example 1\n",
    "import random\n",
    "with open('my_file.txt', 'w') as f:\n",
    "    for _ in range(10):\n",
    "        f.write('a' * random.randint(0, 100))\n",
    "        f.write('\\n')\n",
    "\n",
    "value = [len(x) for x in open('my_file.txt')]\n",
    "print(value)\n"
   ]
  },
  {
   "cell_type": "code",
   "execution_count": 3,
   "metadata": {},
   "outputs": [
    {
     "name": "stdout",
     "output_type": "stream",
     "text": [
      "<generator object <genexpr> at 0x111a17200>\n"
     ]
    }
   ],
   "source": [
    "it = (len(x) for x in open('my_file.txt'))\n",
    "print(it)\n"
   ]
  },
  {
   "cell_type": "code",
   "execution_count": 4,
   "metadata": {},
   "outputs": [
    {
     "name": "stdout",
     "output_type": "stream",
     "text": [
      "42\n",
      "58\n"
     ]
    }
   ],
   "source": [
    "print(next(it))\n",
    "print(next(it))\n"
   ]
  },
  {
   "cell_type": "code",
   "execution_count": 5,
   "metadata": {},
   "outputs": [
    {
     "name": "stdout",
     "output_type": "stream",
     "text": [
      "(28, 5.291502622129181)\n"
     ]
    }
   ],
   "source": [
    "roots = ((x, x**0.5) for x in it)\n",
    "print(next(roots))"
   ]
  },
  {
   "cell_type": "markdown",
   "metadata": {},
   "source": [
    "* List comprehensions can cause problems for large inputs by using too much memory.\n",
    "* Generator expressions avoid memory issues by producing outputs one at a time as an iterator.\n",
    "* Generator expressions can be composed by passing the iterator from one generator expression into the for subexpression of another.\n",
    "* Generator expressions execute very quickly when chained together.\n",
    "\n",
    "\n"
   ]
  }
 ],
 "metadata": {
  "kernelspec": {
   "display_name": "Python 3",
   "language": "python",
   "name": "python3"
  },
  "language_info": {
   "codemirror_mode": {
    "name": "ipython",
    "version": 3
   },
   "file_extension": ".py",
   "mimetype": "text/x-python",
   "name": "python",
   "nbconvert_exporter": "python",
   "pygments_lexer": "ipython3",
   "version": "3.6.3"
  }
 },
 "nbformat": 4,
 "nbformat_minor": 2
}

{
 "cells": [
  {
   "cell_type": "markdown",
   "metadata": {},
   "source": [
    "The with statement in Python is used to indicate when code is running in a special\n",
    "context. For example, mutual exclusion locks (see Item 38: “Use Lock to Prevent Data\n",
    "Races in Threads”) can be used in with statements to indicate that the indented code only\n",
    "runs while the lock is held.\n",
    "\n"
   ]
  },
  {
   "cell_type": "code",
   "execution_count": 10,
   "metadata": {},
   "outputs": [
    {
     "name": "stdout",
     "output_type": "stream",
     "text": [
      "Lock is held\n"
     ]
    }
   ],
   "source": [
    "import logging\n",
    "from pprint import pprint\n",
    "from sys import stdout as STDOUT\n",
    "\n",
    "\n",
    "# Example 1\n",
    "from threading import Lock\n",
    "lock = Lock()\n",
    "with lock:\n",
    "    print('Lock is held')"
   ]
  },
  {
   "cell_type": "markdown",
   "metadata": {},
   "source": []
  },
  {
   "cell_type": "code",
   "execution_count": 9,
   "metadata": {},
   "outputs": [
    {
     "name": "stdout",
     "output_type": "stream",
     "text": [
      "Lock is held\n"
     ]
    }
   ],
   "source": [
    "# Example 2\n",
    "lock.acquire()\n",
    "try:\n",
    "    print('Lock is held')\n",
    "finally:\n",
    "    lock.release()\n"
   ]
  },
  {
   "cell_type": "markdown",
   "metadata": {},
   "source": [
    "The with statement version of this is better because it eliminates the need to write the\n",
    "repetitive code of the try/finally construction. It’s easy to make your objects and\n",
    "functions capable of use in with statements by using the contextlib built-in module.\n",
    "This module contains the contextmanager decorator, which lets a simple function be\n",
    "used in with statements. This is much easier than defining a new class with the special\n",
    "methods __enter__ and __exit__ (the standard way).\n",
    "\n",
    "For example, say you want a region of your code to have more debug logging sometimes.\n",
    "Here, I define a function that does logging at two severity levels:\n",
    "\n",
    "The default log level for my program is WARNING, so only the error message will print to\n",
    "screen when I run the function."
   ]
  },
  {
   "cell_type": "code",
   "execution_count": 11,
   "metadata": {},
   "outputs": [
    {
     "name": "stderr",
     "output_type": "stream",
     "text": [
      "ERROR:root:Error log here\n"
     ]
    }
   ],
   "source": [
    "# Example 3\n",
    "import logging\n",
    "logging.getLogger().setLevel(logging.WARNING)\n",
    "def my_function():\n",
    "    logging.debug('Some debug data')\n",
    "    logging.error('Error log here')\n",
    "    logging.debug('More debug data')\n",
    "    \n",
    "# Example 4\n",
    "my_function()"
   ]
  },
  {
   "cell_type": "markdown",
   "metadata": {},
   "source": [
    "I can elevate the log level of this function temporarily by defining a context manager. This\n",
    "helper function boosts the logging severity level before running the code in the with\n",
    "block and reduces the logging severity level afterward.\n",
    "\n",
    "The yield expression is the point at which the with block’s contents will execute. Any\n",
    "exceptions that happen in the with block will be re-raised by the yield expression for\n",
    "you to catch in the helper function (see Item 40: “Consider Coroutines to Run Many\n",
    "Functions Concurrently” for an explanation of how that works).\n",
    "\n",
    "Now, I can call the same logging function again, but in the debug_logging context.\n",
    "This time, all of the debug messages are printed to the screen during the with block. The\n",
    "same function running outside the with block won’t print debug messages.\n"
   ]
  },
  {
   "cell_type": "code",
   "execution_count": 12,
   "metadata": {},
   "outputs": [
    {
     "name": "stderr",
     "output_type": "stream",
     "text": [
      "DEBUG:root:Some debug data\n",
      "ERROR:root:Error log here\n",
      "DEBUG:root:More debug data\n",
      "ERROR:root:Error log here\n"
     ]
    },
    {
     "name": "stdout",
     "output_type": "stream",
     "text": [
      "Inside:\n",
      "After:\n"
     ]
    }
   ],
   "source": [
    "# Example 5\n",
    "from contextlib import contextmanager\n",
    "@contextmanager\n",
    "def debug_logging(level):\n",
    "    logger = logging.getLogger()\n",
    "    old_level = logger.getEffectiveLevel()\n",
    "    logger.setLevel(level)\n",
    "    try:\n",
    "        yield\n",
    "    finally:\n",
    "        logger.setLevel(old_level)\n",
    "\n",
    "\n",
    "# Example 6\n",
    "with debug_logging(logging.DEBUG):\n",
    "    print('Inside:')\n",
    "    my_function()\n",
    "print('After:')\n",
    "my_function()\n",
    "\n"
   ]
  },
  {
   "cell_type": "markdown",
   "metadata": {},
   "source": [
    ">>> \n",
    "Using with Targets\n",
    "\n",
    "The context manager passed to a with statement may also return an object. This object is\n",
    "assigned to a local variable in the as part of the compound statement. This gives the code\n",
    "running in the with block the ability to directly interact with its context.\n",
    "\n",
    "For example, say you want to write a file and ensure that it’s always closed correctly. You\n",
    "can do this by passing open to the with statement. open returns a file handle for the as\n",
    "target of with and will close the handle when the with block exits.\n",
    "\n"
   ]
  },
  {
   "cell_type": "code",
   "execution_count": 13,
   "metadata": {
    "collapsed": true
   },
   "outputs": [],
   "source": [
    "# Example 7\n",
    "with open('my_output.txt', 'w') as handle:\n",
    "    handle.write('This is some data!')"
   ]
  },
  {
   "cell_type": "markdown",
   "metadata": {},
   "source": [
    "This approach is preferable to manually opening and closing the file handle every time. It\n",
    "gives you confidence that the file is eventually closed when execution leaves the with\n",
    "statement. It also encourages you to reduce the amount of code that executes while the file\n",
    "handle is open, which is good practice in general.\n",
    "\n",
    "To enable your own functions to supply values for as targets, all you need to do is yield\n",
    "a value from your context manager. For example, here I define a context manager to fetch\n",
    "a Logger instance, set its level, and then yield it for the as target."
   ]
  },
  {
   "cell_type": "code",
   "execution_count": 15,
   "metadata": {
    "collapsed": true
   },
   "outputs": [],
   "source": [
    "# Example 8\n",
    "@contextmanager\n",
    "def log_level(level, name):\n",
    "    logger = logging.getLogger(name)\n",
    "    old_level = logger.getEffectiveLevel()\n",
    "    logger.setLevel(level)\n",
    "    try:\n",
    "        yield logger\n",
    "    finally:\n",
    "        logger.setLevel(old_level)\n"
   ]
  },
  {
   "cell_type": "markdown",
   "metadata": {},
   "source": [
    "Calling logging methods like debug on the as target will produce output because the\n",
    "logging severity level is set low enough in the with block. Using the logging module\n",
    "directly won’t print anything because the default logging severity level for the default\n",
    "program logger is WARNING."
   ]
  },
  {
   "cell_type": "code",
   "execution_count": 16,
   "metadata": {},
   "outputs": [
    {
     "name": "stderr",
     "output_type": "stream",
     "text": [
      "DEBUG:my-log:This is my message!\n"
     ]
    }
   ],
   "source": [
    "# Example 9\n",
    "with log_level(logging.DEBUG, 'my-log') as logger:\n",
    "    logger.debug('This is my message!')\n",
    "    logging.debug('This will not print')"
   ]
  },
  {
   "cell_type": "markdown",
   "metadata": {},
   "source": [
    "After the with statement exits, calling debug logging methods on the Logger named\n",
    "'my-log' will not print anything because the default logging severity level has been\n",
    "restored. Error log messages will always print.\n",
    "\n",
    "\n"
   ]
  },
  {
   "cell_type": "code",
   "execution_count": null,
   "metadata": {
    "collapsed": true
   },
   "outputs": [],
   "source": [
    "# Example 10\n",
    "logger = logging.getLogger('my-log')\n",
    "logger.debug('Debug will not print')\n",
    "logger.error('Error will print')"
   ]
  },
  {
   "cell_type": "markdown",
   "metadata": {},
   "source": [
    "* The with statement allows you to reuse logic from try/finally blocks and reduce visual noise.\n",
    "* The contextlib built-in module provides a contextmanager decorator that makes it easy to use your own functions in with statements.\n",
    "* The value yielded by context managers is supplied to the as part of the with statement. It’s useful for letting your code directly access the cause of the special context."
   ]
  }
 ],
 "metadata": {
  "kernelspec": {
   "display_name": "Python 3",
   "language": "python",
   "name": "python3"
  },
  "language_info": {
   "codemirror_mode": {
    "name": "ipython",
    "version": 3
   },
   "file_extension": ".py",
   "mimetype": "text/x-python",
   "name": "python",
   "nbconvert_exporter": "python",
   "pygments_lexer": "ipython3",
   "version": "3.6.3"
  }
 },
 "nbformat": 4,
 "nbformat_minor": 2
}

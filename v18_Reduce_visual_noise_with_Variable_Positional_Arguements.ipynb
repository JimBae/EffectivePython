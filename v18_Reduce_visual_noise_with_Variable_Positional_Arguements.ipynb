{
 "cells": [
  {
   "cell_type": "markdown",
   "metadata": {},
   "source": [
    "Accepting optional positional arguments (often called star args in reference to the\n",
    "conventional name for the parameter, *args) can make a function call more clear and\n",
    "remove visual noise."
   ]
  },
  {
   "cell_type": "code",
   "execution_count": 1,
   "metadata": {},
   "outputs": [
    {
     "name": "stdout",
     "output_type": "stream",
     "text": [
      "My numbers are: 1, 2\n",
      "Hi there\n"
     ]
    }
   ],
   "source": [
    "import logging\n",
    "from pprint import pprint\n",
    "from sys import stdout as STDOUT\n",
    "\n",
    "\n",
    "# Example 1\n",
    "def log(message, values):\n",
    "    if not values:\n",
    "        print(message)\n",
    "    else:\n",
    "        values_str = ', '.join(str(x) for x in values)\n",
    "        print('%s: %s' % (message, values_str))\n",
    "\n",
    "log('My numbers are', [1, 2])\n",
    "log('Hi there', [])"
   ]
  },
  {
   "cell_type": "markdown",
   "metadata": {},
   "source": [
    "Having to pass an empty list when you have no values to log is cumbersome and noisy.\n",
    "It’d be better to leave out the second argument entirely. You can do this in Python by\n",
    "prefixing the last positional parameter name with *. The first parameter for the log\n",
    "message is required, whereas any number of subsequent positional arguments are optional.\n",
    "The function body doesn’t need to change, only the callers do.\n",
    "\n",
    "If you already have a list and want to call a variable argument function like log, you can\n",
    "do this by using the * operator. This instructs Python to pass items from the sequence as\n",
    "positional arguments."
   ]
  },
  {
   "cell_type": "code",
   "execution_count": 2,
   "metadata": {},
   "outputs": [
    {
     "name": "stdout",
     "output_type": "stream",
     "text": [
      "My numbers are: 1, 2\n",
      "Hi there\n",
      "Favorite colors: 7, 33, 99\n"
     ]
    }
   ],
   "source": [
    "# Example 2\n",
    "def log(message, *values):  # The only difference\n",
    "    if not values:\n",
    "        print(message)\n",
    "    else:\n",
    "        values_str = ', '.join(str(x) for x in values)\n",
    "        print('%s: %s' % (message, values_str))\n",
    "\n",
    "log('My numbers are', 1, 2)\n",
    "log('Hi there')  # Much better\n",
    "\n",
    "\n",
    "# Example 3\n",
    "favorites = [7, 33, 99]\n",
    "log('Favorite colors', *favorites)"
   ]
  },
  {
   "cell_type": "markdown",
   "metadata": {},
   "source": [
    "There are two problems with accepting a variable number of positional arguments.\n",
    "The first issue is that the variable arguments are always turned into a tuple before they are\n",
    "passed to your function. This means that if the caller of your function uses the * operator\n",
    "on a generator, it will be iterated until it’s exhausted. The resulting tuple will include every\n",
    "value from the generator, which could consume a lot of memory and cause your program\n",
    "to crash.\n",
    "\n",
    "Functions that accept *args are best for situations where you know the number of inputs\n",
    "in the argument list will be reasonably small. It’s ideal for function calls that pass many\n",
    "literals or variable names together. It’s primarily for the convenience of the programmer\n",
    "and the readability of the code.\n",
    "The second issue with *args is that you can’t add new positional arguments to your\n",
    "function in the future without migrating every caller. If you try to add a positional\n",
    "argument in the front of the argument list, existing callers will subtly break if they aren’t\n",
    "updated\n",
    "\n",
    "\n",
    "The problem here is that the second call to log used 7 as the message parameter\n",
    "because a sequence argument wasn’t given. Bugs like this are hard to track down\n",
    "because the code still runs without raising any exceptions. To avoid this possibility\n",
    "entirely, you should use keyword-only arguments when you want to extend functions that\n",
    "accept *args (see Item 21: “Enforce Clarity with Keyword-Only Arguments”)."
   ]
  },
  {
   "cell_type": "code",
   "execution_count": 3,
   "metadata": {},
   "outputs": [
    {
     "name": "stdout",
     "output_type": "stream",
     "text": [
      "(0, 1, 2, 3, 4, 5, 6, 7, 8, 9)\n",
      "1: Favorites: 7, 33\n",
      "Favorite numbers: 7: 33\n"
     ]
    }
   ],
   "source": [
    "def my_generator():\n",
    "    for i in range(10):\n",
    "        yield i\n",
    "\n",
    "def my_func(*args):\n",
    "    print(args)\n",
    "\n",
    "it = my_generator()\n",
    "my_func(*it)\n",
    "\n",
    "\n",
    "# Example 5\n",
    "def log(sequence, message, *values):\n",
    "    if not values:\n",
    "        print('%s: %s' % (sequence, message))\n",
    "    else:\n",
    "        values_str = ', '.join(str(x) for x in values)\n",
    "        print('%s: %s: %s' % (sequence, message, values_str))\n",
    "\n",
    "log(1, 'Favorites', 7, 33)      # New usage is OK\n",
    "log('Favorite numbers', 7, 33)  # Old usage breaks"
   ]
  },
  {
   "cell_type": "markdown",
   "metadata": {},
   "source": [
    "* Functions can accept a variable number of positional arguments by using *args in the def statement.\n",
    "* You can use the items from a sequence as the positional arguments for a function with the * operator.\n",
    "* Using the * operator with a generator may cause your program to run out of memory and crash.\n",
    "* Adding new positional parameters to functions that accept *args can introduce hard-to-find bugs."
   ]
  }
 ],
 "metadata": {
  "kernelspec": {
   "display_name": "Python 3",
   "language": "python",
   "name": "python3"
  },
  "language_info": {
   "codemirror_mode": {
    "name": "ipython",
    "version": 3
   },
   "file_extension": ".py",
   "mimetype": "text/x-python",
   "name": "python",
   "nbconvert_exporter": "python",
   "pygments_lexer": "ipython3",
   "version": "3.6.3"
  }
 },
 "nbformat": 4,
 "nbformat_minor": 2
}

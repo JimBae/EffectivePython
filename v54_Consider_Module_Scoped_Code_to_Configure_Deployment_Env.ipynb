{
 "cells": [
  {
   "cell_type": "markdown",
   "metadata": {},
   "source": [
    "# 8. Production\n",
    "\n",
    "Putting a Python program to use requires moving it from a development environment to a\n",
    "production environment. Supporting disparate configurations like this can be a challenge.\n",
    "Making programs that are dependable in multiple situations is just as important as making\n",
    "programs with correct functionality.\n",
    "\n",
    "The goal is to productionize your Python programs and make them bulletproof while\n",
    "they’re in use. Python has built-in modules that aid in hardening your programs. It\n",
    "provides facilities for debugging, optimizing, and testing to maximize the quality and\n",
    "performance of your programs at runtime.\n"
   ]
  },
  {
   "cell_type": "markdown",
   "metadata": {},
   "source": [
    "A deployment environment is a configuration in which your program runs. Every program\n",
    "has at least one deployment environment, the production environment. The goal of writing\n",
    "a program in the first place is to put it to work in the production environment and achieve\n",
    "some kind of outcome.\n",
    "\n",
    "Writing or modifying a program requires being able to run it on the computer you use for\n",
    "developing. The configuration of your development environment may be much different\n",
    "from your production environment. For example, you may be writing a program for\n",
    "supercomputers using a Linux workstation.\n",
    "\n",
    "Tools like pyvenv (see Item 53: “Use Virtual Environments for Isolated and\n",
    "Reproducible Dependencies”) make it easy to ensure that all environments have the same\n",
    "Python packages installed. The trouble is that production environments often require many\n",
    "external assumptions that are hard to reproduce in development environments.\n",
    "\n",
    "For example, say you want to run your program in a web server container and give it\n",
    "access to a database. This means that every time you want to modify your program’s code,\n",
    "you need to run a server container, the database must be set up properly, and your program\n",
    "needs the password for access. That’s a very high cost if all you’re trying to do is verify\n",
    "that a one-line change to your program works correctly.\n",
    "\n",
    "The best way to work around these issues is to override parts of your program at startup\n",
    "time to provide different functionality depending on the deployment environment. For\n",
    "example, you could have two different __main__ files, one for production and one for\n",
    "development."
   ]
  },
  {
   "cell_type": "markdown",
   "metadata": {},
   "source": [
    "# dev_main.py\n",
    "TESTING = True\n",
    "import db_connection\n",
    "db = db_connection.Database()\n",
    "\n",
    "# prod_main.py\n",
    "TESTING = False\n",
    "import db_connection\n",
    "db = db_connection.Database()"
   ]
  },
  {
   "cell_type": "markdown",
   "metadata": {},
   "source": [
    "The only difference between the two files is the value of the TESTING constant. Other\n",
    "modules in your program can then import the __main__ module and use the value of\n",
    "TESTING to decide how they define their own attributes.\n"
   ]
  },
  {
   "cell_type": "markdown",
   "metadata": {},
   "source": [
    "# db_connection.py\n",
    "import __main__\n",
    "class TestingDatabase(object):\n",
    "# …\n",
    "class RealDatabase(object):\n",
    "# …\n",
    "if __main__.TESTING:\n",
    "Database = TestingDatabase\n",
    "else:\n",
    "Database = RealDatabase\n"
   ]
  },
  {
   "cell_type": "markdown",
   "metadata": {},
   "source": [
    "The key behavior to notice here is that code running in module scope—not inside any\n",
    "function or method—is just normal Python code. You can use an if statement at the\n",
    "module level to decide how the module will define names. This makes it easy to tailor\n",
    "modules to your various deployment environments. You can avoid having to reproduce\n",
    "costly assumptions like database configurations when they aren’t needed. You can inject\n",
    "fake or mock implementations that ease interactive development and testing (see Item 56:\n",
    "“Test Everything with unittest”).\n",
    "\n",
    "### Note\n",
    "Once your deployment environments get complicated, you should consider moving\n",
    "them out of Python constants (like TESTING) and into dedicated configuration\n",
    "files. Tools like the configparser built-in module let you maintain production\n",
    "configurations separate from code, a distinction that’s crucial for collaborating with\n",
    "an operations team.\n",
    "\n",
    "This approach can be used for more than working around external assumptions. For\n",
    "example, if you know that your program must work differently based on its host platform,\n",
    "you can inspect the sys module before defining top-level constructs in a module."
   ]
  },
  {
   "cell_type": "markdown",
   "metadata": {},
   "source": [
    "# db_connection.py\n",
    "import sys\n",
    "class Win32Database(object):\n",
    "# …\n",
    "class PosixDatabase(object):\n",
    "# …\n",
    "if sys.platform.startswith(‘win32’):\n",
    "Database = Win32Database\n",
    "else:\n",
    "Database = PosixDatabase"
   ]
  },
  {
   "cell_type": "markdown",
   "metadata": {},
   "source": [
    "* Programs often need to run in multiple deployment environments that each have unique assumptions and configurations.\n",
    "\n",
    "* You can tailor a module’s contents to different deployment environments by using normal Python statements in module scope.\n",
    "\n",
    "* Module contents can be the product of any external condition, including host introspection through the sys and os modules."
   ]
  }
 ],
 "metadata": {
  "kernelspec": {
   "display_name": "Python 3",
   "language": "python",
   "name": "python3"
  },
  "language_info": {
   "codemirror_mode": {
    "name": "ipython",
    "version": 3
   },
   "file_extension": ".py",
   "mimetype": "text/x-python",
   "name": "python",
   "nbconvert_exporter": "python",
   "pygments_lexer": "ipython3",
   "version": "3.6.3"
  }
 },
 "nbformat": 4,
 "nbformat_minor": 2
}

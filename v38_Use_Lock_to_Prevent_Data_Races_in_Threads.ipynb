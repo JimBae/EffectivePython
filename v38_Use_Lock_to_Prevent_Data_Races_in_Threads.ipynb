{
 "cells": [
  {
   "cell_type": "markdown",
   "metadata": {},
   "source": [
    "After learning about the global interpreter lock (GIL) (see Item 37: “Use Threads for\n",
    "Blocking I/O, Avoid for Parallelism”), many new Python programmers assume they can\n",
    "forgo using mutual-exclusion locks (mutexes) in their code altogether. If the GIL is\n",
    "already preventing Python threads from running on multiple CPU cores in parallel, it must\n",
    "also act as a lock for a program’s data structures, right? Some testing on types like lists\n",
    "and dictionaries may even show that this assumption appears to hold.\n",
    "\n",
    "But beware, this is truly not the case. The GIL will not protect you. Although only one\n",
    "Python thread runs at a time, a thread’s operations on data structures can be interrupted\n",
    "between any two bytecode instructions in the Python interpreter. This is dangerous if you\n",
    "access the same objects from multiple threads simultaneously. The invariants of your data\n",
    "structures could be violated at practically any time because of these interruptions, leaving\n",
    "your program in a corrupted state.\n",
    "\n",
    "For example, say you want to write a program that counts many things in parallel, like\n",
    "sampling light levels from a whole network of sensors. If you want to determine the total\n",
    "number of light samples over time, you can aggregate them with a new class.\n",
    "\n",
    "\n",
    "### Example 2\n",
    "Imagine that each sensor has its own worker thread because reading from the sensor\n",
    "requires blocking I/O. After each sensor measurement, the worker thread increments the\n",
    "counter up to a maximum number of desired readings.\n",
    "\n",
    "### Example 3\n",
    "Here, I define a function that starts a worker thread for each sensor and waits for them all\n",
    "to finish their readings:\n",
    "\n",
    "### Example 4\n",
    "Running five threads in parallel seems simple, and the outcome should be obvious.\n",
    "\n"
   ]
  },
  {
   "cell_type": "code",
   "execution_count": 3,
   "metadata": {},
   "outputs": [
    {
     "name": "stdout",
     "output_type": "stream",
     "text": [
      "Counter should be 500000, found 460755\n"
     ]
    }
   ],
   "source": [
    "import logging\n",
    "from pprint import pprint\n",
    "from sys import stdout as STDOUT\n",
    "\n",
    "\n",
    "# Example 1\n",
    "class Counter(object):\n",
    "    def __init__(self):\n",
    "        self.count = 0\n",
    "\n",
    "    def increment(self, offset):\n",
    "        self.count += offset\n",
    "        \n",
    "\n",
    "# Example 2\n",
    "def worker(sensor_index, how_many, counter):\n",
    "    # I have a barrier in here so the workers synchronize\n",
    "    # when they start counting, otherwise it's hard to get a race\n",
    "    # because the overhead of starting a thread is high.\n",
    "    BARRIER.wait()\n",
    "    for _ in range(how_many):\n",
    "        # Read from the sensor\n",
    "        counter.increment(1)\n",
    "\n",
    "        \n",
    "# Example 3\n",
    "from threading import Barrier, Thread\n",
    "BARRIER = Barrier(5)\n",
    "def run_threads(func, how_many, counter):\n",
    "    threads = []\n",
    "    for i in range(5):\n",
    "        args = (i, how_many, counter)\n",
    "        thread = Thread(target=func, args=args)\n",
    "        threads.append(thread)\n",
    "        thread.start()\n",
    "    for thread in threads:\n",
    "        thread.join()\n",
    "\n",
    "\n",
    "# Example 4\n",
    "how_many = 10**5\n",
    "counter = Counter()\n",
    "run_threads(worker, how_many, counter)\n",
    "print('Counter should be %d, found %d' %\n",
    "      (5 * how_many, counter.count))"
   ]
  },
  {
   "cell_type": "markdown",
   "metadata": {},
   "source": [
    "But this result is way off! What happened here? How could something so simple go so\n",
    "wrong, especially since only one Python interpreter thread can run at a time?\n",
    "The Python interpreter enforces fairness between all of the threads that are executing to\n",
    "ensure they get a roughly equal amount of processing time. To do this, Python will\n",
    "suspend a thread as it’s running and will resume another thread in turn. The problem is\n",
    "that you don’t know exactly when Python will suspend your threads. A thread can even be\n",
    "paused seemingly halfway through what looks like an atomic operation. That’s what\n",
    "happened in this case.\n",
    "\n",
    "### Example 5\n",
    "The Counter object’s increment method looks simple.\n",
    "\n",
    "### Example 6\n",
    "But the += operator used on an object attribute actually instructs Python to do three\n",
    "separate operations behind the scenes. The statement above is equivalent to this:\n",
    "\n",
    "### Example 7\n",
    "Python threads incrementing the counter can be suspended between any two of these\n",
    "operations. This is problematic if the way the operations interleave causes old versions of\n",
    "value to be assigned to the counter. Here’s an example of bad interaction between two\n",
    "threads, A and B:"
   ]
  },
  {
   "cell_type": "code",
   "execution_count": 5,
   "metadata": {
    "collapsed": true
   },
   "outputs": [],
   "source": [
    "# Example 5\n",
    "offset = 5\n",
    "counter.count += offset\n",
    "\n",
    "# Example 6\n",
    "value = getattr(counter, 'count')\n",
    "result = value + offset\n",
    "setattr(counter, 'count', result)\n",
    "\n",
    "# Example 7\n",
    "# Running in Thread A\n",
    "value_a = getattr(counter, 'count')\n",
    "# Context switch to Thread B\n",
    "value_b = getattr(counter, 'count')\n",
    "result_b = value_b + 1\n",
    "setattr(counter, 'count', result_b)\n",
    "# Context switch back to Thread A\n",
    "result_a = value_a + 1\n",
    "setattr(counter, 'count', result_a)\n",
    "\n"
   ]
  },
  {
   "cell_type": "markdown",
   "metadata": {},
   "source": [
    "Thread A stomped on thread B, erasing all of its progress incrementing the counter. This is\n",
    "exactly what happened in the light sensor example above.\n",
    "\n",
    "To prevent data races like these and other forms of data structure corruption, Python\n",
    "includes a robust set of tools in the threading built-in module. The simplest and most\n",
    "useful of them is the Lock class, a mutual-exclusion lock (mutex).\n",
    "\n",
    "By using a lock, I can have the Counter class protect its current value against\n",
    "simultaneous access from multiple threads. Only one thread will be able to acquire the\n",
    "lock at a time. Here, I use a with statement to acquire and release the lock; this makes it\n",
    "easier to see which code is executing while the lock is held (see Item 43: “Consider\n",
    "contextlib and with Statements for Reusable try/finally Behavior” for details):"
   ]
  },
  {
   "cell_type": "code",
   "execution_count": 6,
   "metadata": {},
   "outputs": [
    {
     "name": "stdout",
     "output_type": "stream",
     "text": [
      "Counter should be 500000, found 500000\n"
     ]
    }
   ],
   "source": [
    "# Example 8\n",
    "from threading import Lock\n",
    "\n",
    "class LockingCounter(object):\n",
    "    def __init__(self):\n",
    "        self.lock = Lock()\n",
    "        self.count = 0\n",
    "\n",
    "    def increment(self, offset):\n",
    "        with self.lock:\n",
    "            self.count += offset\n",
    "\n",
    "\n",
    "# Example 9\n",
    "BARRIER = Barrier(5)\n",
    "counter = LockingCounter()\n",
    "run_threads(worker, how_many, counter)\n",
    "print('Counter should be %d, found %d' %\n",
    "      (5 * how_many, counter.count))"
   ]
  },
  {
   "cell_type": "markdown",
   "metadata": {},
   "source": [
    "* Even though Python has a global interpreter lock, you’re still responsible for protecting against data races between the threads in your programs.\n",
    "* Your programs will corrupt their data structures if you allow multiple threads to modify the same objects without locks.\n",
    "* The Lock class in the threading built-in module is Python’s standard mutual exclusion lock implementation."
   ]
  }
 ],
 "metadata": {
  "kernelspec": {
   "display_name": "Python 3",
   "language": "python",
   "name": "python3"
  },
  "language_info": {
   "codemirror_mode": {
    "name": "ipython",
    "version": 3
   },
   "file_extension": ".py",
   "mimetype": "text/x-python",
   "name": "python",
   "nbconvert_exporter": "python",
   "pygments_lexer": "ipython3",
   "version": "3.6.3"
  }
 },
 "nbformat": 4,
 "nbformat_minor": 2
}

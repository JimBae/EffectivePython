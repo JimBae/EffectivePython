{
 "cells": [
  {
   "cell_type": "markdown",
   "metadata": {},
   "source": [
    "* The big problem with the @property built-in is reuse. \n",
    "* The methods it decorates can’t be reused for multiple attributes of the same class. They also can’t be reused by unrelated classes.\n",
    "For example, say you want a class to validate that the grade received by a student"
   ]
  },
  {
   "cell_type": "code",
   "execution_count": 1,
   "metadata": {},
   "outputs": [
    {
     "name": "stdout",
     "output_type": "stream",
     "text": [
      "95\n"
     ]
    }
   ],
   "source": [
    "# Example 1\n",
    "class Homework(object):\n",
    "    def __init__(self):\n",
    "        self._grade = 0\n",
    "\n",
    "    @property\n",
    "    def grade(self):\n",
    "        return self._grade\n",
    "\n",
    "    @grade.setter\n",
    "    def grade(self, value):\n",
    "        if not (0 <= value <= 100):\n",
    "            raise ValueError('Grade must be between 0 and 100')\n",
    "        self._grade = value\n",
    "\n",
    "\n",
    "# Example 2\n",
    "galileo = Homework()\n",
    "galileo.grade = 95\n",
    "print(galileo.grade)\n",
    "\n"
   ]
  },
  {
   "cell_type": "markdown",
   "metadata": {},
   "source": [
    "* "
   ]
  },
  {
   "cell_type": "code",
   "execution_count": 2,
   "metadata": {},
   "outputs": [
    {
     "name": "stdout",
     "output_type": "stream",
     "text": [
      "Writing:    85\n",
      "Math:       99\n"
     ]
    }
   ],
   "source": [
    "# Example 3\n",
    "class Exam(object):\n",
    "    def __init__(self):\n",
    "        self._writing_grade = 0\n",
    "        self._math_grade = 0\n",
    "\n",
    "    @staticmethod\n",
    "    def _check_grade(value):\n",
    "        if not (0 <= value <= 100):\n",
    "            raise ValueError('Grade must be between 0 and 100')\n",
    "\n",
    "\n",
    "# Example 4\n",
    "    @property\n",
    "    def writing_grade(self):\n",
    "        return self._writing_grade\n",
    "\n",
    "    @writing_grade.setter\n",
    "    def writing_grade(self, value):\n",
    "        self._check_grade(value)\n",
    "        self._writing_grade = value\n",
    "\n",
    "    @property\n",
    "    def math_grade(self):\n",
    "        return self._math_grade\n",
    "\n",
    "    @math_grade.setter\n",
    "    def math_grade(self, value):\n",
    "        self._check_grade(value)\n",
    "        self._math_grade = value\n",
    "\n",
    "\n",
    "# Example 5\n",
    "galileo = Exam()\n",
    "galileo.writing_grade = 85\n",
    "galileo.math_grade = 99\n",
    "print('Writing: %5r' % galileo.writing_grade)\n",
    "print('Math:    %5r' % galileo.math_grade)\n",
    "\n",
    "\n"
   ]
  },
  {
   "cell_type": "markdown",
   "metadata": {},
   "source": [
    "* If you want to reuse.\n",
    "* The better way to do this in Python is to use a descriptor. \n",
    "* The descriptor protocol defines how attribute access is interpreted by the language. \n",
    "* A descriptor class can provide __get__ and __set__ methods that let you reuse the grade validation behavior without any boilerplate\n",
    "\n",
    "For this purpose, descriptors are also better than mix-ins (see Item 26:\n",
    "“Use Multiple Inheritance Only for Mix-in Utility Classes”) because they let you reuse the\n",
    "same logic for many different attributes in a single class.\n",
    "\n",
    "* The Grade class implements the descriptor protocol."
   ]
  },
  {
   "cell_type": "code",
   "execution_count": 3,
   "metadata": {},
   "outputs": [
    {
     "name": "stdout",
     "output_type": "stream",
     "text": [
      "None\n",
      "None\n"
     ]
    }
   ],
   "source": [
    "# Example 6\n",
    "class Grade(object):\n",
    "    def __get__(*args, **kwargs):\n",
    "        pass\n",
    "\n",
    "    def __set__(*args, **kwargs):\n",
    "        pass\n",
    "\n",
    "class Exam(object):\n",
    "    # Class attributes\n",
    "    math_grade = Grade()\n",
    "    writing_grade = Grade()\n",
    "    science_grade = Grade()\n",
    "    \n",
    "# Example 7\n",
    "exam = Exam()\n",
    "exam.writing_grade = 40\n",
    "\n",
    "\n",
    "# Example 8\n",
    "Exam.__dict__['writing_grade'].__set__(exam, 40)\n",
    "\n",
    "\n",
    "# Example 9\n",
    "print(exam.writing_grade)\n",
    "\n",
    "\n",
    "# Example 10\n",
    "print(Exam.__dict__['writing_grade'].__get__(exam, Exam))\n",
    "    "
   ]
  },
  {
   "cell_type": "markdown",
   "metadata": {},
   "source": [
    "* What drives this behavior is the __getattribute__ method of object \n",
    " (see Item 32: “Use __getattr__, __getattribute__, and __setattr__ for Lazy Attributes”). \n",
    "* In short, when an Exam instance doesn’t have an attribute named writing_grade, Python will fall back to the Exam class’s attribute instead. If this class attribute is an object that has __get__ and __set__ methods, Python will assume you want to follow the descriptor protocol\n",
    "\n",
    "* Knowing this behavior and how I used @property for grade validation in the Homework class, here’s a reasonable first attempt at implementing the Grade descriptor.\n"
   ]
  },
  {
   "cell_type": "code",
   "execution_count": 4,
   "metadata": {},
   "outputs": [
    {
     "name": "stdout",
     "output_type": "stream",
     "text": [
      "Writing 82\n",
      "Science 99\n",
      "Second 75 is right\n",
      "First  75 is wrong\n"
     ]
    }
   ],
   "source": [
    "# Example 11\n",
    "class Grade(object):\n",
    "    def __init__(self):\n",
    "        self._value = 0\n",
    "\n",
    "    def __get__(self, instance, instance_type):\n",
    "        return self._value\n",
    "\n",
    "    def __set__(self, instance, value):\n",
    "        if not (0 <= value <= 100):\n",
    "            raise ValueError('Grade must be between 0 and 100')\n",
    "        self._value = value\n",
    "\n",
    "class Exam(object):\n",
    "    math_grade = Grade()\n",
    "    writing_grade = Grade()\n",
    "    science_grade = Grade()\n",
    "\n",
    "\n",
    "# Example 12\n",
    "first_exam = Exam()\n",
    "first_exam.writing_grade = 82\n",
    "first_exam.science_grade = 99\n",
    "print('Writing', first_exam.writing_grade)\n",
    "print('Science', first_exam.science_grade)\n",
    "\n",
    "\n",
    "# Example 13\n",
    "second_exam = Exam()\n",
    "second_exam.writing_grade = 75\n",
    "print('Second', second_exam.writing_grade, 'is right')\n",
    "print('First ', first_exam.writing_grade, 'is wrong') # <<<<< Problem"
   ]
  },
  {
   "cell_type": "markdown",
   "metadata": {},
   "source": [
    "[Problem - upper side code]\n",
    "The problem is that a single Grade instance is shared across all Exam instances for the\n",
    "class attribute writing_grade. The Grade instance for this attribute is constructed\n",
    "once in the program lifetime when the Exam class is first defined, not each time an Exam\n",
    "instance is created.\n",
    "\n",
    "\n",
    ">>> To solve this, \n",
    "I need the Grade class to keep track of its value for each unique Exam\n",
    "instance. I can do this by saving the per-instance state in a dictionary.\n",
    "\n",
    "This implementation is simple and works well, but there’s still one gotcha: It leaks\n",
    "memory. The _values dictionary will hold a reference to every instance of Exam ever\n",
    "passed to __set__ over the lifetime of the program. This causes instances to never have\n",
    "their reference count go to zero, preventing cleanup by the garbage collector.\n",
    "\n",
    ">>> To fix this, \n",
    "I can use Python’s weakref built-in module. This module provides a special\n",
    "class called WeakKeyDictionary that can take the place of the simple dictionary used\n",
    "for _values. The unique behavior of WeakKeyDictionary is that it will remove\n",
    "Exam instances from its set of keys when the runtime knows it’s holding the instance’s\n",
    "last remaining reference in the program. Python will do the bookkeeping for you and\n",
    "ensure that the _values dictionary will be empty when all Exam instances are no longer\n",
    "in use."
   ]
  },
  {
   "cell_type": "code",
   "execution_count": 5,
   "metadata": {},
   "outputs": [
    {
     "name": "stdout",
     "output_type": "stream",
     "text": [
      "First  82 is right\n",
      "Second 75 is right\n"
     ]
    }
   ],
   "source": [
    "# Example 14\n",
    "class Grade(object):\n",
    "    def __init__(self):\n",
    "        self._values = {}\n",
    "\n",
    "    def __get__(self, instance, instance_type):\n",
    "        if instance is None: return self\n",
    "        return self._values.get(instance, 0)\n",
    "\n",
    "    def __set__(self, instance, value):\n",
    "        if not (0 <= value <= 100):\n",
    "            raise ValueError('Grade must be between 0 and 100')\n",
    "        self._values[instance] = value\n",
    "\n",
    "\n",
    "# Example 15\n",
    "from weakref import WeakKeyDictionary\n",
    "\n",
    "class Grade(object):\n",
    "    def __init__(self):\n",
    "        self._values = WeakKeyDictionary()\n",
    "    def __get__(self, instance, instance_type):\n",
    "        if instance is None: return self\n",
    "        return self._values.get(instance, 0)\n",
    "\n",
    "    def __set__(self, instance, value):\n",
    "        if not (0 <= value <= 100):\n",
    "            raise ValueError('Grade must be between 0 and 100')\n",
    "        self._values[instance] = value\n",
    "\n",
    "\n",
    "# Example 16\n",
    "class Exam(object):\n",
    "    math_grade = Grade()\n",
    "    writing_grade = Grade()\n",
    "    science_grade = Grade()\n",
    "\n",
    "first_exam = Exam()\n",
    "first_exam.writing_grade = 82\n",
    "second_exam = Exam()\n",
    "second_exam.writing_grade = 75\n",
    "print('First ', first_exam.writing_grade, 'is right')\n",
    "print('Second', second_exam.writing_grade, 'is right')"
   ]
  },
  {
   "cell_type": "markdown",
   "metadata": {},
   "source": [
    "* Reuse the behavior and validation of @property methods by defining your own descriptor classes.\n",
    "* Use WeakKeyDictionary to ensure that your descriptor classes don’t cause memory leaks.\n",
    "* Don’t get bogged down trying to understand exactly how __getattribute__ uses the descriptor protocol for getting and setting attributes."
   ]
  }
 ],
 "metadata": {
  "kernelspec": {
   "display_name": "Python 3",
   "language": "python",
   "name": "python3"
  },
  "language_info": {
   "codemirror_mode": {
    "name": "ipython",
    "version": 3
   },
   "file_extension": ".py",
   "mimetype": "text/x-python",
   "name": "python",
   "nbconvert_exporter": "python",
   "pygments_lexer": "ipython3",
   "version": "3.6.3"
  }
 },
 "nbformat": 4,
 "nbformat_minor": 2
}

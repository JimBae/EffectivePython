{
 "cells": [
  {
   "cell_type": "markdown",
   "metadata": {},
   "source": [
    "Coordinated Universal Time (UTC) is the standard, time-zone-independent representation\n",
    "of time. UTC works great for computers that represent time as seconds since the UNIX\n",
    "epoch. But UTC isn’t ideal for humans. Humans reference time relative to where they’re\n",
    "currently located. People say “noon” or “8 am” instead of “UTC 15:00 minus 7 hours.” If\n",
    "your program handles time, you’ll probably find yourself converting time between UTC\n",
    "and local clocks to make it easier for humans to understand.\n",
    "Python provides two ways of accomplishing time zone conversions. The old way, using\n",
    "the time built-in module, is disastrously error prone. The new way, using the datetime\n",
    "built-in module, works great with some help from the community-built package named\n",
    "pytz.\n",
    "\n",
    "You should be acquainted with both time and datetime to thoroughly understand why\n",
    "datetime is the best choice and time should be avoided.\n"
   ]
  },
  {
   "cell_type": "markdown",
   "metadata": {},
   "source": [
    ">>>\n",
    "The time Module\n",
    "\n",
    "### Ex 1\n",
    "The localtime function from the time built-in module lets you convert a UNIX\n",
    "timestamp (seconds since the UNIX epoch in UTC) to a local time that matches the host\n",
    "computer’s time zone (Pacific Daylight Time, in my case).\n",
    "\n",
    "### Ex 2\n",
    "You’ll often need to go the other way as well, starting with user input in local time and\n",
    "converting it to UTC time. You can do this by using the strptime function to parse the\n",
    "time string, then call mktime to convert local time to a UNIX timestamp.\n",
    "\n",
    "### Ex 3\n",
    "How do you convert local time in one time zone to local time in another? For example,\n",
    "say you are taking a flight between San Francisco and New York, and want to know what\n",
    "time it will be in San Francisco once you’ve arrived in New York.\n",
    "Directly manipulating the return values from the time, localtime, and strptime\n",
    "functions to do time zone conversions is a bad idea. Time zones change all the time due to\n",
    "local laws. It’s too complicated to manage yourself, especially if you want to handle every\n",
    "global city for flight departure and arrival.\n",
    "Many operating systems have configuration files that keep up with the time zone changes\n",
    "automatically. Python lets you use these time zones through the time module. For\n",
    "example, here I parse the departure time from the San Francisco time zone of Pacific\n",
    "Daylight Time:\n",
    "\n",
    "### Ex 4\n",
    "After seeing that PDT works with the strptime function, you might also assume that\n",
    "other time zones known to my computer will also work. Unfortunately, this isn’t the case.\n",
    "Instead, strptime raises an exception when it sees Eastern Daylight Time (the time\n",
    "zone for New York).\n",
    "\n",
    "\n",
    "The problem here is the platform-dependent nature of the time module. Its actual\n",
    "behavior is determined by how the underlying C functions work with the host operating\n",
    "system. This makes the functionality of the time module unreliable in Python. The time\n",
    "module fails to consistently work properly for multiple local times. Thus, you should\n",
    "avoid the time module for this purpose. If you must use time, only use it to convert\n",
    "between UTC and the host computer’s local time. For all other types of conversions, use\n",
    "the datetime module."
   ]
  },
  {
   "cell_type": "code",
   "execution_count": 1,
   "metadata": {},
   "outputs": [
    {
     "name": "stderr",
     "output_type": "stream",
     "text": [
      "ERROR:root:Expected\n",
      "Traceback (most recent call last):\n",
      "  File \"<ipython-input-1-94ded9a5a0cd>\", line 35, in <module>\n",
      "    time_tuple = strptime(arrival_nyc, time_format)\n",
      "  File \"/Users/godot/anaconda3/lib/python3.6/_strptime.py\", line 559, in _strptime_time\n",
      "    tt = _strptime(data_string, format)[0]\n",
      "  File \"/Users/godot/anaconda3/lib/python3.6/_strptime.py\", line 365, in _strptime\n",
      "    data_string[found.end():])\n",
      "ValueError: unconverted data remains:  EDT\n"
     ]
    },
    {
     "name": "stdout",
     "output_type": "stream",
     "text": [
      "2014-08-10 11:18:30\n",
      "1407694710.0\n",
      "2014-05-01 15:45:16\n"
     ]
    }
   ],
   "source": [
    "import logging\n",
    "from pprint import pprint\n",
    "from sys import stdout as STDOUT\n",
    "\n",
    "\n",
    "# Example 1\n",
    "from time import localtime, strftime\n",
    "\n",
    "now = 1407694710\n",
    "local_tuple = localtime(now)\n",
    "time_format = '%Y-%m-%d %H:%M:%S'\n",
    "time_str = strftime(time_format, local_tuple)\n",
    "print(time_str)\n",
    "\n",
    "\n",
    "# Example 2\n",
    "from time import mktime, strptime\n",
    "\n",
    "time_tuple = strptime(time_str, time_format)\n",
    "utc_now = mktime(time_tuple)\n",
    "print(utc_now)\n",
    "\n",
    "\n",
    "# Example 3\n",
    "parse_format = '%Y-%m-%d %H:%M:%S %Z'\n",
    "depart_sfo = '2014-05-01 15:45:16 PDT'\n",
    "time_tuple = strptime(depart_sfo, parse_format)\n",
    "time_str = strftime(time_format, time_tuple)\n",
    "print(time_str)\n",
    "\n",
    "\n",
    "# Example 4\n",
    "try:\n",
    "    arrival_nyc = '2014-05-01 23:33:24 EDT'\n",
    "    time_tuple = strptime(arrival_nyc, time_format)\n",
    "except:\n",
    "    logging.exception('Expected')\n",
    "else:\n",
    "    assert False"
   ]
  },
  {
   "cell_type": "markdown",
   "metadata": {},
   "source": [
    ">>>\n",
    "The datetime Module\n",
    "\n",
    "The second option for representing times in Python is the datetime class from the\n",
    "datetime built-in module. Like the time module, datetime can be used to convert\n",
    "from the current time in UTC to local time.\n",
    "Here, I take the present time in UTC and convert it to my computer’s local time (Pacific\n",
    "Daylight Time):\n",
    "\n",
    "The datetime module can also easily convert a local time back to a UNIX timestamp in\n",
    "UTC.\n",
    "\n",
    "Unlike the time module, the datetime module has facilities for reliably converting\n",
    "from one local time to another local time. However, datetime only provides the\n",
    "machinery for time zone operations with its tzinfo class and related methods. What’s\n",
    "missing are the time zone definitions besides UTC.\n",
    "\n"
   ]
  },
  {
   "cell_type": "code",
   "execution_count": 2,
   "metadata": {},
   "outputs": [
    {
     "name": "stdout",
     "output_type": "stream",
     "text": [
      "2014-08-10 11:18:30-07:00\n",
      "1407694710.0\n"
     ]
    }
   ],
   "source": [
    "# Example 5\n",
    "from datetime import datetime, timezone\n",
    "\n",
    "now = datetime(2014, 8, 10, 18, 18, 30)\n",
    "now_utc = now.replace(tzinfo=timezone.utc)\n",
    "now_local = now_utc.astimezone()\n",
    "print(now_local)\n",
    "\n",
    "\n",
    "# Example 6\n",
    "time_str = '2014-08-10 11:18:30'\n",
    "now = datetime.strptime(time_str, time_format)\n",
    "time_tuple = now.timetuple()\n",
    "utc_now = mktime(time_tuple)\n",
    "print(utc_now)\n",
    "\n",
    "\n"
   ]
  },
  {
   "cell_type": "markdown",
   "metadata": {},
   "source": [
    "Luckily, the Python community has addressed this gap with the pytz module that’s\n",
    "available for download from the Python Package Index\n",
    "(https://pypi.python.org/pypi/pytz/). pytz contains a full database of every time zone\n",
    "definition you might need.\n",
    "\n",
    "To use pytz effectively, you should always convert local times to UTC first. Perform any\n",
    "datetime operations you need on the UTC values (such as offsetting). Then, convert to\n",
    "local times as a final step.\n",
    "\n",
    "For example, here I convert an NYC flight arrival time to a UTC datetime. Although\n",
    "some of these calls seem redundant, all of them are necessary when using pytz.\n",
    "\n",
    "With datetime and pytz, these conversions are consistent across all environments\n",
    "regardless of what operating system the host computer is running.\n"
   ]
  },
  {
   "cell_type": "code",
   "execution_count": 3,
   "metadata": {},
   "outputs": [
    {
     "name": "stdout",
     "output_type": "stream",
     "text": [
      "2014-05-02 03:33:24+00:00\n",
      "2014-05-01 20:33:24-07:00\n",
      "2014-05-02 09:18:24+05:45\n"
     ]
    }
   ],
   "source": [
    "\n",
    "# Example 7\n",
    "import pytz\n",
    "arrival_nyc = '2014-05-01 23:33:24'\n",
    "nyc_dt_naive = datetime.strptime(arrival_nyc, time_format)\n",
    "eastern = pytz.timezone('US/Eastern')\n",
    "nyc_dt = eastern.localize(nyc_dt_naive)\n",
    "utc_dt = pytz.utc.normalize(nyc_dt.astimezone(pytz.utc))\n",
    "print(utc_dt)\n",
    "\n",
    "\n",
    "# Example 8\n",
    "pacific = pytz.timezone('US/Pacific')\n",
    "sf_dt = pacific.normalize(utc_dt.astimezone(pacific))\n",
    "print(sf_dt)\n",
    "\n",
    "\n",
    "# Example 9\n",
    "nepal = pytz.timezone('Asia/Katmandu')\n",
    "nepal_dt = nepal.normalize(utc_dt.astimezone(nepal))\n",
    "print(nepal_dt)"
   ]
  },
  {
   "cell_type": "markdown",
   "metadata": {},
   "source": [
    "* Avoid using the time module for translating between different time zones. \n",
    "* Use the datetime built-in module along with the pytz module to reliably convert between times in different time zones.\n",
    "* Always represent time in UTC and do conversions to local time as the final step before presentation."
   ]
  }
 ],
 "metadata": {
  "kernelspec": {
   "display_name": "Python 3",
   "language": "python",
   "name": "python3"
  },
  "language_info": {
   "codemirror_mode": {
    "name": "ipython",
    "version": 3
   },
   "file_extension": ".py",
   "mimetype": "text/x-python",
   "name": "python",
   "nbconvert_exporter": "python",
   "pygments_lexer": "ipython3",
   "version": "3.6.3"
  }
 },
 "nbformat": 4,
 "nbformat_minor": 2
}

{
 "cells": [
  {
   "cell_type": "markdown",
   "metadata": {},
   "source": [
    "[PEP](http://www.python.org/dev/peps/pep-0008/)\n",
    "\n",
    "1. Whitespace\n",
    "* Use spaces instead of tabs for indentation\n",
    "* User four spaces\n",
    "* Lines should be 79 characters\n",
    "* In a file, functions and classes should be separedted by two blank lines\n",
    "* In a class, method should be separated by one blank line\n",
    "* Don't put spaces around list indices, function calls, keyword argument\n",
    "* Put one space before and after variable assignments\n",
    "\n",
    "2. Naming\n",
    "* Functions, variables, and attributes should be in lowercase_underscore format\n",
    "* Protected instance attributes should be in _leading_underscore format.\n",
    "* Private instance attributes should be in __double_leading_underscore format.\n",
    "* Classes and exceptions should be in CapitalizedWord format.\n",
    "* Module-level constants should be in ALL_CAPS format.\n",
    "* Instance methods in classes should use self as the name of the first parameter (which refers to the object).\n",
    "* Class methods should use cls as the name of the first parameter (which refers to the class)\n",
    "\n",
    "3. Expressions and Statements\n",
    "* Use inline negation (if a is not b) instead of negation of positive expressions (if not a is b)\n",
    "* Don’t check for empty values (like [] or '') by checking the length (if len(somelist) == 0). Use if not somelist and assume empty values implicitly evaluate to False\n",
    "* The same thing goes for non-empty values (like [1] or 'hi'). The statement if somelist is implicitly True for non-empty values.\n",
    "* Avoid single-line if statements, for and while loops, and except compound statements. Spread these over multiple lines for clarity\n",
    "* Always put import statements at the top of a file\n",
    "* Always use absolute names for modules when importing them, not names relative to the current module’s own path. For example, to import the foo module from the bar package, you should do from bar import foo, not just import foo.\n",
    "* If you must do relative imports, use the explicit syntax from . import foo\n",
    "* Imports should be in sections in the following order: standard library modules, third-party modules, your own modules. Each subsection should have imports in alphabetical order. \n"
   ]
  }
 ],
 "metadata": {
  "kernelspec": {
   "display_name": "Python 3",
   "language": "python",
   "name": "python3"
  },
  "language_info": {
   "codemirror_mode": {
    "name": "ipython",
    "version": 3
   },
   "file_extension": ".py",
   "mimetype": "text/x-python",
   "name": "python",
   "nbconvert_exporter": "python",
   "pygments_lexer": "ipython3",
   "version": "3.6.5"
  }
 },
 "nbformat": 4,
 "nbformat_minor": 2
}

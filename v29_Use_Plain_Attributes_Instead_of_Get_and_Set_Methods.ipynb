{
 "cells": [
  {
   "cell_type": "markdown",
   "metadata": {},
   "source": [
    "* explicit getter and setter methods in their classes\n",
    " - Using these setters and getters is simple, but it’s not Pythonic"
   ]
  },
  {
   "cell_type": "code",
   "execution_count": 1,
   "metadata": {},
   "outputs": [
    {
     "name": "stdout",
     "output_type": "stream",
     "text": [
      "Before: 50000.0\n",
      "After:  10000.0\n"
     ]
    }
   ],
   "source": [
    "import logging\n",
    "from pprint import pprint\n",
    "from sys import stdout as STDOUT\n",
    "\n",
    "\n",
    "# Example 1\n",
    "class OldResistor(object):\n",
    "    def __init__(self, ohms):\n",
    "        self._ohms = ohms\n",
    "\n",
    "    def get_ohms(self):\n",
    "        return self._ohms\n",
    "\n",
    "    def set_ohms(self, ohms):\n",
    "        self._ohms = ohms\n",
    "\n",
    "\n",
    "# Example 2\n",
    "r0 = OldResistor(50e3)\n",
    "print('Before: %5r' % r0.get_ohms())\n",
    "r0.set_ohms(10e3)\n",
    "print('After:  %5r' % r0.get_ohms())\n",
    "\n",
    "\n",
    "# Example 3\n",
    "r0.set_ohms(r0.get_ohms() + 5e3)\n"
   ]
  },
  {
   "cell_type": "markdown",
   "metadata": {},
   "source": [
    "In Python, however, you almost never need to implement explicit setter or getter methods.\n",
    "Instead, you should always start your implementations with simple public attributes.\n"
   ]
  },
  {
   "cell_type": "code",
   "execution_count": 2,
   "metadata": {},
   "outputs": [
    {
     "name": "stdout",
     "output_type": "stream",
     "text": [
      "10000.0 ohms, 0 volts, 0 amps\n"
     ]
    }
   ],
   "source": [
    "# Example 4\n",
    "class Resistor(object):\n",
    "    def __init__(self, ohms):\n",
    "        self.ohms = ohms\n",
    "        self.voltage = 0\n",
    "        self.current = 0\n",
    "\n",
    "r1 = Resistor(50e3)\n",
    "r1.ohms = 10e3\n",
    "print('%r ohms, %r volts, %r amps' %\n",
    "      (r1.ohms, r1.voltage, r1.current))\n",
    "\n",
    "\n",
    "# Example 5\n",
    "r1.ohms += 5e3\n",
    "\n"
   ]
  },
  {
   "cell_type": "markdown",
   "metadata": {},
   "source": [
    "Later, if you decide you need special behavior when an attribute is set, you can migrate to\n",
    "the @property decorator and its corresponding setter attribute.\n",
    "Note that in order to work properly the name of both the setter and getter\n",
    "methods must match the intended property name.\n"
   ]
  },
  {
   "cell_type": "code",
   "execution_count": 5,
   "metadata": {},
   "outputs": [
    {
     "name": "stdout",
     "output_type": "stream",
     "text": [
      "Before:     0 amps\n",
      "After:   0.01 amps\n"
     ]
    }
   ],
   "source": [
    "# Example 6\n",
    "class VoltageResistance(Resistor):\n",
    "    def __init__(self, ohms):\n",
    "        super().__init__(ohms)\n",
    "        self._voltage = 0\n",
    "\n",
    "    @property\n",
    "    def voltage(self):\n",
    "        return self._voltage\n",
    "\n",
    "    @voltage.setter\n",
    "    def voltage(self, voltage):\n",
    "        self._voltage = voltage\n",
    "        self.current = self._voltage / self.ohms\n",
    "\n",
    "\n",
    "# Example 7\n",
    "r2 = VoltageResistance(1e3)\n",
    "print('Before: %5r amps' % r2.current)\n",
    "r2.voltage = 10\n",
    "print('After:  %5r amps' % r2.current)\n",
    "\n"
   ]
  },
  {
   "cell_type": "markdown",
   "metadata": {},
   "source": []
  },
  {
   "cell_type": "code",
   "execution_count": 16,
   "metadata": {},
   "outputs": [
    {
     "name": "stderr",
     "output_type": "stream",
     "text": [
      "ERROR:root:Expected\n",
      "Traceback (most recent call last):\n",
      "  File \"<ipython-input-16-71dca559e2b4>\", line 20, in <module>\n",
      "    r3.ohms = 0\n",
      "  File \"<ipython-input-16-71dca559e2b4>\", line 13, in ohms\n",
      "    raise ValueError('%f ohms must be > 0' % ohms)\n",
      "ValueError: 0.000000 ohms must be > 0\n",
      "ERROR:root:Expected\n",
      "Traceback (most recent call last):\n",
      "  File \"<ipython-input-16-71dca559e2b4>\", line 30, in <module>\n",
      "    BoundedResistance(-5)\n",
      "  File \"<ipython-input-16-71dca559e2b4>\", line 4, in __init__\n",
      "    super().__init__(ohms)\n",
      "  File \"<ipython-input-2-1a735d1cdc26>\", line 4, in __init__\n",
      "    self.ohms = ohms\n",
      "  File \"<ipython-input-16-71dca559e2b4>\", line 13, in ohms\n",
      "    raise ValueError('%f ohms must be > 0' % ohms)\n",
      "ValueError: -5.000000 ohms must be > 0\n"
     ]
    }
   ],
   "source": [
    "# Example 8\n",
    "class BoundedResistance(Resistor):\n",
    "    def __init__(self, ohms):\n",
    "        super().__init__(ohms)\n",
    "\n",
    "    @property\n",
    "    def ohms(self):\n",
    "        return self._ohms\n",
    "\n",
    "    @ohms.setter\n",
    "    def ohms(self, ohms):\n",
    "        if ohms <= 0:\n",
    "            raise ValueError('%f ohms must be > 0' % ohms)\n",
    "        self._ohms = ohms\n",
    "\n",
    "\n",
    "# Example 9\n",
    "try:\n",
    "    r3 = BoundedResistance(1e3)\n",
    "    r3.ohms = 0\n",
    "except:\n",
    "    logging.exception('Expected')\n",
    "else:\n",
    "    assert False\n",
    "\n",
    "\n",
    "\n",
    "# Example 10\n",
    "try:\n",
    "    BoundedResistance(-5)\n",
    "except:\n",
    "    logging.exception('Expected')\n",
    "else:\n",
    "    assert False\n",
    "\n"
   ]
  },
  {
   "cell_type": "markdown",
   "metadata": {},
   "source": [
    "* You can even use @property to make attributes from parent classes immutable"
   ]
  },
  {
   "cell_type": "code",
   "execution_count": 17,
   "metadata": {},
   "outputs": [
    {
     "name": "stderr",
     "output_type": "stream",
     "text": [
      "ERROR:root:Expected\n",
      "Traceback (most recent call last):\n",
      "  File \"<ipython-input-17-7fa779bf0061>\", line 20, in <module>\n",
      "    r4.ohms = 2e3\n",
      "  File \"<ipython-input-17-7fa779bf0061>\", line 13, in ohms\n",
      "    raise AttributeError(\"Can't set attribute\")\n",
      "AttributeError: Can't set attribute\n"
     ]
    }
   ],
   "source": [
    "# Example 11\n",
    "class FixedResistance(Resistor):\n",
    "    def __init__(self, ohms):\n",
    "        super().__init__(ohms)\n",
    "\n",
    "    @property\n",
    "    def ohms(self):\n",
    "        return self._ohms\n",
    "\n",
    "    @ohms.setter\n",
    "    def ohms(self, ohms):\n",
    "        if hasattr(self, '_ohms'):\n",
    "            raise AttributeError(\"Can't set attribute\")\n",
    "        self._ohms = ohms\n",
    "\n",
    "\n",
    "# Example 12\n",
    "try:\n",
    "    r4 = FixedResistance(1e3)\n",
    "    r4.ohms = 2e3\n",
    "except:\n",
    "    logging.exception('Expected')\n",
    "else:\n",
    "    assert False\n",
    "\n"
   ]
  },
  {
   "cell_type": "markdown",
   "metadata": {},
   "source": [
    "* The biggest shortcoming of @property is that the methods for an attribute can only be shared by subclasses. Unrelated classes can’t share the same implementation. However, Python also supports descriptors (see Item 31: “Use Descriptors for Reusable @property Methods”) that enable reusable property logic and many other use cases. Finally, when you use @property methods to implement setters and getters, be sure that the behavior you implement is not surprising. For example, don’t set other attributes in getter property methods."
   ]
  },
  {
   "cell_type": "code",
   "execution_count": 18,
   "metadata": {},
   "outputs": [
    {
     "name": "stdout",
     "output_type": "stream",
     "text": [
      "Before:     0\n",
      "After:    0.1\n"
     ]
    }
   ],
   "source": [
    "class MysteriousResistor(Resistor):\n",
    "    @property\n",
    "    def ohms(self):\n",
    "        self.voltage = self._ohms * self.current\n",
    "        return self._ohms\n",
    "\n",
    "    @ohms.setter\n",
    "    def ohms(self, ohms):\n",
    "        self._ohms = ohms\n",
    "\n",
    "\n",
    "# Example 14\n",
    "r7 = MysteriousResistor(10)\n",
    "r7.current = 0.01\n",
    "print('Before: %5r' % r7.voltage)\n",
    "r7.ohms\n",
    "print('After:  %5r' % r7.voltage)\n",
    "\n"
   ]
  },
  {
   "cell_type": "markdown",
   "metadata": {},
   "source": [
    "* Define new class interfaces using simple public attributes, and avoid set and get methods.\n",
    "* Use @property to define special behavior when attributes are accessed on your objects, if necessary.\n",
    "* Follow the rule of least surprise and avoid weird side effects in your @property methods.\n",
    "* Ensure that @property methods are fast; do slow or complex work using normal methods."
   ]
  }
 ],
 "metadata": {
  "kernelspec": {
   "display_name": "Python 3",
   "language": "python",
   "name": "python3"
  },
  "language_info": {
   "codemirror_mode": {
    "name": "ipython",
    "version": 3
   },
   "file_extension": ".py",
   "mimetype": "text/x-python",
   "name": "python",
   "nbconvert_exporter": "python",
   "pygments_lexer": "ipython3",
   "version": "3.6.3"
  }
 },
 "nbformat": 4,
 "nbformat_minor": 2
}

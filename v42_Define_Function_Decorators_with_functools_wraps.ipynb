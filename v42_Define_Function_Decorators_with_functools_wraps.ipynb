{
 "cells": [
  {
   "cell_type": "markdown",
   "metadata": {},
   "source": [
    "Python has special syntax for decorators that can be applied to functions. Decorators have\n",
    "the ability to run additional code before and after any calls to the functions they wrap. \n",
    "This allows them to access and modify input arguments and return values. This functionality\n",
    "can be useful for enforcing semantics, debugging, registering functions, and more.\n",
    "For example, say you want to print the arguments and return value of a function call. This\n",
    "is especially helpful when debugging a stack of function calls from a recursive function.\n",
    "Here, I define such a decorator:\n",
    "\n",
    "I can apply this to a function using the @ symbol.\n",
    "\n",
    "The @ symbol is equivalent to calling the decorator on the function it wraps and assigning\n",
    "the return value to the original name in the same scope.\n",
    "\n",
    "Calling this decorated function will run the wrapper code before and after fibonacci\n",
    "runs, printing the arguments and return value at each level in the recursive stack.\n",
    "\n",
    "This works well, but it has an unintended side effect. The value returned by the decorator\n",
    "—the function that’s called above—doesn’t think it’s named fibonacci."
   ]
  },
  {
   "cell_type": "code",
   "execution_count": 13,
   "metadata": {},
   "outputs": [
    {
     "name": "stdout",
     "output_type": "stream",
     "text": [
      "fibonacci((1,), {}) -> 1\n",
      "fibonacci((0,), {}) -> 0\n",
      "fibonacci((1,), {}) -> 1\n",
      "fibonacci((2,), {}) -> 1\n",
      "fibonacci((3,), {}) -> 2\n",
      "fibonacci((0,), {}) -> 0\n",
      "fibonacci((1,), {}) -> 1\n",
      "fibonacci((2,), {}) -> 1\n",
      "fibonacci((1,), {}) -> 1\n",
      "fibonacci((0,), {}) -> 0\n",
      "fibonacci((1,), {}) -> 1\n",
      "fibonacci((2,), {}) -> 1\n",
      "fibonacci((3,), {}) -> 2\n",
      "fibonacci((4,), {}) -> 3\n",
      "fibonacci((5,), {}) -> 5\n"
     ]
    },
    {
     "data": {
      "text/plain": [
       "5"
      ]
     },
     "execution_count": 13,
     "metadata": {},
     "output_type": "execute_result"
    }
   ],
   "source": [
    "import logging\n",
    "from pprint import pprint\n",
    "from sys import stdout as STDOUT\n",
    "\n",
    "# Example 1\n",
    "def trace(func):\n",
    "    def wrapper(*args, **kwargs):\n",
    "        result = func(*args, **kwargs)\n",
    "        print('%s(%r, %r) -> %r' % (func.__name__, args, kwargs, result))\n",
    "        return result\n",
    "    return wrapper\n",
    "\n",
    "@trace\n",
    "def fibonacci(n):\n",
    "    if n in (0,1):\n",
    "        return n\n",
    "    return (fibonacci(n-2) + fibonacci(n-1))\n",
    "\n",
    "fibonacci(5)\n",
    "\n"
   ]
  },
  {
   "cell_type": "markdown",
   "metadata": {},
   "source": [
    "The cause of this isn’t hard to see. The trace function returns the wrapper it defines.\n",
    "The wrapper function is what’s assigned to the fibonacci name in the containing\n",
    "module because of the decorator. This behavior is problematic because it undermines tools\n",
    "that do introspection, such as debuggers (see Item 57: “Consider Interactive Debugging\n",
    "with pdb”) and object serializers (see Item 44: “Make pickle Reliable with\n",
    "copyreg”).\n",
    "For example, the help built-in function is useless on the decorated fibonacci\n",
    "function.\n"
   ]
  },
  {
   "cell_type": "code",
   "execution_count": 5,
   "metadata": {},
   "outputs": [
    {
     "name": "stdout",
     "output_type": "stream",
     "text": [
      "fibonacci((1,), {}) -> 1\n",
      "fibonacci((0,), {}) -> 0\n",
      "fibonacci((1,), {}) -> 1\n",
      "fibonacci((2,), {}) -> 1\n",
      "fibonacci_v2((3,), {}) -> 2\n",
      "<function trace.<locals>.wrapper at 0x108da7b70>\n"
     ]
    }
   ],
   "source": [
    "#Example 3\n",
    "def fibonacci_v2(n):\n",
    "    if n in (0,1):\n",
    "        return n\n",
    "    return (fibonacci(n-2) + fibonacci(n-1))\n",
    "fibonacci_v2 = trace(fibonacci_v2)\n",
    "\n",
    "# Example 4\n",
    "fibonacci_v2(3)\n",
    "\n",
    "# Example 5\n",
    "print(fibonacci_v2)"
   ]
  },
  {
   "cell_type": "code",
   "execution_count": 11,
   "metadata": {},
   "outputs": [
    {
     "name": "stdout",
     "output_type": "stream",
     "text": [
      "b'\\x80\\x03c__main__\\nmy_func\\nq\\x00.'\n",
      "b'\\x80\\x03c__main__\\nmy_func2\\nq\\x00.'\n"
     ]
    },
    {
     "ename": "AssertionError",
     "evalue": "",
     "output_type": "error",
     "traceback": [
      "\u001b[0;31m---------------------------------------------------------------------------\u001b[0m",
      "\u001b[0;31mAssertionError\u001b[0m                            Traceback (most recent call last)",
      "\u001b[0;32m<ipython-input-11-305837332d24>\u001b[0m in \u001b[0;36m<module>\u001b[0;34m()\u001b[0m\n\u001b[1;32m     16\u001b[0m     \u001b[0mlogging\u001b[0m\u001b[0;34m.\u001b[0m\u001b[0mexception\u001b[0m\u001b[0;34m(\u001b[0m\u001b[0;34m'Expected'\u001b[0m\u001b[0;34m)\u001b[0m\u001b[0;34m\u001b[0m\u001b[0m\n\u001b[1;32m     17\u001b[0m \u001b[0;32melse\u001b[0m\u001b[0;34m:\u001b[0m\u001b[0;34m\u001b[0m\u001b[0m\n\u001b[0;32m---> 18\u001b[0;31m     \u001b[0;32massert\u001b[0m \u001b[0;32mFalse\u001b[0m\u001b[0;34m\u001b[0m\u001b[0m\n\u001b[0m\u001b[1;32m     19\u001b[0m \u001b[0;34m\u001b[0m\u001b[0m\n\u001b[1;32m     20\u001b[0m \u001b[0;31m# Example 7\u001b[0m\u001b[0;34m\u001b[0m\u001b[0;34m\u001b[0m\u001b[0m\n",
      "\u001b[0;31mAssertionError\u001b[0m: "
     ]
    }
   ],
   "source": [
    "#Example 6\n",
    "\n",
    "try:\n",
    "    import pickle\n",
    "    \n",
    "    def my_func():\n",
    "        return 1\n",
    "    \n",
    "    print(pickle.dumps(my_func))\n",
    "    @trace\n",
    "    def my_func2():\n",
    "        return 2\n",
    "    print(pickle.dumps(my_func2))\n",
    "    \n",
    "except:\n",
    "    logging.exception('Expected')\n",
    "else:\n",
    "    assert False\n",
    "\n",
    "# Example 7\n",
    "help(fibonacci)\n",
    "\n",
    "\n",
    "    \n",
    "\n"
   ]
  },
  {
   "cell_type": "markdown",
   "metadata": {},
   "source": [
    "The solution is to use the wraps helper function from the functools built-in module.\n",
    "This is a decorator that helps you write decorators. Applying it to the wrapper function\n",
    "will copy all of the important metadata about the inner function to the outer function.\n",
    "\n",
    "Now, running the help function produces the expected result, even though the function is\n",
    "decorated.\n",
    "\n",
    "Calling help is just one example of how decorators can subtly cause problems. Python\n",
    "functions have many other standard attributes (e.g., __name__, __module__) that must\n",
    "be preserved to maintain the interface of functions in the language. Using wraps ensures\n",
    "that you’ll always get the correct behavior.\n"
   ]
  },
  {
   "cell_type": "code",
   "execution_count": 12,
   "metadata": {},
   "outputs": [
    {
     "name": "stdout",
     "output_type": "stream",
     "text": [
      "Help on function fibonacci in module __main__:\n",
      "\n",
      "fibonacci(n)\n",
      "\n"
     ]
    }
   ],
   "source": [
    "# Example 8\n",
    "from functools import wraps\n",
    "def trace(func):\n",
    "    @wraps(func)\n",
    "    def wrapper(*args, **kwargs):\n",
    "        result = func(*args, **kwargs)\n",
    "        print('%s(%r,%r) -> %r' %\n",
    "              (func.__name__, args, kwargs, result))\n",
    "        return result\n",
    "    return wrapper\n",
    "\n",
    "@trace\n",
    "def fibonacci(n):\n",
    "    if n in (0,1):\n",
    "        return n\n",
    "    return (fibonacci(n-2)+fibonacci(n-1))\n",
    "\n",
    "help(fibonacci)\n",
    "    "
   ]
  },
  {
   "cell_type": "markdown",
   "metadata": {},
   "source": [
    "* Decorators are Python syntax for allowing one function to modify another function at runtime.\n",
    "* Using decorators can cause strange behaviors in tools that do introspection, such as debuggers.\n",
    "* Use the wraps decorator from the functools built-in module when you define your own decorators to avoid any issues."
   ]
  }
 ],
 "metadata": {
  "kernelspec": {
   "display_name": "Python 3",
   "language": "python",
   "name": "python3"
  },
  "language_info": {
   "codemirror_mode": {
    "name": "ipython",
    "version": 3
   },
   "file_extension": ".py",
   "mimetype": "text/x-python",
   "name": "python",
   "nbconvert_exporter": "python",
   "pygments_lexer": "ipython3",
   "version": "3.6.3"
  }
 },
 "nbformat": 4,
 "nbformat_minor": 2
}

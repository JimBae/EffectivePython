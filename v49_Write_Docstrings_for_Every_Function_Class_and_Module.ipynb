{
 "cells": [
  {
   "cell_type": "markdown",
   "metadata": {},
   "source": [
    "Documentation in Python is extremely important because of the dynamic nature of the\n",
    "language. Python provides built-in support for attaching documentation to blocks of code.\n",
    "Unlike many other languages, the documentation from a program’s source code is directly\n",
    "accessible as the program runs.\n",
    "\n",
    "For example, you can add documentation by providing a docstring immediately after the\n",
    "def statement of a function.\n",
    "\n",
    "### Ex 2\n",
    "You can retrieve the docstring from within the Python program itself by accessing the\n",
    "function’s __doc__ special attribute."
   ]
  },
  {
   "cell_type": "code",
   "execution_count": 3,
   "metadata": {},
   "outputs": [
    {
     "name": "stdout",
     "output_type": "stream",
     "text": [
      "'Return True if the given word is a palindrome.'\n",
      "Return True if the given word is a palindrome.\n"
     ]
    }
   ],
   "source": [
    "import logging\n",
    "from pprint import pprint\n",
    "from sys import stdout as STDOUT\n",
    "\n",
    "\n",
    "# Example 1\n",
    "def palindrome(word):\n",
    "    \"\"\"Return True if the given word is a palindrome.\"\"\"\n",
    "    return word == word[::-1]\n",
    "\n",
    "assert palindrome('tacocat')\n",
    "assert not palindrome('banana')\n",
    "\n",
    "\n",
    "# Example 2\n",
    "print(repr(palindrome.__doc__))\n",
    "print(palindrome.__doc__)"
   ]
  },
  {
   "cell_type": "markdown",
   "metadata": {},
   "source": [
    "Docstrings can be attached to functions, classes, and modules. This connection is part of\n",
    "the process of compiling and running a Python program. Support for docstrings and the\n",
    "__doc__ attribute has three consequences:\n",
    "\n",
    " - The accessibility of documentation makes interactive development easier. You can inspect functions, classes, and modules to see their documentation by using the help built-in function. This makes the Python interactive interpreter (the Python “shell”) and tools like IPython Notebook (http://ipython.org) a joy to use while you’re developing algorithms, testing APIs, and writing code snippets.\n",
    " - A standard way of defining documentation makes it easy to build tools that convert the text into more appealing formats (like HTML). This has led to excellent documentation-generation tools for the Python community, such as Sphinx (http://sphinx-doc.org). It’s also enabled community-funded sites like Read the Docs (https://readthedocs.org) that provide free hosting of beautiful-looking documentation for open source Python projects.\n",
    " - Python’s first-class, accessible, and good-looking documentation encourages people to write more documentation. The members of the Python community have a strong belief in the importance of documentation. There’s an assumption that “good code” also means well-documented code. This means that you can expect most open source Python libraries to have decent documentation.\n",
    "\n",
    "To participate in this excellent culture of documentation, you need to follow a few\n",
    "guidelines when you write docstrings. The full details are discussed online in PEP 257\n",
    "(http://www.python.org/dev/peps/pep-0257/). There are a few best-practices you should be\n",
    "sure to follow."
   ]
  },
  {
   "cell_type": "markdown",
   "metadata": {},
   "source": [
    "## Documenting Modules\n",
    "\n",
    "Each module should have a top-level docstring. This is a string literal that is the first\n",
    "statement in a source file. It should use three double quotes (\"\"\"). The goal of this\n",
    "docstring is to introduce the module and its contents.\n",
    "\n",
    "The first line of the docstring should be a single sentence describing the module’s purpose.\n",
    "The paragraphs that follow should contain the details that all users of the module should\n",
    "know about its operation. The module docstring is also a jumping-off point where you can\n",
    "highlight important classes and functions found in the module.\n",
    "\n",
    "Here’s an example of a module docstring:"
   ]
  },
  {
   "cell_type": "code",
   "execution_count": 4,
   "metadata": {
    "collapsed": true
   },
   "outputs": [],
   "source": [
    "# Example 3\n",
    "\"\"\"Library for testing words for various linguistic patterns.\n",
    "\n",
    "Testing how words relate to each other can be tricky sometimes!\n",
    "This module provides easy ways to determine when words you've\n",
    "found have special properties.\n",
    "\n",
    "Available functions:\n",
    "- palindrome: Determine if a word is a palindrome.\n",
    "- check_anagram: Determine if two words are anagrams.\n",
    "...\n",
    "\"\"\"\n",
    "\n",
    "\n"
   ]
  },
  {
   "cell_type": "markdown",
   "metadata": {},
   "source": [
    "## Documenting Classes\n",
    "\n",
    "Each class should have a class-level docstring. This largely follows the same pattern as the\n",
    "module-level docstring. The first line is the single-sentence purpose of the class.\n",
    "Paragraphs that follow discuss important details of the class’s operation.\n",
    "\n",
    "Important public attributes and methods of the class should be highlighted in the classlevel\n",
    "docstring. It should also provide guidance to subclasses on how to properly interact\n",
    "with protected attributes (see Item 27: “Prefer Public Attributes Over Private Ones”) and\n",
    "the superclass’s methods.\n",
    "\n",
    "Here’s an example of a class docstring:"
   ]
  },
  {
   "cell_type": "code",
   "execution_count": null,
   "metadata": {
    "collapsed": true
   },
   "outputs": [],
   "source": [
    "# Example 4\n",
    "class Player(object):\n",
    "    \"\"\"Represents a player of the game.\n",
    "\n",
    "    Subclasses may override the 'tick' method to provide\n",
    "    custom animations for the player's movement depending\n",
    "    on their power level, etc.\n",
    "\n",
    "    Public attributes:\n",
    "    - power: Unused power-ups (float between 0 and 1).\n",
    "    - coins: Coins found during the level (integer).\n",
    "    \"\"\"\n"
   ]
  },
  {
   "cell_type": "markdown",
   "metadata": {},
   "source": [
    "## Documenting Functions\n",
    "\n",
    "Each public function and method should have a docstring. This follows the same pattern\n",
    "as modules and classes. The first line is the single-sentence description of what the\n",
    "function does. The paragraphs that follow should describe any specific behaviors and the\n",
    "arguments for the function. Any return values should be mentioned. Any exceptions that\n",
    "callers must handle as part of the function’s interface should be explained.\n",
    "\n",
    "Here’s an example of a function docstring:"
   ]
  },
  {
   "cell_type": "code",
   "execution_count": 5,
   "metadata": {
    "collapsed": true
   },
   "outputs": [],
   "source": [
    "# Example 5\n",
    "import itertools\n",
    "def find_anagrams(word, dictionary):\n",
    "    \"\"\"Find all anagrams for a word.\n",
    "\n",
    "    This function only runs as fast as the test for\n",
    "    membership in the 'dictionary' container. It will\n",
    "    be slow if the dictionary is a list and fast if\n",
    "    it's a set.\n",
    "\n",
    "    Args:\n",
    "        word: String of the target word.\n",
    "        dictionary: Container with all strings that\n",
    "            are known to be actual words.\n",
    "\n",
    "    Returns:\n",
    "        List of anagrams that were found. Empty if\n",
    "        none were found.\n",
    "    \"\"\"\n",
    "    permutations = itertools.permutations(word, len(word))\n",
    "    possible = (''.join(x) for x in permutations)\n",
    "    found = {word for word in possible if word in dictionary}\n",
    "    return list(found)\n",
    "\n",
    "assert find_anagrams('pancakes', ['scanpeak']) == ['scanpeak']"
   ]
  },
  {
   "cell_type": "markdown",
   "metadata": {},
   "source": [
    "There are also some special cases in writing docstrings for functions that are important to\n",
    "know.\n",
    "\n",
    " - If your function has no arguments and a simple return value, a single sentence description is probably good enough.\n",
    " - If your function doesn’t return anything, it’s better to leave out any mention of the return value instead of saying “returns None.”\n",
    " - If you don’t expect your function to raise an exception during normal operation, don’t mention that fact.\n",
    " - If your function accepts a variable number of arguments (see Item 18: “Reduce Visual Noise with Variable Positional Arguments”) or keyword-arguments (see Item 19: “Provide Optional Behavior with Keyword Arguments”), use *args and **kwargs in the documented list of arguments to describe their purpose. \n",
    " - If your function has arguments with default values, those defaults should be mentioned (see Item 20: “Use None and Docstrings to Specify Dynamic Default Arguments”).\n",
    " - If your function is a generator (see Item 16: “Consider Generators Instead of Returning Lists”), then your docstring should describe what the generator yields when it’s iterated.\n",
    " - If your function is a coroutine (see Item 40: “Consider Coroutines to Run Many Functions Concurrently”), then your docstring should contain what the coroutine yields, what it expects to receive from yield expressions, and when it will stop iteration.\n",
    " \n",
    " \n",
    "[Note]\n",
    "\n",
    "Once you’ve written docstrings for your modules, it’s important to keep the\n",
    "documentation up to date. The doctest built-in module makes it easy to exercise\n",
    "usage examples embedded in docstrings to ensure that your source code and its\n",
    "documentation don’t diverge over time.\n"
   ]
  },
  {
   "cell_type": "markdown",
   "metadata": {},
   "source": [
    "* Write documentation for every module, class, and function using docstrings. Keep them up to date as your code changes. \n",
    "* For modules: Introduce the contents of the module and any important classes or functions all users should know about.\n",
    "* For classes: Document behavior, important attributes, and subclass behavior in the docstring following the class statement.\n",
    "* For functions and methods: Document every argument, returned value, raised exception, and other behaviors in the docstring following the def statement."
   ]
  }
 ],
 "metadata": {
  "kernelspec": {
   "display_name": "Python 3",
   "language": "python",
   "name": "python3"
  },
  "language_info": {
   "codemirror_mode": {
    "name": "ipython",
    "version": 3
   },
   "file_extension": ".py",
   "mimetype": "text/x-python",
   "name": "python",
   "nbconvert_exporter": "python",
   "pygments_lexer": "ipython3",
   "version": "3.6.3"
  }
 },
 "nbformat": 4,
 "nbformat_minor": 2
}

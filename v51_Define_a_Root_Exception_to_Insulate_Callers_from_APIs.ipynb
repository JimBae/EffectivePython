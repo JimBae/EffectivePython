{
 "cells": [
  {
   "cell_type": "markdown",
   "metadata": {},
   "source": [
    "When you’re defining a module’s API, the exceptions you throw are just as much a part of\n",
    "your interface as the functions and classes you define (see Item 14: “Prefer Exceptions to\n",
    "Returning None”).\n",
    "\n",
    "Python has a built-in hierarchy of exceptions for the language and standard library.\n",
    "There’s a draw to using the built-in exception types for reporting errors instead of defining\n",
    "your own new types. For example, you could raise a ValueError exception whenever\n",
    "an invalid parameter is passed to your function.\n"
   ]
  },
  {
   "cell_type": "code",
   "execution_count": 1,
   "metadata": {},
   "outputs": [
    {
     "name": "stderr",
     "output_type": "stream",
     "text": [
      "ERROR:root:Expected\n",
      "Traceback (most recent call last):\n",
      "  File \"<ipython-input-1-586bac59af4c>\", line 12, in <module>\n",
      "    determine_weight(1, 0)\n",
      "  File \"<ipython-input-1-586bac59af4c>\", line 10, in determine_weight\n",
      "    raise ValueError('Density must be positive')\n",
      "ValueError: Density must be positive\n"
     ]
    }
   ],
   "source": [
    "import logging\n",
    "from pprint import pprint\n",
    "from sys import stdout as STDOUT\n",
    "\n",
    "\n",
    "# Example 1\n",
    "try:\n",
    "    def determine_weight(volume, density):\n",
    "        if density <= 0:\n",
    "            raise ValueError('Density must be positive')\n",
    "    \n",
    "    determine_weight(1, 0)\n",
    "except:\n",
    "    logging.exception('Expected')\n",
    "else:\n",
    "    assert False\n"
   ]
  },
  {
   "cell_type": "markdown",
   "metadata": {},
   "source": [
    "### Ex 2\n",
    "In some cases, using ValueError makes sense, but for APIs it’s much more powerful to\n",
    "define your own hierarchy of exceptions. You can do this by providing a root\n",
    "Exception in your module. Then, have all other exceptions raised by that module\n",
    "inherit from the root exception.\n",
    "\n",
    "### Ex 3\n",
    "Having a root exception in a module makes it easy for consumers of your API to catch all\n",
    "of the exceptions that you raise on purpose. For example, here a consumer of your API\n",
    "\n",
    "This try/except prevents your API’s exceptions from propagating too far upward and\n",
    "breaking the calling program. It insulates the calling code from your API. This insulation\n",
    "has three helpful effects.\n",
    "\n",
    "### Ex 4\n",
    "First, root exceptions let callers understand when there’s a problem with their usage of\n",
    "your API. If callers are using your API properly, they should catch the various exceptions\n",
    "that you deliberately raise. If they don’t handle such an exception, it will propagate all the\n",
    "way up to the insulating except block that catches your module’s root exception. That\n",
    "block can bring the exception to the attention of the API consumer, giving them a chance\n",
    "to add proper handling of the exception type.\n",
    "\n",
    "### Ex 5\n",
    "The second advantage of using root exceptions is that they can help find bugs in your API\n",
    "module’s code. If your code only deliberately raises exceptions that you define within\n",
    "your module’s hierarchy, then all other types of exceptions raised by your module must be\n",
    "the ones that you didn’t intend to raise. These are bugs in your API’s code.\n",
    "Using the try/except statement above will not insulate API consumers from bugs in\n",
    "your API module’s code. To do that, the caller needs to add another except block that\n",
    "catches Python’s base Exception class. This allows the API consumer to detect when\n",
    "there’s a bug in the API module’s implementation that needs to be fixed.\n",
    "\n",
    "### Ex 6\n",
    "The third impact of using root exceptions is future-proofing your API. Over time, you may\n",
    "want to expand your API to provide more specific exceptions in certain situations. For\n",
    "example, you could add an Exception subclass that indicates the error condition of\n",
    "supplying negative densities."
   ]
  },
  {
   "cell_type": "code",
   "execution_count": 3,
   "metadata": {},
   "outputs": [
    {
     "name": "stderr",
     "output_type": "stream",
     "text": [
      "ERROR:root:Unexpected error: Density must be positive\n"
     ]
    }
   ],
   "source": [
    "# Example 2\n",
    "# my_module.py\n",
    "class Error(Exception):\n",
    "    \"\"\"Base-class for all exceptions raised by this module.\"\"\"\n",
    "\n",
    "class InvalidDensityError(Error):\n",
    "    \"\"\"There was a problem with a provided density value.\"\"\"\n",
    "    \n",
    "# Example 3\n",
    "class my_module(object):\n",
    "    Error = Error\n",
    "    InvalidDensityError = InvalidDensityError\n",
    "\n",
    "    @staticmethod\n",
    "    def determine_weight(volume, density):\n",
    "        if density <= 0:\n",
    "            raise InvalidDensityError('Density must be positive')\n",
    "try:\n",
    "    weight = my_module.determine_weight(1, -1)\n",
    "    assert False\n",
    "except my_module.Error as e:\n",
    "    logging.error('Unexpected error: %s', e)\n",
    "\n",
    "\n",
    "# Example 4\n",
    "weight = 5\n",
    "try:\n",
    "    weight = my_module.determine_weight(1, -1)\n",
    "    assert False\n",
    "except my_module.InvalidDensityError:\n",
    "    weight = 0\n",
    "except my_module.Error as e:\n",
    "    logging.error('Bug in the calling code: %s', e)\n",
    "\n",
    "assert weight == 0\n",
    "\n",
    "\n",
    "# Example 5\n",
    "weight = 5\n",
    "try:\n",
    "    weight = my_module.determine_weight(1, -1)\n",
    "    assert False\n",
    "except my_module.InvalidDensityError:\n",
    "    weight = 0\n",
    "except my_module.Error as e:\n",
    "    logging.error('Bug in the calling code: %s', e)\n",
    "except Exception as e:\n",
    "    logging.error('Bug in the API code: %s', e)\n",
    "    raise\n",
    "\n",
    "assert weight == 0\n",
    "\n",
    "\n",
    "# Example 6\n",
    "# my_module.py\n",
    "class NegativeDensityError(InvalidDensityError):\n",
    "    \"\"\"A provided density value was negative.\"\"\"\n",
    "\n",
    "def determine_weight(volume, density):\n",
    "    if density < 0:\n",
    "        raise NegativeDensityError\n",
    "\n",
    "\n"
   ]
  },
  {
   "cell_type": "markdown",
   "metadata": {},
   "source": [
    "### Ex 7\n",
    "The calling code will continue to work exactly as before because it already catches\n",
    "InvalidDensityError exceptions (the parent class of\n",
    "NegativeDensityError). In the future, the caller could decide to special-case the\n",
    "new type of exception and change its behavior accordingly.\n",
    "\n",
    "### Ex 8\n",
    "You can take API future-proofing further by providing a broader set of exceptions directly\n",
    "below the root exception. For example, imagine you had one set of errors related to\n",
    "calculating weights, another related to calculating volume, and a third related to\n",
    "calculating density.\n",
    "\n",
    "\n",
    "Specific exceptions would inherit from these general exceptions. Each intermediate\n",
    "exception acts as its own kind of root exception. This makes it easier to insulate layers of\n",
    "calling code from API code based on broad functionality. This is much better than having\n",
    "all callers catch a long list of very specific Exception subclasses.\n"
   ]
  },
  {
   "cell_type": "code",
   "execution_count": 4,
   "metadata": {},
   "outputs": [
    {
     "name": "stderr",
     "output_type": "stream",
     "text": [
      "ERROR:root:Expected\n",
      "Traceback (most recent call last):\n",
      "  File \"<ipython-input-4-7c217a018815>\", line 3, in <module>\n",
      "    my_module.NegativeDensityError = NegativeDensityError\n",
      "NameError: name 'NegativeDensityError' is not defined\n"
     ]
    }
   ],
   "source": [
    "# Example 7\n",
    "try:\n",
    "    my_module.NegativeDensityError = NegativeDensityError\n",
    "    my_module.determine_weight = determine_weight\n",
    "    try:\n",
    "        weight = my_module.determine_weight(1, -1)\n",
    "        assert False\n",
    "    except my_module.NegativeDensityError as e:\n",
    "        raise ValueError('Must supply non-negative density') from e\n",
    "    except my_module.InvalidDensityError:\n",
    "        weight = 0\n",
    "    except my_module.Error as e:\n",
    "        logging.error('Bug in the calling code: %s', e)\n",
    "    except Exception as e:\n",
    "        logging.error('Bug in the API code: %s', e)\n",
    "        raise\n",
    "except:\n",
    "    logging.exception('Expected')\n",
    "else:\n",
    "    assert False\n",
    "\n",
    "\n",
    "# Example 8\n",
    "# my_module.py\n",
    "class WeightError(Error):\n",
    "    \"\"\"Base-class for weight calculation errors.\"\"\"\n",
    "\n",
    "class VolumeError(Error):\n",
    "    \"\"\"Base-class for volume calculation errors.\"\"\"\n",
    "\n",
    "class DensityError(Error):\n",
    "    \"\"\"Base-class for density calculation errors.\"\"\""
   ]
  },
  {
   "cell_type": "markdown",
   "metadata": {},
   "source": [
    "* Defining root exceptions for your modules allows API consumers to insulate themselves from your API.\n",
    "* Catching root exceptions can help you find bugs in code that consumes an API. \n",
    "* Catching the Python Exception base class can help you find bugs in API implementations.\n",
    "* Intermediate root exceptions let you add more specific types of exceptions in the future without breaking your API consumers.\n"
   ]
  }
 ],
 "metadata": {
  "kernelspec": {
   "display_name": "Python 3",
   "language": "python",
   "name": "python3"
  },
  "language_info": {
   "codemirror_mode": {
    "name": "ipython",
    "version": 3
   },
   "file_extension": ".py",
   "mimetype": "text/x-python",
   "name": "python",
   "nbconvert_exporter": "python",
   "pygments_lexer": "ipython3",
   "version": "3.6.3"
  }
 },
 "nbformat": 4,
 "nbformat_minor": 2
}

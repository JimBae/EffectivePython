{
 "cells": [
  {
   "cell_type": "markdown",
   "metadata": {},
   "source": [
    "Python is an excellent language for writing code that interacts with numerical data.\n",
    "Python’s integer type can represent values of any practical size. Its double-precision\n",
    "floating point type complies with the IEEE 754 standard. The language also provides a\n",
    "standard complex number type for imaginary values. However, these aren’t enough for\n",
    "every situation.\n",
    "\n",
    "For example, say you want to compute the amount to charge a customer for an\n",
    "international phone call. You know the time in minutes and seconds that the customer was\n",
    "on the phone (say, 3 minutes 42 seconds). You also have a set rate for the cost of calling\n",
    "Antarctica from the United States ($1.45/minute). What should the charge be?\n",
    "\n",
    "### Ex 1\n",
    "With floating point math, the computed charge seems reasonable.\n",
    "\n",
    "### Ex 2\n",
    "But rounding it to the nearest whole cent rounds down when you want it to round up to\n",
    "properly cover all costs incurred by the customer.\n",
    "\n",
    "### Ex 3\n",
    "Say you also want to support very short phone calls between places that are much cheaper\n",
    "to connect. Here, I compute the charge for a phone call that was 5 seconds long with a rate\n",
    "of $0.05/minute\n",
    "\n",
    "### Ex 4\n",
    "The resulting float is so low that it rounds down to zero. This won’t do!\n",
    "\n",
    "\n"
   ]
  },
  {
   "cell_type": "code",
   "execution_count": 1,
   "metadata": {},
   "outputs": [
    {
     "name": "stdout",
     "output_type": "stream",
     "text": [
      "5.364999999999999\n",
      "5.36\n",
      "0.004166666666666667\n",
      "0.0\n"
     ]
    }
   ],
   "source": [
    "import logging\n",
    "from pprint import pprint\n",
    "from sys import stdout as STDOUT\n",
    "\n",
    "\n",
    "# Example 1\n",
    "rate = 1.45\n",
    "seconds = 3*60 + 42\n",
    "cost = rate * seconds / 60\n",
    "print(cost)\n",
    "\n",
    "\n",
    "# Example 2\n",
    "print(round(cost, 2))\n",
    "\n",
    "\n",
    "# Example 3\n",
    "rate = 0.05\n",
    "seconds = 5\n",
    "cost = rate * seconds / 60\n",
    "print(cost)\n",
    "\n",
    "\n",
    "# Example 4\n",
    "print(round(cost, 2))"
   ]
  },
  {
   "cell_type": "markdown",
   "metadata": {},
   "source": [
    "The solution is to use the Decimal class from the decimal built-in module. The\n",
    "Decimal class provides fixed point math of 28 decimal points by default. It can go even\n",
    "higher if required. This works around the precision issues in IEEE 754 floating point\n",
    "numbers. The class also gives you more control over rounding behaviors.\n",
    "\n",
    "### Ex 5\n",
    "For example, redoing the Antarctica calculation with Decimal results in an exact charge\n",
    "instead of an approximation.\n",
    "\n",
    "### Ex 6\n",
    "The Decimal class has a built-in function for rounding to exactly the decimal place you\n",
    "need with the rounding behavior you want.\n",
    "\n",
    "### Ex 7\n",
    "Using the quantize method this way also properly handles the small usage case for\n",
    "short, cheap phone calls. Here, you can see the Decimal cost is still less than 1 cent for\n",
    "the call:\n",
    "\n",
    "### Ex 8\n",
    "But the quantize behavior ensures that this is rounded up to one whole cent.\n",
    "\n",
    "While Decimal works great for fixed point numbers, it still has limitations in its\n",
    "precision (e.g., 1/3 will be an approximation). For representing rational numbers with no\n",
    "limit to precision, consider using the Fraction class from the fractions built-in\n",
    "module.\n"
   ]
  },
  {
   "cell_type": "code",
   "execution_count": 2,
   "metadata": {},
   "outputs": [
    {
     "name": "stdout",
     "output_type": "stream",
     "text": [
      "5.365\n",
      "5.37\n",
      "0.004166666666666666666666666667\n",
      "0.01\n"
     ]
    }
   ],
   "source": [
    "# Example 5\n",
    "from decimal import Decimal\n",
    "from decimal import ROUND_UP\n",
    "rate = Decimal('1.45')\n",
    "seconds = Decimal('222')  # 3*60 + 42\n",
    "cost = rate * seconds / Decimal('60')\n",
    "print(cost)\n",
    "\n",
    "\n",
    "# Example 6\n",
    "rounded = cost.quantize(Decimal('0.01'), rounding=ROUND_UP)\n",
    "print(rounded)\n",
    "\n",
    "\n",
    "# Example 7\n",
    "rate = Decimal('0.05')\n",
    "seconds = Decimal('5')\n",
    "cost = rate * seconds / Decimal('60')\n",
    "print(cost)\n",
    "\n",
    "\n",
    "# Example 8\n",
    "rounded = cost.quantize(Decimal('0.01'), rounding=ROUND_UP)\n",
    "print(rounded)"
   ]
  },
  {
   "cell_type": "markdown",
   "metadata": {},
   "source": [
    "* Python has built-in types and classes in modules that can represent practically every type of numerical value.\n",
    "* The Decimal class is ideal for situations that require high precision and exact rounding behavior, such as computations of monetary values."
   ]
  }
 ],
 "metadata": {
  "kernelspec": {
   "display_name": "Python 3",
   "language": "python",
   "name": "python3"
  },
  "language_info": {
   "codemirror_mode": {
    "name": "ipython",
    "version": 3
   },
   "file_extension": ".py",
   "mimetype": "text/x-python",
   "name": "python",
   "nbconvert_exporter": "python",
   "pygments_lexer": "ipython3",
   "version": "3.6.3"
  }
 },
 "nbformat": 4,
 "nbformat_minor": 2
}

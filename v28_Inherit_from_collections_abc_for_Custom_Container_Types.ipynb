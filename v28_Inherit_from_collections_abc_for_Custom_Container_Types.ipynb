{
 "cells": [
  {
   "cell_type": "markdown",
   "metadata": {},
   "source": [
    "Python also provides built-in container types for managing data: lists, tuples, sets, and dictionaries.\n",
    "\n",
    "When you’re designing classes for simple use cases like sequences, it’s natural that you’d\n",
    "want to subclass Python’s built-in list type directly. For example, say you want to create\n",
    "your own custom list type that has additional methods for counting the frequency of its\n",
    "members.\n",
    "\n",
    "\n"
   ]
  },
  {
   "cell_type": "code",
   "execution_count": 8,
   "metadata": {},
   "outputs": [
    {
     "name": "stdout",
     "output_type": "stream",
     "text": [
      "Length is 7\n",
      "After pop: ['a', 'b', 'a', 'c', 'b', 'a']\n",
      "Frequency: {'a': 3, 'b': 2, 'c': 1}\n"
     ]
    }
   ],
   "source": [
    "import logging\n",
    "from pprint import pprint\n",
    "from sys import stdout as STDOUT\n",
    "\n",
    "\n",
    "# Example 1\n",
    "class FrequencyList(list):\n",
    "    def __init__(self, members):\n",
    "        super().__init__(members)\n",
    "\n",
    "    def frequency(self):\n",
    "        counts = {}\n",
    "        for item in self:\n",
    "            counts.setdefault(item, 0)\n",
    "            counts[item] += 1\n",
    "        return counts\n",
    "\n",
    "\n",
    "# Example 2\n",
    "foo = FrequencyList(['a', 'b', 'a', 'c', 'b', 'a', 'd'])\n",
    "print('Length is', len(foo))\n",
    "foo.pop()\n",
    "print('After pop:', repr(foo))\n",
    "print('Frequency:', foo.frequency())\n"
   ]
  },
  {
   "cell_type": "markdown",
   "metadata": {},
   "source": []
  },
  {
   "cell_type": "code",
   "execution_count": 9,
   "metadata": {},
   "outputs": [
    {
     "data": {
      "text/plain": [
       "1"
      ]
     },
     "execution_count": 9,
     "metadata": {},
     "output_type": "execute_result"
    }
   ],
   "source": [
    "# Example 3\n",
    "class BinaryNode(object):\n",
    "    def __init__(self, value, left=None, right=None):\n",
    "        self.value = value\n",
    "        self.left = left\n",
    "        self.right = right\n",
    "\n",
    "\n",
    "# Example 4\n",
    "bar = [1, 2, 3]\n",
    "bar[0]\n",
    "\n",
    "\n",
    "# Example 5\n",
    "bar.__getitem__(0)\n",
    "\n"
   ]
  },
  {
   "cell_type": "markdown",
   "metadata": {},
   "source": []
  },
  {
   "cell_type": "code",
   "execution_count": 10,
   "metadata": {},
   "outputs": [
    {
     "name": "stdout",
     "output_type": "stream",
     "text": [
      "LRR = 7\n",
      "Index 0 = 2\n",
      "Index 1 = 5\n",
      "11 in the tree? True\n",
      "17 in the tree? False\n",
      "Tree is [2, 5, 6, 7, 10, 11, 15]\n"
     ]
    }
   ],
   "source": [
    "# Example 6\n",
    "class IndexableNode(BinaryNode):\n",
    "    def _search(self, count, index):\n",
    "        found = None\n",
    "        if self.left:\n",
    "            found, count = self.left._search(count, index)\n",
    "        if not found and count == index:\n",
    "            found = self\n",
    "        else:\n",
    "            count += 1\n",
    "        if not found and self.right:\n",
    "            found, count = self.right._search(count, index)\n",
    "        return found, count\n",
    "        # Returns (found, count)\n",
    "\n",
    "    def __getitem__(self, index):\n",
    "        found, _ = self._search(0, index)\n",
    "        if not found:\n",
    "            raise IndexError('Index out of range')\n",
    "        return found.value\n",
    "\n",
    "\n",
    "# Example 7\n",
    "tree = IndexableNode(\n",
    "    10,\n",
    "    left=IndexableNode(\n",
    "        5,\n",
    "        left=IndexableNode(2),\n",
    "        right=IndexableNode(\n",
    "            6, right=IndexableNode(7))),\n",
    "    right=IndexableNode(\n",
    "        15, left=IndexableNode(11)))\n",
    "\n",
    "\n",
    "# Example 8\n",
    "print('LRR =', tree.left.right.right.value)\n",
    "print('Index 0 =', tree[0])\n",
    "print('Index 1 =', tree[1])\n",
    "print('11 in the tree?', 11 in tree)\n",
    "print('17 in the tree?', 17 in tree)\n",
    "print('Tree is', list(tree))\n",
    "\n"
   ]
  },
  {
   "cell_type": "markdown",
   "metadata": {},
   "source": []
  },
  {
   "cell_type": "code",
   "execution_count": 11,
   "metadata": {},
   "outputs": [
    {
     "name": "stderr",
     "output_type": "stream",
     "text": [
      "ERROR:root:Expected\n",
      "Traceback (most recent call last):\n",
      "  File \"<ipython-input-11-c94a84cdd7eb>\", line 3, in <module>\n",
      "    len(tree)\n",
      "TypeError: object of type 'IndexableNode' has no len()\n"
     ]
    }
   ],
   "source": [
    "# Example 9\n",
    "try:\n",
    "    len(tree)\n",
    "except:\n",
    "    logging.exception('Expected')\n",
    "else:\n",
    "    assert False\n",
    "\n"
   ]
  },
  {
   "cell_type": "markdown",
   "metadata": {},
   "source": []
  },
  {
   "cell_type": "code",
   "execution_count": 12,
   "metadata": {},
   "outputs": [
    {
     "name": "stdout",
     "output_type": "stream",
     "text": [
      "Tree has 7 nodes\n"
     ]
    }
   ],
   "source": [
    "# Example 10\n",
    "class SequenceNode(IndexableNode):\n",
    "    def __len__(self):\n",
    "        _, count = self._search(0, None)\n",
    "        return count\n",
    "\n",
    "\n",
    "# Example 11\n",
    "tree = SequenceNode(\n",
    "    10,\n",
    "    left=SequenceNode(\n",
    "        5,\n",
    "        left=SequenceNode(2),\n",
    "        right=SequenceNode(\n",
    "            6, right=SequenceNode(7))),\n",
    "    right=SequenceNode(\n",
    "        15, left=SequenceNode(11))\n",
    ")\n",
    "\n",
    "print('Tree has %d nodes' % len(tree))\n"
   ]
  },
  {
   "cell_type": "markdown",
   "metadata": {},
   "source": []
  },
  {
   "cell_type": "code",
   "execution_count": 13,
   "metadata": {},
   "outputs": [
    {
     "name": "stderr",
     "output_type": "stream",
     "text": [
      "ERROR:root:Expected\n",
      "Traceback (most recent call last):\n",
      "  File \"<ipython-input-13-7db2f4e2ba11>\", line 8, in <module>\n",
      "    foo = BadType()\n",
      "TypeError: Can't instantiate abstract class BadType with abstract methods __getitem__, __len__\n"
     ]
    }
   ],
   "source": [
    "# Example 12\n",
    "try:\n",
    "    from collections.abc import Sequence\n",
    "    \n",
    "    class BadType(Sequence):\n",
    "        pass\n",
    "    \n",
    "    foo = BadType()\n",
    "except:\n",
    "    logging.exception('Expected')\n",
    "else:\n",
    "    assert False\n"
   ]
  },
  {
   "cell_type": "markdown",
   "metadata": {},
   "source": []
  },
  {
   "cell_type": "code",
   "execution_count": 14,
   "metadata": {},
   "outputs": [
    {
     "name": "stdout",
     "output_type": "stream",
     "text": [
      "Index of 7 is 3\n",
      "Count of 10 is 1\n"
     ]
    }
   ],
   "source": [
    "# Example 13\n",
    "class BetterNode(SequenceNode, Sequence):\n",
    "    pass\n",
    "\n",
    "tree = BetterNode( 10, left=BetterNode( 5, left=BetterNode(2), \\\n",
    "                                           right=BetterNode(6, right=BetterNode(7))), \\\n",
    "                   right=BetterNode( 15, left=BetterNode(11)))\n",
    "\n",
    "print('Index of 7 is', tree.index(7))\n",
    "print('Count of 10 is', tree.count(10))"
   ]
  },
  {
   "cell_type": "markdown",
   "metadata": {},
   "source": [
    "* Inherit directly from Python’s container types (like list or dict) for simple use cases.\n",
    "* Beware of the large number of methods required to implement custom container types correctly.\n",
    "* Have your custom container types inherit from the interfaces defined in collections.abc to ensure that your classes match required interfaces and behaviors."
   ]
  }
 ],
 "metadata": {
  "kernelspec": {
   "display_name": "Python 3",
   "language": "python",
   "name": "python3"
  },
  "language_info": {
   "codemirror_mode": {
    "name": "ipython",
    "version": 3
   },
   "file_extension": ".py",
   "mimetype": "text/x-python",
   "name": "python",
   "nbconvert_exporter": "python",
   "pygments_lexer": "ipython3",
   "version": "3.6.3"
  }
 },
 "nbformat": 4,
 "nbformat_minor": 2
}

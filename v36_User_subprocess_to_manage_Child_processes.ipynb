{
 "cells": [
  {
   "cell_type": "markdown",
   "metadata": {},
   "source": [
    "Python has had many ways to run subprocesses over the years, including popen,\n",
    "popen2, and os.exec*. With the Python of today, the best and simplest choice for\n",
    "managing child processes is to use the subprocess built-in module.\n",
    "\n",
    "Running a child process with subprocess is simple. Here, the Popen constructor starts\n",
    "the process. The communicate method reads the child process’s output and waits for\n",
    "termination."
   ]
  },
  {
   "cell_type": "code",
   "execution_count": 2,
   "metadata": {},
   "outputs": [
    {
     "name": "stdout",
     "output_type": "stream",
     "text": [
      "Hello from the child!\n",
      "\n"
     ]
    }
   ],
   "source": [
    "import logging\n",
    "from pprint import pprint\n",
    "from sys import stdout as STDOUT\n",
    "\n",
    "\n",
    "# Example 1\n",
    "import subprocess\n",
    "proc = subprocess.Popen( ['echo', 'Hello from the child!'],\n",
    "                         stdout=subprocess.PIPE )\n",
    "out, err = proc.communicate()\n",
    "print(out.decode('utf-8'))\n",
    "\n"
   ]
  },
  {
   "cell_type": "markdown",
   "metadata": {},
   "source": [
    "Child processes will run independently from their parent process, the Python interpreter.\n",
    "Their status can be polled periodically while Python does other work."
   ]
  },
  {
   "cell_type": "code",
   "execution_count": 3,
   "metadata": {},
   "outputs": [
    {
     "name": "stdout",
     "output_type": "stream",
     "text": [
      "Working...\n",
      "Working...\n",
      "Exit status 0\n"
     ]
    }
   ],
   "source": [
    "# Example 2\n",
    "from time import sleep, time\n",
    "proc = subprocess.Popen(['sleep', '0.3'])\n",
    "while proc.poll() is None:\n",
    "    print('Working...')\n",
    "    # Some time consuming work here\n",
    "    sleep(0.2)\n",
    "\n",
    "print('Exit status', proc.poll())"
   ]
  },
  {
   "cell_type": "markdown",
   "metadata": {},
   "source": [
    "Decoupling the child process from the parent means that the parent process is free to run\n",
    "many child processes in parallel. You can do this by starting all the child processes\n",
    "together upfront.\n",
    "\n",
    "If these processes ran in sequence, the total delay would be 1 second, not the ~0.1\n",
    "second I measured."
   ]
  },
  {
   "cell_type": "code",
   "execution_count": 5,
   "metadata": {},
   "outputs": [
    {
     "name": "stdout",
     "output_type": "stream",
     "text": [
      "Finished in 0.134 seconds\n"
     ]
    }
   ],
   "source": [
    "# Example 3\n",
    "def run_sleep(period):\n",
    "    proc = subprocess.Popen(['sleep', str(period)])\n",
    "    return proc\n",
    "\n",
    "start = time()\n",
    "procs = []\n",
    "for _ in range(10):\n",
    "    proc = run_sleep(0.1)\n",
    "    procs.append(proc)\n",
    "\n",
    "# Example 4\n",
    "for proc in procs:\n",
    "    proc.communicate()\n",
    "end = time()\n",
    "print('Finished in %.3f seconds' % (end - start))\n"
   ]
  },
  {
   "cell_type": "markdown",
   "metadata": {},
   "source": [
    "You can also pipe data from your Python program into a subprocess and retrieve its\n",
    "output. This allows you to utilize other programs to do work in parallel. For example, say\n",
    "you want to use the openssl command-line tool to encrypt some data. Starting the child\n",
    "process with command-line arguments and I/O pipes is easy.\n",
    "\n",
    "## Example 6\n",
    "Here, I pipe random bytes into the encryption function, but in practice this would be user\n",
    "input, a file handle, a network socket, etc.:\n",
    "\n",
    "## Example 7\n",
    "The child processes will run in parallel and consume their input. Here, I wait for them to\n",
    "finish and then retrieve their final output\n",
    "\n",
    "## Example 8\n",
    "You can also create chains of parallel processes just like UNIX pipes, connecting the\n",
    "output of one child process into the input of another, and so on. Here’s a function that\n",
    "starts a child process that will cause the md5 command-line tool to consume an input\n",
    "stream:\n",
    "\n",
    "\n",
    "Python’s hashlib built-in module provides the md5 function, so running a\n",
    "subprocess like this isn’t always necessary. The goal here is to demonstrate how\n",
    "subprocesses can pipe inputs and outputs.\n"
   ]
  },
  {
   "cell_type": "code",
   "execution_count": 6,
   "metadata": {},
   "outputs": [
    {
     "name": "stdout",
     "output_type": "stream",
     "text": [
      "b'\\xc4\\x1f \\x96e\\x11@\\xeaI\\x8a'\n",
      "b'L~:\\ruZ\\n,j\\xb4'\n",
      "b'd\\xa0\\xa4p4S\\x97\\x8a\\xf5F'\n"
     ]
    }
   ],
   "source": [
    "# Example 5\n",
    "import os\n",
    "\n",
    "def run_openssl(data):\n",
    "    env = os.environ.copy()\n",
    "    env['password'] = b'\\xe24U\\n\\xd0Ql3S\\x11'\n",
    "    proc = subprocess.Popen(\n",
    "        ['openssl', 'enc', '-des3', '-pass', 'env:password'],\n",
    "        env=env,\n",
    "        stdin=subprocess.PIPE,\n",
    "        stdout=subprocess.PIPE)\n",
    "    proc.stdin.write(data)\n",
    "    proc.stdin.flush()  # Ensure the child gets input\n",
    "    return proc\n",
    "\n",
    "\n",
    "# Example 6\n",
    "import os\n",
    "procs = []\n",
    "for _ in range(3):\n",
    "    data = os.urandom(10)\n",
    "    proc = run_openssl(data)\n",
    "    procs.append(proc)\n",
    "\n",
    "\n",
    "# Example 7\n",
    "for proc in procs:\n",
    "    out, err = proc.communicate()\n",
    "    print(out[-10:])\n",
    "\n",
    "\n",
    "# Example 8\n",
    "def run_md5(input_stdin):\n",
    "    proc = subprocess.Popen(\n",
    "        ['md5'],\n",
    "        stdin=input_stdin,\n",
    "        stdout=subprocess.PIPE)\n",
    "    return proc\n",
    "\n"
   ]
  },
  {
   "cell_type": "markdown",
   "metadata": {},
   "source": [
    "Now, I can kick off a set of openssl processes to encrypt some data and another set of\n",
    "processes to md5 hash the encrypted output.\n",
    "\n",
    "## Example 10\n",
    "The I/O between the child processes will happen automatically once you get them started.\n",
    "All you need to do is wait for them to finish and print the final output."
   ]
  },
  {
   "cell_type": "code",
   "execution_count": 8,
   "metadata": {},
   "outputs": [
    {
     "name": "stdout",
     "output_type": "stream",
     "text": [
      "b'5ba63f05c1f82291b8e0f45cc4569a92'\n",
      "b'07401ef3fcd6d9aa8e79f0e100a1a50f'\n",
      "b'd09ab4fc7903600d741b2692a16b9bfe'\n"
     ]
    }
   ],
   "source": [
    "# Example 9\n",
    "input_procs = []\n",
    "hash_procs = []\n",
    "for _ in range(3):\n",
    "    data = os.urandom(10)\n",
    "    proc = run_openssl(data)\n",
    "    input_procs.append(proc)\n",
    "    hash_proc = run_md5(proc.stdout)\n",
    "    hash_procs.append(hash_proc)\n",
    "\n",
    "    \n",
    "# Example 10\n",
    "for proc in input_procs:\n",
    "    proc.communicate()\n",
    "for proc in hash_procs:\n",
    "    out, err = proc.communicate()\n",
    "    print(out.strip())\n"
   ]
  },
  {
   "cell_type": "markdown",
   "metadata": {},
   "source": [
    "If you’re worried about the child processes never finishing or somehow blocking on input\n",
    "or output pipes, then be sure to pass the timeout parameter to the communicate\n",
    "method. This will cause an exception to be raised if the child process hasn’t responded\n",
    "within a time period, giving you a chance to terminate the misbehaving child.\n",
    "\n",
    "Unfortunately, the timeout parameter is only available in Python 3.3 and later. In earlier\n",
    "versions of Python, you’ll need to use the select built-in module on proc.stdin,\n",
    "proc.stdout, and proc.stderr in order to enforce timeouts on I/O."
   ]
  },
  {
   "cell_type": "code",
   "execution_count": 9,
   "metadata": {},
   "outputs": [
    {
     "name": "stdout",
     "output_type": "stream",
     "text": [
      "Exit status -15\n"
     ]
    }
   ],
   "source": [
    "# Example 11\n",
    "proc = run_sleep(10)\n",
    "try:\n",
    "    proc.communicate(timeout=0.1)\n",
    "except subprocess.TimeoutExpired:\n",
    "    proc.terminate()\n",
    "    proc.wait()\n",
    "\n",
    "print('Exit status', proc.poll())"
   ]
  },
  {
   "cell_type": "markdown",
   "metadata": {},
   "source": [
    "* Use the subprocess module to run child processes and manage their input and output streams.\n",
    "* Child processes run in parallel with the Python interpreter, enabling you to maximize your CPU usage.\n",
    "* Use the timeout parameter with communicate to avoid deadlocks and hanging child processes."
   ]
  }
 ],
 "metadata": {
  "kernelspec": {
   "display_name": "Python 3",
   "language": "python",
   "name": "python3"
  },
  "language_info": {
   "codemirror_mode": {
    "name": "ipython",
    "version": 3
   },
   "file_extension": ".py",
   "mimetype": "text/x-python",
   "name": "python",
   "nbconvert_exporter": "python",
   "pygments_lexer": "ipython3",
   "version": "3.6.3"
  }
 },
 "nbformat": 4,
 "nbformat_minor": 2
}

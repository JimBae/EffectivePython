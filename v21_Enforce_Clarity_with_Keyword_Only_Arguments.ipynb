{
 "cells": [
  {
   "cell_type": "markdown",
   "metadata": {},
   "source": []
  },
  {
   "cell_type": "code",
   "execution_count": 2,
   "metadata": {},
   "outputs": [
    {
     "name": "stdout",
     "output_type": "stream",
     "text": [
      "0\n",
      "inf\n"
     ]
    }
   ],
   "source": [
    "import logging\n",
    "from pprint import pprint\n",
    "from sys import stdout as STDOUT\n",
    "\n",
    "\n",
    "# Example 1\n",
    "def safe_division(number, divisor, \n",
    "                  ignore_overflow,\n",
    "                  ignore_zero_division):\n",
    "    try:\n",
    "        return number / divisor\n",
    "    except OverflowError:\n",
    "        if ignore_overflow:\n",
    "            return 0\n",
    "        else:\n",
    "            raise\n",
    "    except ZeroDivisionError:\n",
    "        if ignore_zero_division:\n",
    "            return float('inf')\n",
    "        else:\n",
    "            raise\n",
    "\n",
    "\n",
    "# Example 2\n",
    "result = safe_division(1.0, 10**500, True, False)\n",
    "print(result)\n",
    "assert result is 0\n",
    "\n",
    "result = safe_division(1.0, 0, False, True)\n",
    "print(result)\n",
    "assert result == float('inf')"
   ]
  },
  {
   "cell_type": "code",
   "execution_count": 4,
   "metadata": {
    "collapsed": true
   },
   "outputs": [],
   "source": [
    "# Example 4\n",
    "def safe_division_b(number, divisor,\n",
    "                    ignore_overflow=False,\n",
    "                    ignore_zero_division=False):\n",
    "    try:\n",
    "        return number / divisor\n",
    "    except OverflowError:\n",
    "        if ignore_overflow:\n",
    "            return 0\n",
    "        else:\n",
    "            raise\n",
    "    except ZeroDivisionError:\n",
    "        if ignore_zero_division:\n",
    "            return float('inf')\n",
    "        else:\n",
    "            raise\n",
    "\n",
    "\n",
    "# Example 5\n",
    "assert safe_division_b(1.0, 10**500, ignore_overflow=True) is 0\n",
    "assert safe_division_b(1.0, 0, ignore_zero_division=True) == float('inf')\n",
    "\n",
    "\n",
    "# Example 6\n",
    "assert safe_division_b(1.0, 10**500, True, False) is 0"
   ]
  },
  {
   "cell_type": "code",
   "execution_count": 6,
   "metadata": {},
   "outputs": [
    {
     "name": "stderr",
     "output_type": "stream",
     "text": [
      "ERROR:root:Expected\n",
      "Traceback (most recent call last):\n",
      "  File \"<ipython-input-6-d8c14b363373>\", line 21, in <module>\n",
      "    safe_division_c(1.0, 10**500, True, False)\n",
      "TypeError: safe_division_c() takes 2 positional arguments but 4 were given\n"
     ]
    }
   ],
   "source": [
    "# Example 7\n",
    "def safe_division_c(number, divisor, *,\n",
    "                    ignore_overflow=False,\n",
    "                    ignore_zero_division=False):\n",
    "    try:\n",
    "        return number / divisor\n",
    "    except OverflowError:\n",
    "        if ignore_overflow:\n",
    "            return 0\n",
    "        else:\n",
    "            raise\n",
    "    except ZeroDivisionError:\n",
    "        if ignore_zero_division:\n",
    "            return float('inf')\n",
    "        else:\n",
    "            raise\n",
    "\n",
    "\n",
    "# Example 8\n",
    "try:\n",
    "    safe_division_c(1.0, 10**500, True, False)\n",
    "except:\n",
    "    logging.exception('Expected')\n",
    "else:\n",
    "    assert False\n"
   ]
  },
  {
   "cell_type": "code",
   "execution_count": 7,
   "metadata": {
    "collapsed": true
   },
   "outputs": [],
   "source": [
    "# Example 9\n",
    "safe_division_c(1.0, 0, ignore_zero_division=True)  # No exception\n",
    "try:\n",
    "    safe_division_c(1.0, 0)\n",
    "    assert False\n",
    "except ZeroDivisionError:\n",
    "    pass  # Expected"
   ]
  },
  {
   "cell_type": "markdown",
   "metadata": {},
   "source": [
    "* Keyword arguments make the intention of a function call more clear. \n",
    "* Use keyword-only arguments to force callers to supply keyword arguments for potentially confusing functions, especially those that accept multiple Boolean flags.\n",
    "* Python 3 supports explicit syntax for keyword-only arguments in functions.\n",
    "* Python 2 can emulate keyword-only arguments for functions by using **kwargs and manually raising TypeError exceptions."
   ]
  }
 ],
 "metadata": {
  "kernelspec": {
   "display_name": "Python 3",
   "language": "python",
   "name": "python3"
  },
  "language_info": {
   "codemirror_mode": {
    "name": "ipython",
    "version": 3
   },
   "file_extension": ".py",
   "mimetype": "text/x-python",
   "name": "python",
   "nbconvert_exporter": "python",
   "pygments_lexer": "ipython3",
   "version": "3.6.3"
  }
 },
 "nbformat": 4,
 "nbformat_minor": 2
}

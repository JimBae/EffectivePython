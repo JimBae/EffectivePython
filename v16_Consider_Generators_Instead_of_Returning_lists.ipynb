{
 "cells": [
  {
   "cell_type": "markdown",
   "metadata": {},
   "source": [
    "The simplest choice for functions that produce a sequence of results is to return a list of\n",
    "items\n"
   ]
  },
  {
   "cell_type": "code",
   "execution_count": 4,
   "metadata": {},
   "outputs": [
    {
     "name": "stdout",
     "output_type": "stream",
     "text": [
      "[0, 5, 11]\n",
      "[0, 5, 11, 15, 21, 27]\n"
     ]
    }
   ],
   "source": [
    "import logging\n",
    "from pprint import pprint\n",
    "from sys import stdout as STDOUT\n",
    "\n",
    "\n",
    "# Example 1\n",
    "def index_words(text):\n",
    "    result = []\n",
    "    if text:\n",
    "        result.append(0)\n",
    "    for index, letter in enumerate(text):\n",
    "        if letter == ' ':\n",
    "            result.append(index + 1)\n",
    "    return result\n",
    "\n",
    "address = 'Four score and seven years ago...'\n",
    "#address = 'Four score and seven years ago our fathers brought forth on this continent a new nation, conceived in liberty, and dedicated to the proposition that all men are created equal.'\n",
    "result = index_words(address)\n",
    "print(result[:3])\n",
    "print(result)\n"
   ]
  },
  {
   "cell_type": "markdown",
   "metadata": {},
   "source": [
    "There are two problems with the index_words function.\n",
    "\n",
    "1.\n",
    "The first problem is that the code is a bit dense and noisy. Each time a new result is found,\n",
    "I call the append method. The method call’s bulk (result.append) deemphasizes the\n",
    "value being added to the list (index + 1). There is one line for creating the result list\n",
    "and another for returning it. While the function body contains ~130 characters (without\n",
    "whitespace), only ~75 characters are important.\n",
    "\n",
    "A better way to write this function is using a generator. Generators are functions that use\n",
    "yield expressions. When called, generator functions do not actually run but instead\n",
    "immediately return an iterator. With each call to the next built-in function, the iterator\n",
    "will advance the generator to its next yield expression. Each value passed to yield by\n",
    "the generator will be returned by the iterator to the caller.\n",
    "\n",
    "It’s significantly easier to read because all interactions with the result list have been\n",
    "eliminated. Results are passed to yield expressions instead. The iterator returned by the\n",
    "generator call can easily be converted to a list by passing it to the list built-in function\n",
    "(see Item 9: “Consider Generator Expressions for Large Comprehensions” for how this\n",
    "works).\n",
    "\n",
    "2.\n",
    "The second problem with index_words is that it requires all results to be stored in the\n",
    "list before being returned. For huge inputs, this can cause your program to run out of\n",
    "memory and crash. In contrast, a generator version of this function can easily be adapted\n",
    "to take inputs of arbitrary length.\n",
    "Here, I define a generator that streams input from a file one line at a time and yields\n",
    "outputs one word at a time. The working memory for this function is bounded to the\n",
    "maximum length of one line of input.\n"
   ]
  },
  {
   "cell_type": "code",
   "execution_count": 5,
   "metadata": {},
   "outputs": [
    {
     "name": "stdout",
     "output_type": "stream",
     "text": [
      "[0, 5, 11]\n"
     ]
    }
   ],
   "source": [
    "def index_words_iter(text):\n",
    "    if text:\n",
    "        yield 0\n",
    "    for index, letter in enumerate(text):\n",
    "        if letter == ' ':\n",
    "            yield index + 1\n",
    "\n",
    "result = list(index_words_iter(address))\n",
    "print(result[:3])\n"
   ]
  },
  {
   "cell_type": "code",
   "execution_count": 6,
   "metadata": {},
   "outputs": [
    {
     "name": "stdout",
     "output_type": "stream",
     "text": [
      "[0, 5, 11]\n"
     ]
    }
   ],
   "source": [
    "def index_file(handle):\n",
    "    offset = 0\n",
    "    for line in handle:\n",
    "        if line:\n",
    "            yield offset\n",
    "        for letter in line:\n",
    "            offset += 1\n",
    "            if letter == ' ':\n",
    "                yield offset\n",
    "\n",
    "\n",
    "# Example 6\n",
    "address_lines = \"\"\"Four score and seven years\n",
    "ago our fathers brought forth on this\n",
    "continent a new nation, conceived in liberty,\n",
    "and dedicated to the proposition that all men\n",
    "are created equal.\"\"\"\n",
    "\n",
    "with open('address.txt', 'w') as f:\n",
    "    f.write(address_lines)\n",
    "\n",
    "from itertools import islice\n",
    "with open('address.txt', 'r') as f:\n",
    "    it = index_file(f)\n",
    "    results = islice(it, 0, 3)\n",
    "    print(list(results))"
   ]
  },
  {
   "cell_type": "markdown",
   "metadata": {},
   "source": [
    "* Using generators can be clearer than the alternative of returning lists of accumulated results.\n",
    "* The iterator returned by a generator produces the set of values passed to yield expressions within the generator function’s body. \n",
    "* Generators can produce a sequence of outputs for arbitrarily large inputs because their working memory doesn’t include all inputs and outputs."
   ]
  }
 ],
 "metadata": {
  "kernelspec": {
   "display_name": "Python 3",
   "language": "python",
   "name": "python3"
  },
  "language_info": {
   "codemirror_mode": {
    "name": "ipython",
    "version": 3
   },
   "file_extension": ".py",
   "mimetype": "text/x-python",
   "name": "python",
   "nbconvert_exporter": "python",
   "pygments_lexer": "ipython3",
   "version": "3.6.3"
  }
 },
 "nbformat": 4,
 "nbformat_minor": 2
}

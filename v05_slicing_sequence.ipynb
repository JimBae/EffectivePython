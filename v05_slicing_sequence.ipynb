{
 "cells": [
  {
   "cell_type": "markdown",
   "metadata": {},
   "source": [
    "The simplest uses for slcing are the built-in types list, str, and bytes.\n",
    "Slicing can be extended to any Python class that implements the \n",
    "__getitem__ and __setitem)) special methods\n",
    "(Ref Item28 - Inherit collections.abc for Custom Container Type)\n",
    "\n"
   ]
  },
  {
   "cell_type": "code",
   "execution_count": 1,
   "metadata": {},
   "outputs": [
    {
     "name": "stdout",
     "output_type": "stream",
     "text": [
      "First four: ['a', 'b', 'c', 'd']\n",
      "Last four:  ['e', 'f', 'g', 'h']\n",
      "Middle two: ['d', 'e']\n"
     ]
    }
   ],
   "source": [
    "import logging\n",
    "from pprint import pprint\n",
    "from sys import stdout as STDOUT\n",
    "\n",
    "a = ['a', 'b', 'c', 'd', 'e', 'f', 'g', 'h']\n",
    "print('First four:', a[:4])\n",
    "print('Last four: ', a[-4:])\n",
    "print('Middle two:', a[3:-3])"
   ]
  },
  {
   "cell_type": "code",
   "execution_count": 3,
   "metadata": {},
   "outputs": [],
   "source": [
    "assert a[:5] == a[0:5]"
   ]
  },
  {
   "cell_type": "code",
   "execution_count": 4,
   "metadata": {},
   "outputs": [],
   "source": [
    "assert a[5:] == a[5:len(a)]"
   ]
  },
  {
   "cell_type": "code",
   "execution_count": 5,
   "metadata": {},
   "outputs": [
    {
     "name": "stdout",
     "output_type": "stream",
     "text": [
      "['a', 'b', 'c', 'd', 'e']\n",
      "['a', 'b', 'c', 'd', 'e', 'f', 'g']\n",
      "['e', 'f', 'g', 'h']\n",
      "['f', 'g', 'h']\n",
      "['c', 'd', 'e']\n",
      "['c', 'd', 'e', 'f', 'g']\n",
      "['f', 'g']\n"
     ]
    }
   ],
   "source": [
    "print(a[:5])\n",
    "print(a[:-1])\n",
    "print(a[4:])\n",
    "print(a[-3:])\n",
    "print(a[2:5])\n",
    "print(a[2:-1])\n",
    "print(a[-3:-1])"
   ]
  },
  {
   "cell_type": "code",
   "execution_count": null,
   "metadata": {},
   "outputs": [],
   "source": [
    "a[:]      # ['a', 'b', 'c', 'd', 'e', 'f', 'g', 'h']\n",
    "a[:5]     # ['a', 'b', 'c', 'd', 'e']\n",
    "a[:-1]    # ['a', 'b', 'c', 'd', 'e', 'f', 'g']\n",
    "a[4:]     #                     ['e', 'f', 'g', 'h']\n",
    "a[-3:]    #                          ['f', 'g', 'h']\n",
    "a[2:5]    #           ['c', 'd', 'e']\n",
    "a[2:-1]   #           ['c', 'd', 'e', 'f', 'g']\n",
    "a[-3:-1]  #                          ['f', 'g']"
   ]
  },
  {
   "cell_type": "code",
   "execution_count": 8,
   "metadata": {},
   "outputs": [],
   "source": [
    "first_twenty_items = a[:20]\n",
    "last_twenty_items = a[-20:]"
   ]
  },
  {
   "cell_type": "code",
   "execution_count": 9,
   "metadata": {},
   "outputs": [
    {
     "name": "stderr",
     "output_type": "stream",
     "text": [
      "ERROR:root:Expected\n",
      "Traceback (most recent call last):\n",
      "  File \"<ipython-input-9-b70325017edc>\", line 2, in <module>\n",
      "    a[20]\n",
      "IndexError: list index out of range\n"
     ]
    }
   ],
   "source": [
    "try:\n",
    "    a[20]\n",
    "except:\n",
    "    logging.exception('Expected')\n",
    "else:\n",
    "    assert False\n"
   ]
  },
  {
   "cell_type": "code",
   "execution_count": 10,
   "metadata": {},
   "outputs": [
    {
     "name": "stdout",
     "output_type": "stream",
     "text": [
      "Before:    ['e', 'f', 'g', 'h']\n",
      "After:     ['e', 99, 'g', 'h']\n",
      "No change: ['a', 'b', 'c', 'd', 'e', 'f', 'g', 'h']\n"
     ]
    }
   ],
   "source": [
    "b = a[4:]\n",
    "print('Before:   ', b)\n",
    "b[1] = 99\n",
    "print('After:    ', b)\n",
    "print('No change:', a)"
   ]
  },
  {
   "cell_type": "code",
   "execution_count": 11,
   "metadata": {},
   "outputs": [
    {
     "name": "stdout",
     "output_type": "stream",
     "text": [
      "Before  ['a', 'b', 'c', 'd', 'e', 'f', 'g', 'h']\n",
      "After   ['a', 'b', 99, 22, 14, 'h']\n"
     ]
    }
   ],
   "source": [
    "print('Before ', a)\n",
    "a[2:7] = [99, 22, 14]\n",
    "print('After  ', a)"
   ]
  },
  {
   "cell_type": "code",
   "execution_count": 12,
   "metadata": {},
   "outputs": [],
   "source": [
    "b = a[:]\n",
    "assert b == a and b is not a"
   ]
  },
  {
   "cell_type": "code",
   "execution_count": 13,
   "metadata": {},
   "outputs": [
    {
     "name": "stdout",
     "output_type": "stream",
     "text": [
      "Before ['a', 'b', 99, 22, 14, 'h']\n",
      "After  [101, 102, 103]\n"
     ]
    }
   ],
   "source": [
    "b = a\n",
    "print('Before', a)\n",
    "a[:] = [101, 102, 103]\n",
    "assert a is b           # Still the same list object\n",
    "print('After ', a)      # Now has different contents"
   ]
  }
 ],
 "metadata": {
  "kernelspec": {
   "display_name": "Python 3",
   "language": "python",
   "name": "python3"
  },
  "language_info": {
   "codemirror_mode": {
    "name": "ipython",
    "version": 3
   },
   "file_extension": ".py",
   "mimetype": "text/x-python",
   "name": "python",
   "nbconvert_exporter": "python",
   "pygments_lexer": "ipython3",
   "version": "3.6.5"
  }
 },
 "nbformat": 4,
 "nbformat_minor": 2
}

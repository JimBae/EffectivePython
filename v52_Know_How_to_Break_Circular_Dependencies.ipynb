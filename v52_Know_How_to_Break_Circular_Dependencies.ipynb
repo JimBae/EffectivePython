{
 "cells": [
  {
   "cell_type": "markdown",
   "metadata": {},
   "source": [
    "Inevitably, while you’re collaborating with others, you’ll find a mutual interdependency\n",
    "between modules. It can even happen while you work by yourself on the various parts of a\n",
    "single program.\n",
    "\n",
    "For example, say you want your GUI application to show a dialog box for choosing where\n",
    "to save a document. The data displayed by the dialog could be specified through\n",
    "arguments to your event handlers. But the dialog also needs to read global state, like user\n",
    "preferences, to know how to render properly.\n",
    "\n",
    "Here, I define a dialog that retrieves the default document save location from global\n",
    "preferences:\n"
   ]
  },
  {
   "cell_type": "markdown",
   "metadata": {},
   "source": [
    "To understand what’s happening here, you need to know the details of Python’s import\n",
    "machinery. When a module is imported, here’s what Python actually does in depth-first\n",
    "order:\n",
    "1. Searches for your module in locations from sys.path\n",
    "2. Loads the code from the module and ensures that it compiles\n",
    "3. Creates a corresponding empty module object\n",
    "4. Inserts the module into sys.modules\n",
    "5. Runs the code in the module object to define its contents\n",
    "\n",
    "The problem with a circular dependency is that the attributes of a module aren’t defined\n",
    "until the code for those attributes has executed (after step #5). But the module can be\n",
    "loaded with the import statement immediately after it’s inserted into sys.modules\n",
    "(after step #4).\n",
    "\n",
    "In the example above, the app module imports dialog before defining anything. Then,\n",
    "the dialog module imports app. Since app still hasn’t finished running—it’s currently\n",
    "importing dialog—the app module is just an empty shell (from step #4). The\n",
    "AttributeError is raised (during step #5 for dialog) because the code that defines\n",
    "prefs hasn’t run yet (step #5 for app isn’t complete).\n",
    "\n",
    "The best solution to this problem is to refactor your code so that the prefs data structure\n",
    "is at the bottom of the dependency tree. Then, both app and dialog can import the same\n",
    "utility module and avoid any circular dependencies. But such a clear division isn’t always\n",
    "possible or could require too much refactoring to be worth the effort.\n",
    "\n",
    "There are three other ways to break circular dependencies.\n"
   ]
  },
  {
   "cell_type": "markdown",
   "metadata": {},
   "source": [
    "## Reordering Imports\n",
    "\n",
    "The first approach is to change the order of imports. For example, if you import the\n",
    "dialog module toward the bottom of the app module, after its contents have run, the\n",
    "AttributeError goes away.\n",
    "\n",
    "This works because, when the dialog module is loaded late, its recursive import of app\n",
    "will find that app.prefs has already been defined (step #5 is mostly done for app).\n",
    "\n",
    "Although this avoids the AttributeError, it goes against the PEP 8 style guide (see\n",
    "Item 2: “Follow the PEP 8 Style Guide”). The style guide suggests that you always put\n",
    "imports at the top of your Python files. This makes your module’s dependencies clear to\n",
    "new readers of the code. It also ensures that any module you depend on is in scope and\n",
    "available to all the code in your module.\n",
    "\n",
    "Having imports later in a file can be brittle and can cause small changes in the ordering of\n",
    "your code to break the module entirely. Thus, you should avoid import reordering to solve\n",
    "your circular dependency issues.\n"
   ]
  },
  {
   "cell_type": "markdown",
   "metadata": {},
   "source": [
    "## Import, Configure, Run\n",
    "\n",
    "A second solution to the circular imports problem is to have your modules minimize side\n",
    "effects at import time. You have your modules only define functions, classes, and\n",
    "constants. You avoid actually running any functions at import time. Then, you have each\n",
    "module provide a configure function that you call once all other modules have\n",
    "finished importing. The purpose of configure is to prepare each module’s state by\n",
    "accessing the attributes of other modules. You run configure after all modules have\n",
    "been imported (step #5 is complete), so all attributes must be defined.\n",
    "\n",
    "Here, I redefine the dialog module to only access the prefs object when configure\n",
    "is called:\n",
    "\n",
    "This works well in many situations and enables patterns like dependency injection. But\n",
    "sometimes it can be difficult to structure your code so that an explicit configure step is\n",
    "possible. Having two distinct phases within a module can also make your code harder to\n",
    "read because it separates the definition of objects from their configuration."
   ]
  },
  {
   "cell_type": "markdown",
   "metadata": {},
   "source": [
    "## Dynamic Import\n",
    "The third—and often simplest—solution to the circular imports problem is to use an\n",
    "import statement within a function or method. This is called a dynamic import because\n",
    "the module import happens while the program is running, not while the program is first\n",
    "starting up and initializing its modules.\n",
    "\n",
    "Here, I redefine the dialog module to use a dynamic import. The dialog.show\n",
    "function imports the app module at runtime instead of the dialog module importing\n",
    "app at initialization time.\n",
    "\n",
    "This approach has a similar effect to the import, configure, and run steps from before. The\n",
    "difference is that this requires no structural changes to the way the modules are defined\n",
    "and imported. You’re simply delaying the circular import until the moment you must\n",
    "access the other module. At that point, you can be pretty sure that all other modules have\n",
    "already been initialized (step #5 is complete for everything).\n",
    "\n",
    "In general, it’s good to avoid dynamic imports like this. The cost of the import statement\n",
    "is not negligible and can be especially bad in tight loops. By delaying execution, dynamic\n",
    "imports also set you up for surprising failures at runtime, such as SyntaxError\n",
    "exceptions long after your program has started running (see Item 56: “Test Everything\n",
    "with unittest” for how to avoid that). However, these downsides are often better than\n",
    "the alternative of restructuring your entire program."
   ]
  },
  {
   "cell_type": "markdown",
   "metadata": {},
   "source": [
    "* Circular dependencies happen when two modules must call into each other at import time. They can cause your program to crash at startup.\n",
    "* The best way to break a circular dependency is refactoring mutual dependencies into a separate module at the bottom of the dependency tree.\n",
    "* Dynamic imports are the simplest solution for breaking a circular dependency between modules while minimizing refactoring and complexity.\n",
    "\n"
   ]
  }
 ],
 "metadata": {
  "kernelspec": {
   "display_name": "Python 3",
   "language": "python",
   "name": "python3"
  },
  "language_info": {
   "codemirror_mode": {
    "name": "ipython",
    "version": 3
   },
   "file_extension": ".py",
   "mimetype": "text/x-python",
   "name": "python",
   "nbconvert_exporter": "python",
   "pygments_lexer": "ipython3",
   "version": "3.6.3"
  }
 },
 "nbformat": 4,
 "nbformat_minor": 2
}
